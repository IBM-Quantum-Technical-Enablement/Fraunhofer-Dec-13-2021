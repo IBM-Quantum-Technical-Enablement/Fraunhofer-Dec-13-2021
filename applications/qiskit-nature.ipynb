{
 "cells": [
  {
   "cell_type": "markdown",
   "id": "ff948ed9",
   "metadata": {
    "slideshow": {
     "slide_type": "slide"
    }
   },
   "source": [
    "# An Overview of Qiskit Nature\n",
    "<br/>\n",
    "<br/>\n",
    "<br/>\n",
    "<br/>\n",
    "<br/>\n",
    "Pauline J. Ollitrault<br/>\n",
    "IBM Quantum, IBM Research Zürich"
   ]
  },
  {
   "cell_type": "markdown",
   "id": "d36c49b9",
   "metadata": {
    "slideshow": {
     "slide_type": "notes"
    }
   },
   "source": [
    "Qiskit Nature is the application module dealing with problems in **natural sciences**.\n",
    "Its goal is to provide end-user oriented modules which enable the fast solution of problems in _chemistry_, _physics_ and _biology_.\n",
    "\n",
    "Chemistry problems are of particular interest because they are a natural simulation target for quantum computing."
   ]
  },
  {
   "cell_type": "markdown",
   "id": "aaf621a7",
   "metadata": {
    "slideshow": {
     "slide_type": "slide"
    }
   },
   "source": [
    "Nature currently provides the following modules:\n",
    "\n",
    "<img src=\"images/overview.png\" width=\"1400\"/>"
   ]
  },
  {
   "cell_type": "markdown",
   "id": "76adc49c",
   "metadata": {
    "slideshow": {
     "slide_type": "notes"
    }
   },
   "source": [
    "In general, any application is split into **Problems** and **Solvers** which are combined like so:\n",
    "<img src=\"images/Nature_YT_Workflow.svg\"/>\n",
    "> or in terms of code: `result = solver.solve(problem)`\n",
    "\n",
    "This modular approach permits the reusability of a solver for multiple problems."
   ]
  },
  {
   "cell_type": "markdown",
   "id": "374e4fc5",
   "metadata": {
    "slideshow": {
     "slide_type": "notes"
    }
   },
   "source": [
    "Depending on your actual application, the internals of your problem can take different forms.\n",
    "For example, the `ElectronicStructureProblem` looks like this:\n",
    "<img src=\"images/Nature_YT_ElectronicStructureProblem.svg\"/>"
   ]
  },
  {
   "cell_type": "markdown",
   "id": "2880ee4c",
   "metadata": {
    "slideshow": {
     "slide_type": "notes"
    }
   },
   "source": [
    "A similar modularity exists for the solvers. Generally these are provided by the `qiskit_nature.algorihtms` module which provide convenient wrappers of the actual algorithms implement in Qiskit Terra.\n",
    "Here is an example of the `GroundStateEigensolver`:\n",
    "<img src=\"images/Nature_YT_GroundStateEigensolver.svg\"/>"
   ]
  },
  {
   "cell_type": "code",
   "execution_count": 1,
   "id": "979ec946",
   "metadata": {
    "slideshow": {
     "slide_type": "notes"
    }
   },
   "outputs": [],
   "source": [
    "import warnings\n",
    "\n",
    "from h5py.h5py_warnings import H5pyDeprecationWarning\n",
    "from sympy.utilities.exceptions import SymPyDeprecationWarning\n",
    "\n",
    "warnings.filterwarnings(action=\"ignore\", category=H5pyDeprecationWarning)\n",
    "warnings.filterwarnings(action=\"ignore\", category=SymPyDeprecationWarning)"
   ]
  },
  {
   "cell_type": "markdown",
   "id": "968a3c81",
   "metadata": {
    "slideshow": {
     "slide_type": "slide"
    }
   },
   "source": [
    "## 1. Electronic Structure Hamiltonian\n",
    "\n",
    "See also: https://qiskit.org/documentation/nature/tutorials/01_electronic_structure.html"
   ]
  },
  {
   "cell_type": "markdown",
   "id": "c8507a1c",
   "metadata": {
    "slideshow": {
     "slide_type": "notes"
    }
   },
   "source": [
    "The `ElectronicStructureProblem` makes it easy for us to represent a problem in the second quantization form.\n",
    "As an input, this kind of problem takes a so called `Driver` which is a concept in Qiskit Nature that allows us to couple to other (classical) computational chemistry codes which compute the 1- and 2-body integrals for us."
   ]
  },
  {
   "cell_type": "markdown",
   "id": "72bb03f6",
   "metadata": {
    "slideshow": {
     "slide_type": "fragment"
    }
   },
   "source": [
    "As a simple example, we will be using the generic `Molecule`-based interface and tell it to use `PySCF` as the classical computational backend."
   ]
  },
  {
   "cell_type": "code",
   "execution_count": 2,
   "id": "393fb9f5",
   "metadata": {
    "slideshow": {
     "slide_type": "-"
    }
   },
   "outputs": [],
   "source": [
    "from qiskit_nature.drivers import Molecule\n",
    "\n",
    "molecule = Molecule(\n",
    "    # coordinates are given in Angstrom\n",
    "    geometry=[\n",
    "        [\"Li\", [0.0, 0.0, 0.0]],\n",
    "        [\"H\", [0.0, 0.0, 1.6]],\n",
    "    ],\n",
    "    multiplicity=1,  # = 2*spin + 1\n",
    "    charge=0,\n",
    ")"
   ]
  },
  {
   "cell_type": "code",
   "execution_count": 3,
   "id": "e2e66153",
   "metadata": {
    "slideshow": {
     "slide_type": "slide"
    }
   },
   "outputs": [],
   "source": [
    "from qiskit_nature.drivers.second_quantization import ElectronicStructureMoleculeDriver, ElectronicStructureDriverType\n",
    "\n",
    "driver = ElectronicStructureMoleculeDriver(\n",
    "    molecule=molecule,\n",
    "    basis=\"sto3g\",\n",
    "    driver_type=ElectronicStructureDriverType.PYSCF,\n",
    ")"
   ]
  },
  {
   "cell_type": "markdown",
   "id": "c19eb5b0",
   "metadata": {
    "slideshow": {
     "slide_type": "fragment"
    }
   },
   "source": [
    "We could now run the driver manually by calling `driver.run()` but the preferred way is to wrap it into the previously mentioned `ElectronicStructureProblem` which we can solve later on."
   ]
  },
  {
   "cell_type": "code",
   "execution_count": 4,
   "id": "860f334e",
   "metadata": {
    "slideshow": {
     "slide_type": "-"
    }
   },
   "outputs": [],
   "source": [
    "from qiskit_nature.problems.second_quantization.electronic import ElectronicStructureProblem\n",
    "\n",
    "problem = ElectronicStructureProblem(driver)"
   ]
  },
  {
   "cell_type": "markdown",
   "id": "bc09297a",
   "metadata": {
    "slideshow": {
     "slide_type": "slide"
    }
   },
   "source": [
    "Out of curiosity let us inspect the Hamiltonian of our system in its second-quantized form:"
   ]
  },
  {
   "cell_type": "code",
   "execution_count": 5,
   "id": "c9a06b03",
   "metadata": {
    "slideshow": {
     "slide_type": "-"
    }
   },
   "outputs": [],
   "source": [
    "# this will call driver.run() internally\n",
    "second_q_ops = problem.second_q_ops()"
   ]
  },
  {
   "cell_type": "code",
   "execution_count": 6,
   "id": "dc037629",
   "metadata": {
    "slideshow": {
     "slide_type": "notes"
    }
   },
   "outputs": [],
   "source": [
    "from qiskit_nature.operators.second_quantization import FermionicOp\n",
    "\n",
    "# we increase the truncation value of the FermionicOp applied while printing\n",
    "FermionicOp.set_truncation(500)"
   ]
  },
  {
   "cell_type": "code",
   "execution_count": 7,
   "id": "3c57e710",
   "metadata": {
    "scrolled": true,
    "slideshow": {
     "slide_type": "-"
    }
   },
   "outputs": [
    {
     "name": "stdout",
     "output_type": "stream",
     "text": [
      "Fermionic Operator\n",
      "register length=12, number terms=630\n",
      "  (0.0011296372513019074+0j) * ( +_0 +_1 -_2 -_5 )\n",
      "+ (-0.005356076256879888+0j) * ( +_0 -_1 +_2 -_5 )\n",
      "+ (0.004226439005578+0j) * ( +_0 -_1 -_2 +_5 )\n",
      "+ (0.013337578188187121+0j) * ( +_0 -_1 +_6 -_7 )\n",
      "+ (0.011215774496185375+0j) * ( +_0 -_1 +_6 -_8 )\n",
      "+ (-0.008906674605061742+0j) * ( +_0 -_1 +_6 -_11 )\n",
      "+ (-0.013337578188187106+0j) * ( +_0 -_1 -_6 +_7 )\n",
      "+ (-0.011215774496185361+0j) * ( +_0 -_1 -_6 +_8 )\n",
      "+ (0.00890667460506174+0j) * ( +_0 -_1 -_6 +_11 )\n",
      "+ (-0.003349390720902146+0j) * ( +_0 -_1 +_ ...\n"
     ]
    }
   ],
   "source": [
    "hamiltonian = second_q_ops[0]\n",
    "print(hamiltonian)"
   ]
  },
  {
   "cell_type": "markdown",
   "id": "5a160f45",
   "metadata": {
    "slideshow": {
     "slide_type": "slide"
    }
   },
   "source": [
    "We can gain further insight by investigating the raw output of our driver (see also: https://qiskit.org/documentation/nature/tutorials/08_property_framework.html):"
   ]
  },
  {
   "cell_type": "code",
   "execution_count": 8,
   "id": "ab724989",
   "metadata": {
    "scrolled": true,
    "slideshow": {
     "slide_type": "-"
    }
   },
   "outputs": [
    {
     "name": "stdout",
     "output_type": "stream",
     "text": [
      "ElectronicStructureDriverResult:\n",
      "\tDriverMetadata:\n",
      "\t\tProgram: PYSCF\n",
      "\t\tVersion: 1.7.6\n",
      "\t\tConfig:\n",
      "\t\t\tatom=Li 0.0 0.0 0.0;H 0.0 0.0 1.6\n",
      "\t\t\tunit=Angstrom\n",
      "\t\t\tcharge=0\n",
      "\t\t\tspin=0\n",
      "\t\t\tbasis=sto3g\n",
      "\t\t\tmethod=rhf\n",
      "\t\t\tconv_tol=1e-09\n",
      "\t\t\tmax_cycle=50\n",
      "\t\t\tinit_guess=minao\n",
      "\t\t\tmax_memory=4000\n",
      "\t\t\t\n",
      "\tElectronicBasisTransform:\n",
      "\t\tInitial basis: atomic\n",
      "\t\tFinal basis: molecular\n",
      "\t\tAlpha coefficients:\n",
      "\t\t[0, 0] = 0.9912505281384083\n",
      "\t\t[0, 1] = -0.16708957810826783\n",
      "\t\t[0, 2] = -0.21004274416106097\n",
      "\t\t[0, 3] = 3.183872705625983e-17\n",
      "\t\t[0, 4] = -3.3354922330541735e-17\n",
      "\t\t[0, 5] = 0.09345849809002903\n",
      "\t\t[1, 0] = 0.032706585262515575\n",
      "\t\t[1, 1] = 0.45524436150203706\n",
      "\t\t[1, 2] = 0.7995433555171559\n",
      "\t\t[1, 3] = -1.5907840172738894e-16\n",
      "\t\t[1, 4] = 1.5629201017731932e-16\n",
      "\t\t[1, 5] = -0.7026838049076962\n",
      "\t\t[2, 0] = 9.911223768815312e-19\n",
      "\t\t[2, 1] = -1.9645135300508828e-16\n",
      "\t\t[2, 2] = 3.2842484045142025e-17\n",
      "\t\t[2, 3] = 0.280650214962163\n",
      "\t\t[2, 4] = 0.9598101149923837\n",
      "\t\t[2, 5] = -6.867909053414926e-18\n",
      "\t\t[3, 0] = -1.3113514023274476e-20\n",
      "\t\t[3, 1] = -2.7582723864972634e-17\n",
      "\t\t[3, 2] = 1.6593185856946906e-16\n",
      "\t\t[3, 3] = 0.9598101149923837\n",
      "\t\t[3, 4] = -0.2806502149621631\n",
      "\t\t[3, 5] = -1.1076804787729706e-16\n",
      "\t\t[4, 0] = -0.006308375221800425\n",
      "\t\t[4, 1] = 0.34602106947879924\n",
      "\t\t[4, 2] = -0.612070072380826\n",
      "\t\t[4, 3] = -2.6619485919262696e-17\n",
      "\t\t[4, 4] = -6.357629878858976e-17\n",
      "\t\t[4, 5] = -0.9794558934118096\n",
      "\t\t[5, 0] = 0.004353055235511364\n",
      "\t\t[5, 1] = 0.5490785666907155\n",
      "\t\t[5, 2] = -0.14016640480660894\n",
      "\t\t[5, 3] = 1.3985955143896012e-16\n",
      "\t\t[5, 4] = -1.3784135941692563e-16\n",
      "\t\t[5, 5] = 1.184722802524908\n",
      "\t\tBeta coefficients:\n",
      "\t\t[0, 0] = 0.9912505281384083\n",
      "\t\t[0, 1] = -0.16708957810826783\n",
      "\t\t[0, 2] = -0.21004274416106097\n",
      "\t\t[0, 3] = 3.183872705625983e-17\n",
      "\t\t[0, 4] = -3.3354922330541735e-17\n",
      "\t\t[0, 5] = 0.09345849809002903\n",
      "\t\t[1, 0] = 0.032706585262515575\n",
      "\t\t[1, 1] = 0.45524436150203706\n",
      "\t\t[1, 2] = 0.7995433555171559\n",
      "\t\t[1, 3] = -1.5907840172738894e-16\n",
      "\t\t[1, 4] = 1.5629201017731932e-16\n",
      "\t\t[1, 5] = -0.7026838049076962\n",
      "\t\t[2, 0] = 9.911223768815312e-19\n",
      "\t\t[2, 1] = -1.9645135300508828e-16\n",
      "\t\t[2, 2] = 3.2842484045142025e-17\n",
      "\t\t[2, 3] = 0.280650214962163\n",
      "\t\t[2, 4] = 0.9598101149923837\n",
      "\t\t[2, 5] = -6.867909053414926e-18\n",
      "\t\t[3, 0] = -1.3113514023274476e-20\n",
      "\t\t[3, 1] = -2.7582723864972634e-17\n",
      "\t\t[3, 2] = 1.6593185856946906e-16\n",
      "\t\t[3, 3] = 0.9598101149923837\n",
      "\t\t[3, 4] = -0.2806502149621631\n",
      "\t\t[3, 5] = -1.1076804787729706e-16\n",
      "\t\t[4, 0] = -0.006308375221800425\n",
      "\t\t[4, 1] = 0.34602106947879924\n",
      "\t\t[4, 2] = -0.612070072380826\n",
      "\t\t[4, 3] = -2.6619485919262696e-17\n",
      "\t\t[4, 4] = -6.357629878858976e-17\n",
      "\t\t[4, 5] = -0.9794558934118096\n",
      "\t\t[5, 0] = 0.004353055235511364\n",
      "\t\t[5, 1] = 0.5490785666907155\n",
      "\t\t[5, 2] = -0.14016640480660894\n",
      "\t\t[5, 3] = 1.3985955143896012e-16\n",
      "\t\t[5, 4] = -1.3784135941692563e-16\n",
      "\t\t[5, 5] = 1.184722802524908\n",
      "\tParticleNumber:\n",
      "\t\t12 SOs\n",
      "\t\t2 alpha electrons\n",
      "\t\t\torbital occupation: [1. 1. 0. 0. 0. 0.]\n",
      "\t\t2 beta electrons\n",
      "\t\t\torbital occupation: [1. 1. 0. 0. 0. 0.]\n",
      "\tElectronicEnergy\n",
      "\t\t(AO) 1-Body Terms:\n",
      "\t\t\tAlpha\n",
      "\t\t\t<(6, 6) matrix with 18 non-zero entries>\n",
      "\t\t\t[0, 0] = -4.736830707386057\n",
      "\t\t\t[0, 1] = -1.064329039035655\n",
      "\t\t\t[0, 4] = -0.01609889157782507\n",
      "\t\t\t[0, 5] = -0.3021889278653296\n",
      "\t\t\t[1, 0] = -1.064329039035655\n",
      "\t\t\t... skipping 13 entries\n",
      "\t\t\tBeta\n",
      "\t\t\t<(6, 6) matrix with 18 non-zero entries>\n",
      "\t\t\t[0, 0] = -4.736830707386057\n",
      "\t\t\t[0, 1] = -1.064329039035655\n",
      "\t\t\t[0, 4] = -0.01609889157782507\n",
      "\t\t\t[0, 5] = -0.3021889278653296\n",
      "\t\t\t[1, 0] = -1.064329039035655\n",
      "\t\t\t... skipping 13 entries\n",
      "\t\t(AO) 2-Body Terms:\n",
      "\t\t\tAlpha-Alpha\n",
      "\t\t\t<(6, 6, 6, 6) matrix with 368 non-zero entries>\n",
      "\t\t\t[0, 0, 0, 0] = 1.6803951695337487\n",
      "\t\t\t[0, 0, 0, 1] = 0.26542036460780716\n",
      "\t\t\t[0, 0, 0, 5] = 0.07122500203356992\n",
      "\t\t\t[0, 0, 1, 0] = 0.26542036460780705\n",
      "\t\t\t[0, 0, 1, 1] = 0.3977268610897301\n",
      "\t\t\t... skipping 363 entries\n",
      "\t\t\tBeta-Alpha\n",
      "\t\t\t<(6, 6, 6, 6) matrix with 368 non-zero entries>\n",
      "\t\t\t[0, 0, 0, 0] = 1.6803951695337487\n",
      "\t\t\t[0, 0, 0, 1] = 0.26542036460780716\n",
      "\t\t\t[0, 0, 0, 5] = 0.07122500203356992\n",
      "\t\t\t[0, 0, 1, 0] = 0.26542036460780705\n",
      "\t\t\t[0, 0, 1, 1] = 0.3977268610897301\n",
      "\t\t\t... skipping 363 entries\n",
      "\t\t\tBeta-Beta\n",
      "\t\t\t<(6, 6, 6, 6) matrix with 368 non-zero entries>\n",
      "\t\t\t[0, 0, 0, 0] = 1.6803951695337487\n",
      "\t\t\t[0, 0, 0, 1] = 0.26542036460780716\n",
      "\t\t\t[0, 0, 0, 5] = 0.07122500203356992\n",
      "\t\t\t[0, 0, 1, 0] = 0.26542036460780705\n",
      "\t\t\t[0, 0, 1, 1] = 0.3977268610897301\n",
      "\t\t\t... skipping 363 entries\n",
      "\t\t\tAlpha-Beta\n",
      "\t\t\t<(6, 6, 6, 6) matrix with 368 non-zero entries>\n",
      "\t\t\t[0, 0, 0, 0] = 1.6803951695337487\n",
      "\t\t\t[0, 0, 0, 1] = 0.26542036460780716\n",
      "\t\t\t[0, 0, 0, 5] = 0.07122500203356992\n",
      "\t\t\t[0, 0, 1, 0] = 0.26542036460780705\n",
      "\t\t\t[0, 0, 1, 1] = 0.3977268610897301\n",
      "\t\t\t... skipping 363 entries\n",
      "\t\t(MO) 1-Body Terms:\n",
      "\t\t\tAlpha\n",
      "\t\t\t<(6, 6) matrix with 18 non-zero entries>\n",
      "\t\t\t[0, 0] = -4.727393127807865\n",
      "\t\t\t[0, 1] = 0.10549967594605425\n",
      "\t\t\t[0, 2] = 0.1669614090273325\n",
      "\t\t\t[0, 5] = -0.03467720459108987\n",
      "\t\t\t[1, 0] = 0.10549967594605415\n",
      "\t\t\t... skipping 13 entries\n",
      "\t\t\tBeta\n",
      "\t\t\t<(6, 6) matrix with 18 non-zero entries>\n",
      "\t\t\t[0, 0] = -4.727393127807865\n",
      "\t\t\t[0, 1] = 0.10549967594605425\n",
      "\t\t\t[0, 2] = 0.1669614090273325\n",
      "\t\t\t[0, 5] = -0.03467720459108987\n",
      "\t\t\t[1, 0] = 0.10549967594605415\n",
      "\t\t\t... skipping 13 entries\n",
      "\t\t(MO) 2-Body Terms:\n",
      "\t\t\tAlpha-Alpha\n",
      "\t\t\t<(6, 6, 6, 6) matrix with 456 non-zero entries>\n",
      "\t\t\t[0, 0, 0, 0] = 1.6585666868445055\n",
      "\t\t\t[0, 0, 0, 1] = -0.11170997648954589\n",
      "\t\t\t[0, 0, 0, 2] = -0.1385746296990445\n",
      "\t\t\t[0, 0, 0, 5] = 0.0530450230552229\n",
      "\t\t\t[0, 0, 1, 0] = -0.11170997648954593\n",
      "\t\t\t... skipping 451 entries\n",
      "\t\t\tBeta-Alpha\n",
      "\t\t\t<(6, 6, 6, 6) matrix with 456 non-zero entries>\n",
      "\t\t\t[0, 0, 0, 0] = 1.6585666868445055\n",
      "\t\t\t[0, 0, 0, 1] = -0.11170997648954589\n",
      "\t\t\t[0, 0, 0, 2] = -0.1385746296990445\n",
      "\t\t\t[0, 0, 0, 5] = 0.0530450230552229\n",
      "\t\t\t[0, 0, 1, 0] = -0.11170997648954593\n",
      "\t\t\t... skipping 451 entries\n",
      "\t\t\tBeta-Beta\n",
      "\t\t\t<(6, 6, 6, 6) matrix with 456 non-zero entries>\n",
      "\t\t\t[0, 0, 0, 0] = 1.6585666868445055\n",
      "\t\t\t[0, 0, 0, 1] = -0.11170997648954589\n",
      "\t\t\t[0, 0, 0, 2] = -0.1385746296990445\n",
      "\t\t\t[0, 0, 0, 5] = 0.0530450230552229\n",
      "\t\t\t[0, 0, 1, 0] = -0.11170997648954593\n",
      "\t\t\t... skipping 451 entries\n",
      "\t\t\tAlpha-Beta\n",
      "\t\t\t<(6, 6, 6, 6) matrix with 456 non-zero entries>\n",
      "\t\t\t[0, 0, 0, 0] = 1.6585666868445055\n",
      "\t\t\t[0, 0, 0, 1] = -0.11170997648954589\n",
      "\t\t\t[0, 0, 0, 2] = -0.1385746296990445\n",
      "\t\t\t[0, 0, 0, 5] = 0.0530450230552229\n",
      "\t\t\t[0, 0, 1, 0] = -0.11170997648954593\n",
      "\t\t\t... skipping 451 entries\n",
      "\tElectronicDipoleMoment:\n",
      "\t\tDipoleMomentX\n",
      "\t\t\t(AO) 1-Body Terms:\n",
      "\t\t\t\tAlpha\n",
      "\t\t\t\t<(6, 6) matrix with 6 non-zero entries>\n",
      "\t\t\t\t[0, 2] = 0.14723997517578358\n",
      "\t\t\t\t[1, 2] = 1.8032983195284726\n",
      "\t\t\t\t[2, 0] = 0.14723997517578358\n",
      "\t\t\t\t[2, 1] = 1.8032983195284726\n",
      "\t\t\t\t[2, 5] = 0.3274382486433087\n",
      "\t\t\t\t... skipping 1 entries\n",
      "\t\t\t\tBeta\n",
      "\t\t\t\t<(6, 6) matrix with 6 non-zero entries>\n",
      "\t\t\t\t[0, 2] = 0.14723997517578358\n",
      "\t\t\t\t[1, 2] = 1.8032983195284726\n",
      "\t\t\t\t[2, 0] = 0.14723997517578358\n",
      "\t\t\t\t[2, 1] = 1.8032983195284726\n",
      "\t\t\t\t[2, 5] = 0.3274382486433087\n",
      "\t\t\t\t... skipping 1 entries\n",
      "\t\t\t(MO) 1-Body Terms:\n",
      "\t\t\t\tAlpha\n",
      "\t\t\t\t<(6, 6) matrix with 16 non-zero entries>\n",
      "\t\t\t\t[0, 3] = 0.05791407752293415\n",
      "\t\t\t\t[0, 4] = 0.1980633345121769\n",
      "\t\t\t\t[1, 3] = 0.27395065959918247\n",
      "\t\t\t\t[1, 4] = 0.936897960785742\n",
      "\t\t\t\t[2, 3] = 0.38308548312791757\n",
      "\t\t\t\t... skipping 11 entries\n",
      "\t\t\t\tBeta\n",
      "\t\t\t\t<(6, 6) matrix with 16 non-zero entries>\n",
      "\t\t\t\t[0, 3] = 0.05791407752293415\n",
      "\t\t\t\t[0, 4] = 0.1980633345121769\n",
      "\t\t\t\t[1, 3] = 0.27395065959918247\n",
      "\t\t\t\t[1, 4] = 0.936897960785742\n",
      "\t\t\t\t[2, 3] = 0.38308548312791757\n",
      "\t\t\t\t... skipping 11 entries\n",
      "\t\tDipoleMomentY\n",
      "\t\t\t(AO) 1-Body Terms:\n",
      "\t\t\t\tAlpha\n",
      "\t\t\t\t<(6, 6) matrix with 6 non-zero entries>\n",
      "\t\t\t\t[0, 3] = 0.14723997517578358\n",
      "\t\t\t\t[1, 3] = 1.8032983195284726\n",
      "\t\t\t\t[3, 0] = 0.14723997517578358\n",
      "\t\t\t\t[3, 1] = 1.8032983195284726\n",
      "\t\t\t\t[3, 5] = 0.3274382486433087\n",
      "\t\t\t\t... skipping 1 entries\n",
      "\t\t\t\tBeta\n",
      "\t\t\t\t<(6, 6) matrix with 6 non-zero entries>\n",
      "\t\t\t\t[0, 3] = 0.14723997517578358\n",
      "\t\t\t\t[1, 3] = 1.8032983195284726\n",
      "\t\t\t\t[3, 0] = 0.14723997517578358\n",
      "\t\t\t\t[3, 1] = 1.8032983195284726\n",
      "\t\t\t\t[3, 5] = 0.3274382486433087\n",
      "\t\t\t\t... skipping 1 entries\n",
      "\t\t\t(MO) 1-Body Terms:\n",
      "\t\t\t\tAlpha\n",
      "\t\t\t\t<(6, 6) matrix with 16 non-zero entries>\n",
      "\t\t\t\t[0, 3] = 0.1980633345121769\n",
      "\t\t\t\t[0, 4] = -0.057914077522934156\n",
      "\t\t\t\t[1, 3] = 0.936897960785742\n",
      "\t\t\t\t[1, 4] = -0.2739506595991825\n",
      "\t\t\t\t[2, 3] = 1.3101337608542039\n",
      "\t\t\t\t... skipping 11 entries\n",
      "\t\t\t\tBeta\n",
      "\t\t\t\t<(6, 6) matrix with 16 non-zero entries>\n",
      "\t\t\t\t[0, 3] = 0.1980633345121769\n",
      "\t\t\t\t[0, 4] = -0.057914077522934156\n",
      "\t\t\t\t[1, 3] = 0.936897960785742\n",
      "\t\t\t\t[1, 4] = -0.2739506595991825\n",
      "\t\t\t\t[2, 3] = 1.3101337608542039\n",
      "\t\t\t\t... skipping 11 entries\n",
      "\t\tDipoleMomentZ\n",
      "\t\t\t(AO) 1-Body Terms:\n",
      "\t\t\t\tAlpha\n",
      "\t\t\t\t<(6, 6) matrix with 11 non-zero entries>\n",
      "\t\t\t\t[0, 4] = 0.14723997517578358\n",
      "\t\t\t\t[0, 5] = 0.03632948886313758\n",
      "\t\t\t\t[1, 4] = 1.8032983195284726\n",
      "\t\t\t\t[1, 5] = 0.9391961606693731\n",
      "\t\t\t\t[4, 0] = 0.14723997517578358\n",
      "\t\t\t\t... skipping 6 entries\n",
      "\t\t\t\tBeta\n",
      "\t\t\t\t<(6, 6) matrix with 11 non-zero entries>\n",
      "\t\t\t\t[0, 4] = 0.14723997517578358\n",
      "\t\t\t\t[0, 5] = 0.03632948886313758\n",
      "\t\t\t\t[1, 4] = 1.8032983195284726\n",
      "\t\t\t\t[1, 5] = 0.9391961606693731\n",
      "\t\t\t\t[4, 0] = 0.14723997517578358\n",
      "\t\t\t\t... skipping 6 entries\n",
      "\t\t\t(MO) 1-Body Terms:\n",
      "\t\t\t\tAlpha\n",
      "\t\t\t\t<(6, 6) matrix with 16 non-zero entries>\n",
      "\t\t\t\t[0, 0] = -0.002025957117172651\n",
      "\t\t\t\t[0, 1] = 0.10878552712785264\n",
      "\t\t\t\t[0, 2] = -0.1448440974842943\n",
      "\t\t\t\t[0, 5] = -0.1178290412090635\n",
      "\t\t\t\t[1, 0] = 0.10878552712785265\n",
      "\t\t\t\t... skipping 11 entries\n",
      "\t\t\t\tBeta\n",
      "\t\t\t\t<(6, 6) matrix with 16 non-zero entries>\n",
      "\t\t\t\t[0, 0] = -0.002025957117172651\n",
      "\t\t\t\t[0, 1] = 0.10878552712785264\n",
      "\t\t\t\t[0, 2] = -0.1448440974842943\n",
      "\t\t\t\t[0, 5] = -0.1178290412090635\n",
      "\t\t\t\t[1, 0] = 0.10878552712785265\n",
      "\t\t\t\t... skipping 11 entries\n",
      "\tAngularMomentum:\n",
      "\t\t12 SOs\n",
      "\tMagnetization:\n",
      "\t\t12 SOs\n",
      "Molecule:\n",
      "\tMultiplicity: 1\n",
      "\tCharge: 0\n",
      "\tGeometry:\n",
      "\t\tLi\t[0.0, 0.0, 0.0]\n",
      "\t\tH\t[0.0, 0.0, 3.0235617993040993]\n",
      "\tMasses:\n",
      "\t\tLi\t7\n",
      "\t\tH\t1\n"
     ]
    }
   ],
   "source": [
    "print(problem.grouped_property)"
   ]
  },
  {
   "cell_type": "markdown",
   "id": "96673a36",
   "metadata": {
    "slideshow": {
     "slide_type": "slide"
    }
   },
   "source": [
    "<div style=\"float: left; width: 50%;\">\n",
    "    We can reduce the size of our problem by selected a subset of orbitals to be treated with the quantum algorithm. This concept is known as an <b>active space</b>.\n",
    "</div>\n",
    "<div style=\"float: right; width: 50%; padding-right=20px;\">\n",
    "    <img src=\"images/active_space.png\" width=\"600\"/>\n",
    "</div>"
   ]
  },
  {
   "cell_type": "markdown",
   "id": "c09d9f46",
   "metadata": {
    "slideshow": {
     "slide_type": "slide"
    }
   },
   "source": [
    "Qiskit Nature provides the generic `ActiveSpaceTransformer` to apply such a reduction:"
   ]
  },
  {
   "cell_type": "code",
   "execution_count": 9,
   "id": "0a9b1989",
   "metadata": {
    "slideshow": {
     "slide_type": "fragment"
    }
   },
   "outputs": [],
   "source": [
    "from qiskit_nature.transformers.second_quantization.electronic import ActiveSpaceTransformer\n",
    "\n",
    "transformer = ActiveSpaceTransformer(\n",
    "    num_electrons=2,\n",
    "    num_molecular_orbitals=3,\n",
    ")"
   ]
  },
  {
   "cell_type": "code",
   "execution_count": 10,
   "id": "56428273",
   "metadata": {
    "slideshow": {
     "slide_type": "fragment"
    }
   },
   "outputs": [],
   "source": [
    "problem_reduced = ElectronicStructureProblem(driver, [transformer])\n",
    "second_q_ops_reduced = problem_reduced.second_q_ops()\n",
    "hamiltonian_reduced = second_q_ops_reduced[0]"
   ]
  },
  {
   "cell_type": "code",
   "execution_count": 11,
   "id": "411905da",
   "metadata": {
    "slideshow": {
     "slide_type": "-"
    }
   },
   "outputs": [
    {
     "name": "stdout",
     "output_type": "stream",
     "text": [
      "Fermionic Operator\n",
      "register length=6, number terms=61\n",
      "  (0.013063981998647733+0j) * ( +_0 -_1 +_3 -_4 )\n",
      "+ (-0.013063981998647747+0j) * ( +_0 -_1 -_3 +_4 )\n",
      "+ (0.04857959952050992+0j) * ( +_0 -_1 )\n",
      "+ (0.005767502046081511+0j) * ( +_0 -_1 +_5 -_5 )\n",
      "+ (0.007484171005675162+0j) * ( +_0 -_1 +_4 -_4 )\n",
      "+ (-0.048579588912290195+0j) * ( +_0 -_1 +_3 -_3 )\n",
      "+ (-0.01350939040244916+0j) * ( +_0 -_1 +_2 -_2 )\n",
      "+ (0.023422673239778494+0j) * ( +_0 -_2 +_3 -_5 )\n",
      "+ (-0.023422673239778494+0j) * ( +_0 -_2 -_3 +_5 )\n",
      "+ (0.019276892448530668+0j) * ( +_0 -_2 +_4 -_5 )\n",
      "+  ...\n"
     ]
    }
   ],
   "source": [
    "print(hamiltonian_reduced)"
   ]
  },
  {
   "cell_type": "code",
   "execution_count": 12,
   "id": "261a9db6",
   "metadata": {
    "scrolled": true,
    "slideshow": {
     "slide_type": "slide"
    }
   },
   "outputs": [
    {
     "name": "stdout",
     "output_type": "stream",
     "text": [
      "ElectronicStructureDriverResult:\n",
      "\tDriverMetadata:\n",
      "\t\tProgram: PYSCF\n",
      "\t\tVersion: 1.7.6\n",
      "\t\tConfig:\n",
      "\t\t\tatom=Li 0.0 0.0 0.0;H 0.0 0.0 1.6\n",
      "\t\t\tunit=Angstrom\n",
      "\t\t\tcharge=0\n",
      "\t\t\tspin=0\n",
      "\t\t\tbasis=sto3g\n",
      "\t\t\tmethod=rhf\n",
      "\t\t\tconv_tol=1e-09\n",
      "\t\t\tmax_cycle=50\n",
      "\t\t\tinit_guess=minao\n",
      "\t\t\tmax_memory=4000\n",
      "\t\t\t\n",
      "\tElectronicBasisTransform:\n",
      "\t\tInitial basis: atomic\n",
      "\t\tFinal basis: molecular\n",
      "\t\tAlpha coefficients:\n",
      "\t\t[0, 0] = 0.9912505281384083\n",
      "\t\t[0, 1] = -0.16708957810826783\n",
      "\t\t[0, 2] = -0.21004274416106097\n",
      "\t\t[0, 3] = 3.183872705625983e-17\n",
      "\t\t[0, 4] = -3.3354922330541735e-17\n",
      "\t\t[0, 5] = 0.09345849809002903\n",
      "\t\t[1, 0] = 0.032706585262515575\n",
      "\t\t[1, 1] = 0.45524436150203706\n",
      "\t\t[1, 2] = 0.7995433555171559\n",
      "\t\t[1, 3] = -1.5907840172738894e-16\n",
      "\t\t[1, 4] = 1.5629201017731932e-16\n",
      "\t\t[1, 5] = -0.7026838049076962\n",
      "\t\t[2, 0] = 9.911223768815312e-19\n",
      "\t\t[2, 1] = -1.9645135300508828e-16\n",
      "\t\t[2, 2] = 3.2842484045142025e-17\n",
      "\t\t[2, 3] = 0.280650214962163\n",
      "\t\t[2, 4] = 0.9598101149923837\n",
      "\t\t[2, 5] = -6.867909053414926e-18\n",
      "\t\t[3, 0] = -1.3113514023274476e-20\n",
      "\t\t[3, 1] = -2.7582723864972634e-17\n",
      "\t\t[3, 2] = 1.6593185856946906e-16\n",
      "\t\t[3, 3] = 0.9598101149923837\n",
      "\t\t[3, 4] = -0.2806502149621631\n",
      "\t\t[3, 5] = -1.1076804787729706e-16\n",
      "\t\t[4, 0] = -0.006308375221800425\n",
      "\t\t[4, 1] = 0.34602106947879924\n",
      "\t\t[4, 2] = -0.612070072380826\n",
      "\t\t[4, 3] = -2.6619485919262696e-17\n",
      "\t\t[4, 4] = -6.357629878858976e-17\n",
      "\t\t[4, 5] = -0.9794558934118096\n",
      "\t\t[5, 0] = 0.004353055235511364\n",
      "\t\t[5, 1] = 0.5490785666907155\n",
      "\t\t[5, 2] = -0.14016640480660894\n",
      "\t\t[5, 3] = 1.3985955143896012e-16\n",
      "\t\t[5, 4] = -1.3784135941692563e-16\n",
      "\t\t[5, 5] = 1.184722802524908\n",
      "\t\tBeta coefficients:\n",
      "\t\t[0, 0] = 0.9912505281384083\n",
      "\t\t[0, 1] = -0.16708957810826783\n",
      "\t\t[0, 2] = -0.21004274416106097\n",
      "\t\t[0, 3] = 3.183872705625983e-17\n",
      "\t\t[0, 4] = -3.3354922330541735e-17\n",
      "\t\t[0, 5] = 0.09345849809002903\n",
      "\t\t[1, 0] = 0.032706585262515575\n",
      "\t\t[1, 1] = 0.45524436150203706\n",
      "\t\t[1, 2] = 0.7995433555171559\n",
      "\t\t[1, 3] = -1.5907840172738894e-16\n",
      "\t\t[1, 4] = 1.5629201017731932e-16\n",
      "\t\t[1, 5] = -0.7026838049076962\n",
      "\t\t[2, 0] = 9.911223768815312e-19\n",
      "\t\t[2, 1] = -1.9645135300508828e-16\n",
      "\t\t[2, 2] = 3.2842484045142025e-17\n",
      "\t\t[2, 3] = 0.280650214962163\n",
      "\t\t[2, 4] = 0.9598101149923837\n",
      "\t\t[2, 5] = -6.867909053414926e-18\n",
      "\t\t[3, 0] = -1.3113514023274476e-20\n",
      "\t\t[3, 1] = -2.7582723864972634e-17\n",
      "\t\t[3, 2] = 1.6593185856946906e-16\n",
      "\t\t[3, 3] = 0.9598101149923837\n",
      "\t\t[3, 4] = -0.2806502149621631\n",
      "\t\t[3, 5] = -1.1076804787729706e-16\n",
      "\t\t[4, 0] = -0.006308375221800425\n",
      "\t\t[4, 1] = 0.34602106947879924\n",
      "\t\t[4, 2] = -0.612070072380826\n",
      "\t\t[4, 3] = -2.6619485919262696e-17\n",
      "\t\t[4, 4] = -6.357629878858976e-17\n",
      "\t\t[4, 5] = -0.9794558934118096\n",
      "\t\t[5, 0] = 0.004353055235511364\n",
      "\t\t[5, 1] = 0.5490785666907155\n",
      "\t\t[5, 2] = -0.14016640480660894\n",
      "\t\t[5, 3] = 1.3985955143896012e-16\n",
      "\t\t[5, 4] = -1.3784135941692563e-16\n",
      "\t\t[5, 5] = 1.184722802524908\n",
      "\tParticleNumber:\n",
      "\t\t6 SOs\n",
      "\t\t1 alpha electrons\n",
      "\t\t\torbital occupation: [1. 0. 0.]\n",
      "\t\t1 beta electrons\n",
      "\t\t\torbital occupation: [1. 0. 0.]\n",
      "\tElectronicEnergy\n",
      "\t\t(AO) 1-Body Terms:\n",
      "\t\t\tAlpha\n",
      "\t\t\t<(6, 6) matrix with 18 non-zero entries>\n",
      "\t\t\t[0, 0] = -3.0669841128847875\n",
      "\t\t\t[0, 1] = -0.8119297301540703\n",
      "\t\t\t[0, 4] = -0.014543661111938846\n",
      "\t\t\t[0, 5] = -0.23602266561581464\n",
      "\t\t\t[1, 0] = -0.8119297301540704\n",
      "\t\t\t... skipping 13 entries\n",
      "\t\t\tBeta\n",
      "\t\t\t<(6, 6) matrix with 18 non-zero entries>\n",
      "\t\t\t[0, 0] = -3.0669841128847875\n",
      "\t\t\t[0, 1] = -0.8119297301540703\n",
      "\t\t\t[0, 4] = -0.014543661111938846\n",
      "\t\t\t[0, 5] = -0.23602266561581464\n",
      "\t\t\t[1, 0] = -0.8119297301540704\n",
      "\t\t\t... skipping 13 entries\n",
      "\t\t(AO) 2-Body Terms:\n",
      "\t\t\tAlpha-Alpha\n",
      "\t\t\t<(6, 6, 6, 6) matrix with 368 non-zero entries>\n",
      "\t\t\t[0, 0, 0, 0] = 1.6803951695337487\n",
      "\t\t\t[0, 0, 0, 1] = 0.26542036460780716\n",
      "\t\t\t[0, 0, 0, 5] = 0.07122500203356992\n",
      "\t\t\t[0, 0, 1, 0] = 0.26542036460780705\n",
      "\t\t\t[0, 0, 1, 1] = 0.3977268610897301\n",
      "\t\t\t... skipping 363 entries\n",
      "\t\t\tBeta-Alpha\n",
      "\t\t\t<(6, 6, 6, 6) matrix with 368 non-zero entries>\n",
      "\t\t\t[0, 0, 0, 0] = 1.6803951695337487\n",
      "\t\t\t[0, 0, 0, 1] = 0.26542036460780716\n",
      "\t\t\t[0, 0, 0, 5] = 0.07122500203356992\n",
      "\t\t\t[0, 0, 1, 0] = 0.26542036460780705\n",
      "\t\t\t[0, 0, 1, 1] = 0.3977268610897301\n",
      "\t\t\t... skipping 363 entries\n",
      "\t\t\tBeta-Beta\n",
      "\t\t\t<(6, 6, 6, 6) matrix with 368 non-zero entries>\n",
      "\t\t\t[0, 0, 0, 0] = 1.6803951695337487\n",
      "\t\t\t[0, 0, 0, 1] = 0.26542036460780716\n",
      "\t\t\t[0, 0, 0, 5] = 0.07122500203356992\n",
      "\t\t\t[0, 0, 1, 0] = 0.26542036460780705\n",
      "\t\t\t[0, 0, 1, 1] = 0.3977268610897301\n",
      "\t\t\t... skipping 363 entries\n",
      "\t\t\tAlpha-Beta\n",
      "\t\t\t<(6, 6, 6, 6) matrix with 368 non-zero entries>\n",
      "\t\t\t[0, 0, 0, 0] = 1.6803951695337487\n",
      "\t\t\t[0, 0, 0, 1] = 0.26542036460780716\n",
      "\t\t\t[0, 0, 0, 5] = 0.07122500203356992\n",
      "\t\t\t[0, 0, 1, 0] = 0.26542036460780705\n",
      "\t\t\t[0, 0, 1, 1] = 0.3977268610897301\n",
      "\t\t\t... skipping 363 entries\n",
      "\t\t(MO) 1-Body Terms:\n",
      "\t\t\tAlpha\n",
      "\t\t\t<(3, 3) matrix with 5 non-zero entries>\n",
      "\t\t\t[0, 0] = -0.7725817200726316\n",
      "\t\t\t[0, 1] = 0.04857959952050992\n",
      "\t\t\t[1, 0] = 0.04857959952050994\n",
      "\t\t\t[1, 1] = -0.35593954266029343\n",
      "\t\t\t[2, 2] = -0.35297896520254896\n",
      "\t\t\tBeta\n",
      "\t\t\t<(3, 3) matrix with 5 non-zero entries>\n",
      "\t\t\t[0, 0] = -0.7725817200726316\n",
      "\t\t\t[0, 1] = 0.04857959952050992\n",
      "\t\t\t[1, 0] = 0.04857959952050994\n",
      "\t\t\t[1, 1] = -0.35593954266029343\n",
      "\t\t\t[2, 2] = -0.35297896520254896\n",
      "\t\t(MO) 2-Body Terms:\n",
      "\t\t\tAlpha-Alpha\n",
      "\t\t\t<(3, 3, 3, 3) matrix with 41 non-zero entries>\n",
      "\t\t\t[0, 0, 0, 0] = 0.48731096863284296\n",
      "\t\t\t[0, 0, 0, 1] = -0.048579588912290125\n",
      "\t\t\t[0, 0, 1, 0] = -0.04857958891229017\n",
      "\t\t\t[0, 0, 1, 1] = 0.2236100431406514\n",
      "\t\t\t[0, 0, 2, 2] = 0.2701714922760694\n",
      "\t\t\t... skipping 36 entries\n",
      "\t\t\tBeta-Alpha\n",
      "\t\t\t<(3, 3, 3, 3) matrix with 41 non-zero entries>\n",
      "\t\t\t[0, 0, 0, 0] = 0.48731096863284296\n",
      "\t\t\t[0, 0, 0, 1] = -0.048579588912290125\n",
      "\t\t\t[0, 0, 1, 0] = -0.04857958891229017\n",
      "\t\t\t[0, 0, 1, 1] = 0.2236100431406514\n",
      "\t\t\t[0, 0, 2, 2] = 0.2701714922760694\n",
      "\t\t\t... skipping 36 entries\n",
      "\t\t\tBeta-Beta\n",
      "\t\t\t<(3, 3, 3, 3) matrix with 41 non-zero entries>\n",
      "\t\t\t[0, 0, 0, 0] = 0.48731096863284296\n",
      "\t\t\t[0, 0, 0, 1] = -0.048579588912290125\n",
      "\t\t\t[0, 0, 1, 0] = -0.04857958891229017\n",
      "\t\t\t[0, 0, 1, 1] = 0.2236100431406514\n",
      "\t\t\t[0, 0, 2, 2] = 0.2701714922760694\n",
      "\t\t\t... skipping 36 entries\n",
      "\t\t\tAlpha-Beta\n",
      "\t\t\t<(3, 3, 3, 3) matrix with 41 non-zero entries>\n",
      "\t\t\t[0, 0, 0, 0] = 0.48731096863284296\n",
      "\t\t\t[0, 0, 0, 1] = -0.048579588912290125\n",
      "\t\t\t[0, 0, 1, 0] = -0.04857958891229017\n",
      "\t\t\t[0, 0, 1, 1] = 0.2236100431406514\n",
      "\t\t\t[0, 0, 2, 2] = 0.2701714922760694\n",
      "\t\t\t... skipping 36 entries\n",
      "\t\tEnergy Shifts:\n",
      "\t\t\tActiveSpaceTransformer = (-7.796219568771231+0j)\n",
      "\tElectronicDipoleMoment:\n",
      "\t\tDipoleMomentX\n",
      "\t\t\t(AO) 1-Body Terms:\n",
      "\t\t\t\tAlpha\n",
      "\t\t\t\t<(6, 6) matrix with 6 non-zero entries>\n",
      "\t\t\t\t[0, 2] = 0.14723997517578358\n",
      "\t\t\t\t[1, 2] = 1.8032983195284726\n",
      "\t\t\t\t[2, 0] = 0.14723997517578358\n",
      "\t\t\t\t[2, 1] = 1.8032983195284726\n",
      "\t\t\t\t[2, 5] = 0.3274382486433087\n",
      "\t\t\t\t... skipping 1 entries\n",
      "\t\t\t\tBeta\n",
      "\t\t\t\t<(6, 6) matrix with 6 non-zero entries>\n",
      "\t\t\t\t[0, 2] = 0.14723997517578358\n",
      "\t\t\t\t[1, 2] = 1.8032983195284726\n",
      "\t\t\t\t[2, 0] = 0.14723997517578358\n",
      "\t\t\t\t[2, 1] = 1.8032983195284726\n",
      "\t\t\t\t[2, 5] = 0.3274382486433087\n",
      "\t\t\t\t... skipping 1 entries\n",
      "\t\t\t(MO) 1-Body Terms:\n",
      "\t\t\t\tAlpha\n",
      "\t\t\t\t<(3, 3) matrix with 4 non-zero entries>\n",
      "\t\t\t\t[0, 2] = 0.27395065959918247\n",
      "\t\t\t\t[1, 2] = 0.38308548312791757\n",
      "\t\t\t\t[2, 0] = 0.2739506595991824\n",
      "\t\t\t\t[2, 1] = 0.3830854831279176\n",
      "\t\t\t\tBeta\n",
      "\t\t\t\t<(3, 3) matrix with 4 non-zero entries>\n",
      "\t\t\t\t[0, 2] = 0.27395065959918247\n",
      "\t\t\t\t[1, 2] = 0.38308548312791757\n",
      "\t\t\t\t[2, 0] = 0.2739506595991824\n",
      "\t\t\t\t[2, 1] = 0.3830854831279176\n",
      "\t\t\tEnergy Shifts:\n",
      "\t\t\t\tActiveSpaceTransformer = 0j\n",
      "\t\tDipoleMomentY\n",
      "\t\t\t(AO) 1-Body Terms:\n",
      "\t\t\t\tAlpha\n",
      "\t\t\t\t<(6, 6) matrix with 6 non-zero entries>\n",
      "\t\t\t\t[0, 3] = 0.14723997517578358\n",
      "\t\t\t\t[1, 3] = 1.8032983195284726\n",
      "\t\t\t\t[3, 0] = 0.14723997517578358\n",
      "\t\t\t\t[3, 1] = 1.8032983195284726\n",
      "\t\t\t\t[3, 5] = 0.3274382486433087\n",
      "\t\t\t\t... skipping 1 entries\n",
      "\t\t\t\tBeta\n",
      "\t\t\t\t<(6, 6) matrix with 6 non-zero entries>\n",
      "\t\t\t\t[0, 3] = 0.14723997517578358\n",
      "\t\t\t\t[1, 3] = 1.8032983195284726\n",
      "\t\t\t\t[3, 0] = 0.14723997517578358\n",
      "\t\t\t\t[3, 1] = 1.8032983195284726\n",
      "\t\t\t\t[3, 5] = 0.3274382486433087\n",
      "\t\t\t\t... skipping 1 entries\n",
      "\t\t\t(MO) 1-Body Terms:\n",
      "\t\t\t\tAlpha\n",
      "\t\t\t\t<(3, 3) matrix with 4 non-zero entries>\n",
      "\t\t\t\t[0, 2] = 0.936897960785742\n",
      "\t\t\t\t[1, 2] = 1.3101337608542039\n",
      "\t\t\t\t[2, 0] = 0.9368979607857418\n",
      "\t\t\t\t[2, 1] = 1.310133760854204\n",
      "\t\t\t\tBeta\n",
      "\t\t\t\t<(3, 3) matrix with 4 non-zero entries>\n",
      "\t\t\t\t[0, 2] = 0.936897960785742\n",
      "\t\t\t\t[1, 2] = 1.3101337608542039\n",
      "\t\t\t\t[2, 0] = 0.9368979607857418\n",
      "\t\t\t\t[2, 1] = 1.310133760854204\n",
      "\t\t\tEnergy Shifts:\n",
      "\t\t\t\tActiveSpaceTransformer = 0j\n",
      "\t\tDipoleMomentZ\n",
      "\t\t\t(AO) 1-Body Terms:\n",
      "\t\t\t\tAlpha\n",
      "\t\t\t\t<(6, 6) matrix with 11 non-zero entries>\n",
      "\t\t\t\t[0, 4] = 0.14723997517578358\n",
      "\t\t\t\t[0, 5] = 0.03632948886313758\n",
      "\t\t\t\t[1, 4] = 1.8032983195284726\n",
      "\t\t\t\t[1, 5] = 0.9391961606693731\n",
      "\t\t\t\t[4, 0] = 0.14723997517578358\n",
      "\t\t\t\t... skipping 6 entries\n",
      "\t\t\t\tBeta\n",
      "\t\t\t\t<(6, 6) matrix with 11 non-zero entries>\n",
      "\t\t\t\t[0, 4] = 0.14723997517578358\n",
      "\t\t\t\t[0, 5] = 0.03632948886313758\n",
      "\t\t\t\t[1, 4] = 1.8032983195284726\n",
      "\t\t\t\t[1, 5] = 0.9391961606693731\n",
      "\t\t\t\t[4, 0] = 0.14723997517578358\n",
      "\t\t\t\t... skipping 6 entries\n",
      "\t\t\t(MO) 1-Body Terms:\n",
      "\t\t\t\tAlpha\n",
      "\t\t\t\t<(3, 3) matrix with 4 non-zero entries>\n",
      "\t\t\t\t[0, 0] = 2.4695966204761857\n",
      "\t\t\t\t[0, 1] = -0.4335055858972618\n",
      "\t\t\t\t[1, 0] = -0.4335055858972619\n",
      "\t\t\t\t[1, 1] = -1.6304193457001857\n",
      "\t\t\t\tBeta\n",
      "\t\t\t\t<(3, 3) matrix with 4 non-zero entries>\n",
      "\t\t\t\t[0, 0] = 2.4695966204761857\n",
      "\t\t\t\t[0, 1] = -0.4335055858972618\n",
      "\t\t\t\t[1, 0] = -0.4335055858972619\n",
      "\t\t\t\t[1, 1] = -1.6304193457001857\n",
      "\t\t\tEnergy Shifts:\n",
      "\t\t\t\tActiveSpaceTransformer = (-0.004051914234345302+0j)\n",
      "\tAngularMomentum:\n",
      "\t\t6 SOs\n",
      "\tMagnetization:\n",
      "\t\t6 SOs\n",
      "Molecule:\n",
      "\tMultiplicity: 1\n",
      "\tCharge: 0\n",
      "\tGeometry:\n",
      "\t\tLi\t[0.0, 0.0, 0.0]\n",
      "\t\tH\t[0.0, 0.0, 3.0235617993040993]\n",
      "\tMasses:\n",
      "\t\tLi\t7\n",
      "\t\tH\t1\n"
     ]
    }
   ],
   "source": [
    "print(problem_reduced.grouped_property_transformed)"
   ]
  },
  {
   "cell_type": "markdown",
   "id": "ff876784",
   "metadata": {
    "slideshow": {
     "slide_type": "slide"
    }
   },
   "source": [
    "### Mapping the Problem to the Qubit Space"
   ]
  },
  {
   "cell_type": "markdown",
   "id": "ba0f6d1d",
   "metadata": {
    "slideshow": {
     "slide_type": "notes"
    }
   },
   "source": [
    "In order to solve our problem with a Quantum algorithm we must map our second-quantized Hamiltonian into a qubit operator. This is done with the `QubitConverter` in combination with a `QubitMapper` of your choice."
   ]
  },
  {
   "cell_type": "markdown",
   "id": "37760f29",
   "metadata": {
    "slideshow": {
     "slide_type": "notes"
    }
   },
   "source": [
    "Each MO can hold up to two electrons, one spin-up (_alpha_) and one spin-down (_beta_) electron.\n",
    "\n",
    "In Qiskit we will need to map these two cases onto the quantum computer separately. Thus, we are working with **spin orbitals** which are identical to the MOs but restrict the spin in either the up or down configuration, depending on the nature of the orbital."
   ]
  },
  {
   "cell_type": "markdown",
   "id": "a95e0a68",
   "metadata": {
    "slideshow": {
     "slide_type": "fragment"
    }
   },
   "source": [
    "The most straight forward mapping is the *Jordan-Wigner* one which stores the *occupation* information of one spin orbital in one qubit:\n",
    "\n",
    "<img src=\"images/jw_mapping.png\" width=\"1400\"/>"
   ]
  },
  {
   "cell_type": "code",
   "execution_count": 13,
   "id": "051434ef",
   "metadata": {
    "slideshow": {
     "slide_type": "slide"
    }
   },
   "outputs": [],
   "source": [
    "from qiskit_nature.converters.second_quantization import QubitConverter\n",
    "from qiskit_nature.mappers.second_quantization import JordanWignerMapper\n",
    "\n",
    "jw_mapper = JordanWignerMapper()\n",
    "jw_converter = QubitConverter(jw_mapper)"
   ]
  },
  {
   "cell_type": "code",
   "execution_count": 14,
   "id": "26197a8f",
   "metadata": {
    "scrolled": true,
    "slideshow": {
     "slide_type": "fragment"
    }
   },
   "outputs": [
    {
     "name": "stdout",
     "output_type": "stream",
     "text": [
      "-0.4600743351528299 * IIIIII\n",
      "- 0.1616534714987323 * ZIIIII\n",
      "- 0.14571632129552559 * IZIIII\n",
      "+ 0.06017866224139638 * ZZIIII\n",
      "+ 0.026694013979351366 * IIZIII\n",
      "+ 0.06168720475907274 * ZIZIII\n",
      "+ 0.05263651528550088 * IZZIII\n",
      "- 0.1616534714987323 * IIIZII\n",
      "+ 0.07823637778985225 * ZIIZII\n",
      "+ 0.07049783624066804 * IZIZII\n",
      "+ 0.06754287306901736 * IIZZII\n",
      "- 0.1457163212955256 * IIIIZI\n",
      "+ 0.07049783624066804 * ZIIIZI\n",
      "+ 0.08447056807294419 * IZIIZI\n",
      "+ 0.055902510785162826 * IIZIZI\n",
      "+ 0.06017866224139638 * IIIZZI\n",
      "+ 0.026694013979351342 * IIIIIZ\n",
      "+ 0.06754287306901736 * ZIIIIZ\n",
      "+ 0.055902510785162826 * IZIIIZ\n",
      "+ 0.12182774215821074 * IIZIIZ\n",
      "+ 0.06168720475907274 * IIIZIZ\n",
      "+ 0.05263651528550088 * IIIIZZ\n",
      "+ 0.012080473194509313 * IXXIII\n",
      "+ 0.0033773476006122892 * ZXXIII\n",
      "+ 0.012080473194509313 * IYYIII\n",
      "+ 0.0033773476006122892 * ZYYIII\n",
      "- 0.001441875511520379 * IXXZII\n",
      "- 0.001441875511520379 * IYYZII\n",
      "- 0.001871042751418799 * IXXIZI\n",
      "- 0.001871042751418799 * IYYIZI\n",
      "+ 0.012144897228072542 * IXXIIZ\n",
      "+ 0.012144897228072542 * IYYIIZ\n",
      "+ 0.010319173999271652 * XXIXXI\n",
      "+ 0.010319173999271652 * YYIXXI\n",
      "+ 0.010319173999271652 * XXIYYI\n",
      "+ 0.010319173999271652 * YYIYYI\n",
      "+ 0.004819223112132667 * XZXXXI\n",
      "+ 0.004819223112132667 * YZYXXI\n",
      "+ 0.004819223112132667 * XZXYYI\n",
      "+ 0.004819223112132667 * YZYYYI\n",
      "+ 0.004819223112132667 * XXIXZX\n",
      "+ 0.004819223112132667 * YYIXZX\n",
      "+ 0.004819223112132667 * XXIYZY\n",
      "+ 0.004819223112132667 * YYIYZY\n",
      "+ 0.005855668309944623 * XZXXZX\n",
      "+ 0.005855668309944623 * YZYXZX\n",
      "+ 0.005855668309944623 * XZXYZY\n",
      "+ 0.005855668309944623 * YZYYZY\n",
      "+ 0.012080473194509313 * IIIIXX\n",
      "- 0.001441875511520379 * ZIIIXX\n",
      "- 0.001871042751418799 * IZIIXX\n",
      "+ 0.012144897228072542 * IIZIXX\n",
      "+ 0.0033773476006122892 * IIIZXX\n",
      "+ 0.012080473194509313 * IIIIYY\n",
      "- 0.001441875511520379 * ZIIIYY\n",
      "- 0.001871042751418799 * IZIIYY\n",
      "+ 0.012144897228072542 * IIZIYY\n",
      "+ 0.0033773476006122892 * IIIZYY\n",
      "+ 0.0032659954996619362 * IXXIXX\n",
      "+ 0.0032659954996619362 * IYYIXX\n",
      "+ 0.0032659954996619362 * IXXIYY\n",
      "+ 0.0032659954996619362 * IYYIYY\n"
     ]
    }
   ],
   "source": [
    "qubit_op_jw = jw_converter.convert(hamiltonian_reduced)\n",
    "print(qubit_op_jw)"
   ]
  },
  {
   "cell_type": "markdown",
   "id": "dd01e34a",
   "metadata": {
    "slideshow": {
     "slide_type": "slide"
    }
   },
   "source": [
    "In this step we can reduce the size of our problem further by leveraging symmetries in the Hilbert space of our system. One mapping which supports a straight-forward removal of 2 qubits by exploiting the particle-conserving properties of electronic structure problems, is the *parity* mapping:"
   ]
  },
  {
   "cell_type": "code",
   "execution_count": 15,
   "id": "bb1350ed",
   "metadata": {
    "slideshow": {
     "slide_type": "-"
    }
   },
   "outputs": [],
   "source": [
    "from qiskit_nature.mappers.second_quantization import ParityMapper\n",
    "\n",
    "parity_mapper = ParityMapper()\n",
    "parity_converter = QubitConverter(parity_mapper, two_qubit_reduction=True)"
   ]
  },
  {
   "cell_type": "code",
   "execution_count": 16,
   "id": "e229adc9",
   "metadata": {
    "scrolled": true,
    "slideshow": {
     "slide_type": "fragment"
    }
   },
   "outputs": [
    {
     "name": "stdout",
     "output_type": "stream",
     "text": [
      "-0.46007433515282975 * IIII\n",
      "+ (-0.21428998678423308+6.938893903907228e-18j) * ZIII\n",
      "+ (0.03348464826204499-5.204170427930421e-18j) * IZII\n",
      "- 0.20740352605459828 * ZZII\n",
      "+ (0.21428998678423308+1.3877787807814457e-17j) * IIZI\n",
      "- 0.07823637778985222 * ZIZI\n",
      "+ 0.06754287306901734 * IZZI\n",
      "+ (-0.07049783624066801+6.938893903907228e-18j) * ZZZI\n",
      "- 0.033484648262045016 * IIIZ\n",
      "+ 0.06754287306901734 * ZIIZ\n",
      "+ (-0.12182774215821071-6.938893903907228e-18j) * IZIZ\n",
      "+ 0.055902510785162805 * ZZIZ\n",
      "+ (-0.2074035260545983+6.938893903907228e-18j) * IIZZ\n",
      "+ 0.07049783624066801 * ZIZZ\n",
      "+ (-0.055902510785162805+3.469446951953614e-18j) * IZZZ\n",
      "+ 0.08447056807294416 * ZZZZ\n",
      "+ 0.015457820795121594 * IXII\n",
      "+ (0.015457820795121594+8.673617379884035e-19j) * ZXII\n",
      "+ (0.0014418755115203784-1.0842021724855044e-19j) * IXZI\n",
      "+ 0.0014418755115203784 * ZXZI\n",
      "+ 0.012144897228072537 * IXIZ\n",
      "+ (0.012144897228072537+8.673617379884035e-19j) * ZXIZ\n",
      "- 0.0018710427514187981 * IXZZ\n",
      "+ (-0.0018710427514187981+1.0842021724855044e-19j) * ZXZZ\n",
      "+ 0.010319173999271649 * XIXI\n",
      "- 0.010319173999271649 * XZXI\n",
      "+ 0.010319173999271649 * XIXZ\n",
      "- 0.010319173999271649 * XZXZ\n",
      "+ 0.004819223112132665 * XXXI\n",
      "- 0.004819223112132665 * YYXI\n",
      "+ 0.004819223112132665 * XXXZ\n",
      "- 0.004819223112132665 * YYXZ\n",
      "+ (0.015457820795121594-8.673617379884035e-19j) * IIIX\n",
      "- 0.0014418755115203784 * ZIIX\n",
      "+ (-0.012144897228072537-8.673617379884035e-19j) * IZIX\n",
      "- 0.0018710427514187981 * ZZIX\n",
      "+ (-0.015457820795121594+8.673617379884035e-19j) * IIZX\n",
      "+ 0.0014418755115203784 * ZIZX\n",
      "+ (0.012144897228072537+8.673617379884035e-19j) * IZZX\n",
      "+ 0.0018710427514187981 * ZZZX\n",
      "+ 0.003265995499661935 * IXIX\n",
      "+ (0.003265995499661935+2.168404344971009e-19j) * ZXIX\n",
      "- 0.003265995499661935 * IXZX\n",
      "+ (-0.003265995499661935-2.168404344971009e-19j) * ZXZX\n",
      "+ 0.004819223112132665 * XIXX\n",
      "- 0.004819223112132665 * XZXX\n",
      "- 0.004819223112132665 * XIYY\n",
      "+ 0.004819223112132665 * XZYY\n",
      "+ 0.005855668309944621 * XXXX\n",
      "+ (-0.005855668309944621-4.336808689942018e-19j) * YYXX\n",
      "- 0.005855668309944622 * XXYY\n",
      "+ 0.005855668309944621 * YYYY\n"
     ]
    }
   ],
   "source": [
    "qubit_op_parity = parity_converter.convert(hamiltonian_reduced, num_particles=problem_reduced.num_particles)\n",
    "print(qubit_op_parity)"
   ]
  },
  {
   "cell_type": "markdown",
   "id": "730c3df3",
   "metadata": {
    "slideshow": {
     "slide_type": "slide"
    }
   },
   "source": [
    "## 2. Ground State Calculation"
   ]
  },
  {
   "cell_type": "markdown",
   "id": "8c141545",
   "metadata": {
    "slideshow": {
     "slide_type": "-"
    }
   },
   "source": [
    "<div style=\"float: left; width: 50%;\">\n",
    "Now that we have converted our problem to a Qubit operator, we need to find it's eigenvalue which corresponds to the ground state of our system.\n",
    "    <br/>\n",
    "    <br/>\n",
    "    See also: https://qiskit.org/documentation/nature/tutorials/03_ground_state_solvers.html\n",
    "</div>\n",
    "\n",
    "<div style=\"float: right; width: 50%; padding-right=20px;\">\n",
    "    <img src=\"images/H2_gs.png\" width=\"400\"/>\n",
    "    <br>\n",
    "</div>"
   ]
  },
  {
   "cell_type": "markdown",
   "id": "b099a2f4",
   "metadata": {
    "slideshow": {
     "slide_type": "slide"
    }
   },
   "source": [
    "To find the ground state we need an *Ansatz* to describe our wavefunction:"
   ]
  },
  {
   "cell_type": "code",
   "execution_count": 17,
   "id": "aa2fa3ed",
   "metadata": {
    "slideshow": {
     "slide_type": "fragment"
    }
   },
   "outputs": [],
   "source": [
    "particle_number = problem_reduced.grouped_property_transformed.get_property(\"ParticleNumber\")\n",
    "num_spin_orbitals = particle_number.num_spin_orbitals\n",
    "num_particles = particle_number.num_particles"
   ]
  },
  {
   "cell_type": "code",
   "execution_count": 18,
   "id": "5114205c",
   "metadata": {
    "scrolled": true,
    "slideshow": {
     "slide_type": "fragment"
    }
   },
   "outputs": [
    {
     "data": {
      "image/png": "[encoded data removed]",
      "text/plain": [
       "<Figure size 1591.6x866.88 with 1 Axes>"
      ]
     },
     "execution_count": 18,
     "metadata": {},
     "output_type": "execute_result"
    }
   ],
   "source": [
    "from qiskit_nature.circuit.library.initial_states import HartreeFock\n",
    "from qiskit_nature.circuit.library.ansatzes import UCCSD\n",
    "\n",
    "init_state = HartreeFock(num_spin_orbitals, num_particles, parity_converter)\n",
    "\n",
    "ansatz = UCCSD(\n",
    "    parity_converter,\n",
    "    num_particles,\n",
    "    num_spin_orbitals,\n",
    ")\n",
    "ansatz.initial_state = init_state\n",
    "\n",
    "ansatz.decompose().draw('mpl', style='iqx')"
   ]
  },
  {
   "cell_type": "markdown",
   "id": "9ff67eea",
   "metadata": {
    "slideshow": {
     "slide_type": "slide"
    }
   },
   "source": [
    "Since this is quite some overhead which even involves knowing the number of particles beforehand, we provide a **factory** for the `VQE`, simplifying its construction a lot:"
   ]
  },
  {
   "cell_type": "code",
   "execution_count": 19,
   "id": "88fba522",
   "metadata": {
    "slideshow": {
     "slide_type": "-"
    }
   },
   "outputs": [],
   "source": [
    "from qiskit.algorithms.optimizers import SLSQP\n",
    "from qiskit.providers.aer import StatevectorSimulator, QasmSimulator\n",
    "from qiskit_nature.algorithms.ground_state_solvers.minimum_eigensolver_factories import VQEUCCFactory\n",
    "\n",
    "# this will setup the UCCSD + HartreeFock Ansatz internally at runtime\n",
    "vqe_factory = VQEUCCFactory(\n",
    "    quantum_instance=StatevectorSimulator(),\n",
    "    #quantum_instance=QasmSimulator(),\n",
    "    optimizer=SLSQP(),\n",
    ")"
   ]
  },
  {
   "cell_type": "markdown",
   "id": "de50af8a",
   "metadata": {
    "slideshow": {
     "slide_type": "fragment"
    }
   },
   "source": [
    "This factory can then be used to construct a `GroundStateEigensolver` with which we can finally solve our problem:"
   ]
  },
  {
   "cell_type": "code",
   "execution_count": 20,
   "id": "31ca720b",
   "metadata": {
    "slideshow": {
     "slide_type": "-"
    }
   },
   "outputs": [],
   "source": [
    "from qiskit_nature.algorithms.ground_state_solvers import GroundStateEigensolver\n",
    "\n",
    "solver = GroundStateEigensolver(parity_converter, vqe_factory)"
   ]
  },
  {
   "cell_type": "code",
   "execution_count": 21,
   "id": "53609123",
   "metadata": {
    "slideshow": {
     "slide_type": "-"
    }
   },
   "outputs": [],
   "source": [
    "result = solver.solve(problem_reduced)"
   ]
  },
  {
   "cell_type": "code",
   "execution_count": 22,
   "id": "ab7b9bdb",
   "metadata": {
    "slideshow": {
     "slide_type": "slide"
    }
   },
   "outputs": [
    {
     "name": "stdout",
     "output_type": "stream",
     "text": [
      "=== GROUND STATE ENERGY ===\n",
      " \n",
      "* Electronic ground state energy (Hartree): -8.855126562343\n",
      "  - computed part:      -1.058906993571\n",
      "  - ActiveSpaceTransformer extracted energy part: -7.796219568771\n",
      "~ Nuclear repulsion energy (Hartree): 0.992207270475\n",
      "> Total ground state energy (Hartree): -7.862919291868\n",
      " \n",
      "=== MEASURED OBSERVABLES ===\n",
      " \n",
      "  0:  # Particles: 2.000 S: 0.000 S^2: 0.000 M: 0.000\n",
      " \n",
      "=== DIPOLE MOMENTS ===\n",
      " \n",
      "~ Nuclear dipole moment (a.u.): [0.0  0.0  3.0235618]\n",
      " \n",
      "  0: \n",
      "  * Electronic dipole moment (a.u.): [0.00000009  0.00000029  4.90825164]\n",
      "    - computed part:      [0.00000009  0.00000029  4.91230356]\n",
      "    - ActiveSpaceTransformer extracted energy part: [0.0  0.0  -0.00405191]\n",
      "  > Dipole moment (a.u.): [-0.00000009  -0.00000029  -1.88468984]  Total: 1.88468984\n",
      "                 (debye): [-0.00000022  -0.00000075  -4.79040331]  Total: 4.79040331\n",
      " \n"
     ]
    }
   ],
   "source": [
    "print(result)"
   ]
  },
  {
   "cell_type": "markdown",
   "id": "4b65f50a",
   "metadata": {
    "slideshow": {
     "slide_type": "slide"
    }
   },
   "source": [
    "#### CUSTOM VQE"
   ]
  },
  {
   "cell_type": "code",
   "execution_count": 75,
   "id": "0525c7a7",
   "metadata": {
    "slideshow": {
     "slide_type": "-"
    }
   },
   "outputs": [],
   "source": [
    "import numpy as np\n",
    "from qiskit import transpile\n",
    "from qiskit.algorithms import MinimumEigensolver, VQEResult\n",
    "from qiskit.opflow import PauliSumOp, AbelianGrouper\n",
    "from qiskit.providers.aer import QasmSimulator, StatevectorSimulator\n",
    "\n",
    "qasm_backend = QasmSimulator(shots=8192)\n",
    "backend = qasm_backend\n",
    "\n",
    "\n",
    "def raw_sample(circuit, backend=backend, optimization_level=3):\n",
    "    \n",
    "    # transpile circuit\n",
    "    qc = transpile(circuit, backend, optimization_level=optimization_level)\n",
    "    \n",
    "    # run circuit\n",
    "    job = backend.run(qc)\n",
    "    counts = job.result().get_counts()\n",
    "    \n",
    "    # evaluate probabilities\n",
    "    shots = sum(counts.values())\n",
    "    probabilities = {b: c/shots for b, c in counts.items()}\n",
    "    return probabilities\n",
    "\n",
    "sample = raw_sample\n",
    "\n",
    "class Estimator():\n",
    "    \n",
    "    def __init__(self, observable, circuit, callback=None):\n",
    "        \"\"\" Instantiate estimator for given observable and circuit. \"\"\"\n",
    "        \n",
    "        # store problem\n",
    "        self._observable = observable\n",
    "        self._circuit = circuit\n",
    "        \n",
    "        # group Pauli terms\n",
    "        self._grouper = AbelianGrouper()\n",
    "        self._groups = self._grouper.convert(self._observable).oplist\n",
    "        \n",
    "        # derive measurement bases\n",
    "        self._bases = []\n",
    "        for group in self._groups:\n",
    "            self._bases += [self._get_measurement_basis(group)]\n",
    "            \n",
    "        # construct circuits with post-rotations\n",
    "        self._circuits = []\n",
    "        for basis in self._bases:\n",
    "            self._circuits += [self._append_post_rotation(self._circuit, basis)]\n",
    "            \n",
    "        # store callback\n",
    "        self._callback = callback\n",
    "        \n",
    "    def _get_measurement_basis(self, observable):\n",
    "        \"\"\" Derive measurement basis from observable or raise exception in case of non-commuting terms. \"\"\"\n",
    "                \n",
    "        basis = ['I']*observable.num_qubits\n",
    "        for pauli_string in observable.primitive.paulis:\n",
    "            for i, pauli in enumerate(pauli_string):\n",
    "                p = str(pauli)\n",
    "                if p != 'I':\n",
    "                    if basis[i] == 'I':\n",
    "                        basis[i] = p\n",
    "                    elif basis[i] != p:\n",
    "                        raise ValueError('PauliSumOp contains non-commuting terms!')\n",
    "        return basis\n",
    "    \n",
    "    def _append_post_rotation(self, circuit, basis):\n",
    "        \"\"\" Append post rotation to circuit to measure in given basis. \"\"\"\n",
    "        \n",
    "        new_circuit = circuit.copy()\n",
    "        for i, pauli in enumerate(basis):\n",
    "            if pauli == 'X':  # H @ X @ H = Z\n",
    "                new_circuit.h(i)\n",
    "            if pauli == 'Y':  # S^dag @ H @ Y @ H @ S = Z\n",
    "                new_circuit.s(i)\n",
    "                new_circuit.h(i)\n",
    "        new_circuit.measure_all()\n",
    "        return new_circuit\n",
    "    \n",
    "    def estimate(self, param_values=None):\n",
    "        \"\"\" Estimate expectation value of given observable in state corresponding to given parameter values. \"\"\"\n",
    "\n",
    "        if param_values is None and self._circuit.num_parameters > 0 or\\\n",
    "            len(param_values) != self._circuit.num_parameters:\n",
    "            raise ValueError('Wrong number of parameters!')\n",
    "        \n",
    "        value = 0        \n",
    "        for group, circuit in zip(self._groups, self._circuits):\n",
    "            value += self._estimate_group(group, circuit, param_values)        \n",
    "            \n",
    "        if self._callback:\n",
    "            self._callback(np.real(value))\n",
    "            \n",
    "        return np.real(value)\n",
    "        \n",
    "    def _estimate_group(self, group, circuit, param_values):\n",
    "        \"\"\" Estimate expectation value for group of commuting terms that can be measured in the same basis. \"\"\"\n",
    "        \n",
    "        probabilities = sample(circuit.bind_parameters(param_values), backend)\n",
    "        \n",
    "        value = 0\n",
    "        for (pauli, coeff) in zip(group.primitive.paulis, group.primitive.coeffs):\n",
    "            val = 0\n",
    "            p = str(pauli)\n",
    "            for b, prob in probabilities.items():\n",
    "                val += prob * np.prod([(-1)**(b[i] == '1' and p[i] != 'I') for i in range(len(b))])\n",
    "\n",
    "            value += coeff * val\n",
    "    \n",
    "        return value\n",
    "\n",
    "\n",
    "\n",
    "class CustomVQE(MinimumEigensolver):\n",
    "    \n",
    "    def __init__(self, circuit, optimizer):\n",
    "        self._circuit = circuit\n",
    "        self._optimizer = optimizer\n",
    "        \n",
    "    def compute_minimum_eigenvalue(self, operator, aux_operators=None):\n",
    "                \n",
    "        # run optimization\n",
    "        estimator = Estimator(operator, self._circuit)        \n",
    "        x0 = np.random.rand(self._circuit.num_parameters)\n",
    "        res = self._optimizer.minimize(estimator.estimate, x0=x0)\n",
    "\n",
    "        # evaluate auxilliary operators if given\n",
    "        aux_operator_eigenvalues = None\n",
    "        if aux_operators is not None:\n",
    "            aux_operator_eigenvalues = []\n",
    "            for aux_estimator in [ Estimator(aux_op, self._circuit) \n",
    "                                      for aux_op in aux_operators ]:\n",
    "                aux_operator_eigenvalues += [aux_estimator.estimate(res.x)]\n",
    "        \n",
    "        # populate results\n",
    "        result = VQEResult()\n",
    "        result.aux_operator_eigenvalues = aux_operator_eigenvalues\n",
    "        result.cost_function_evals = res.nfev\n",
    "        result.eigenstate = None\n",
    "        result.eigenvalue = res.fun\n",
    "        result.optimal_parameters = res.x\n",
    "        result.optimal_point = res.x\n",
    "        result.optimal_value = res.fun\n",
    "        return result"
   ]
  },
  {
   "cell_type": "code",
   "execution_count": 76,
   "id": "7aacbd5a",
   "metadata": {
    "slideshow": {
     "slide_type": "slide"
    }
   },
   "outputs": [
    {
     "name": "stdout",
     "output_type": "stream",
     "text": [
      "{   'aux_operator_eigenvalues': None,\n",
      "    'cost_function_evals': 100,\n",
      "    'eigenstate': None,\n",
      "    'eigenvalue': -1.0303574985296442,\n",
      "    'optimal_parameters': array([-2.87642435,  3.13160798,  2.3289322 ,  1.67230181, -2.74886228,\n",
      "       -1.40336111,  2.83335135,  2.94849059, -2.55371391,  0.22856364,\n",
      "       -1.98611972,  2.47274391,  2.93211843,  0.38021579, -3.23798193,\n",
      "        3.3945246 ,  2.75822281, -2.77621849, -0.7576953 , -0.52617232,\n",
      "       -0.45481548,  3.74913133,  3.60806062,  3.11525564,  0.43090445,\n",
      "        3.07410478, -1.26468665, -1.09979124,  2.60340287,  3.29759672,\n",
      "        0.32199848,  0.19340552]),\n",
      "    'optimal_point': array([-2.87642435,  3.13160798,  2.3289322 ,  1.67230181, -2.74886228,\n",
      "       -1.40336111,  2.83335135,  2.94849059, -2.55371391,  0.22856364,\n",
      "       -1.98611972,  2.47274391,  2.93211843,  0.38021579, -3.23798193,\n",
      "        3.3945246 ,  2.75822281, -2.77621849, -0.7576953 , -0.52617232,\n",
      "       -0.45481548,  3.74913133,  3.60806062,  3.11525564,  0.43090445,\n",
      "        3.07410478, -1.26468665, -1.09979124,  2.60340287,  3.29759672,\n",
      "        0.32199848,  0.19340552]),\n",
      "    'optimal_value': -1.0303574985296442,\n",
      "    'optimizer_evals': None,\n",
      "    'optimizer_time': None}\n"
     ]
    }
   ],
   "source": [
    "from qiskit.circuit.library import TwoLocal\n",
    "from qiskit.algorithms.optimizers import SPSA\n",
    "\n",
    "circuit = TwoLocal(qubit_op_parity.num_qubits, ['ry', 'rz'], 'cx', entanglement='full', reps=3)\n",
    "\n",
    "optimizer = SPSA(maxiter=50)\n",
    "\n",
    "custom_vqe = CustomVQE(circuit, optimizer)\n",
    "result = custom_vqe.compute_minimum_eigenvalue(qubit_op_parity)\n",
    "print(result)"
   ]
  },
  {
   "cell_type": "markdown",
   "id": "46205fae",
   "metadata": {
    "slideshow": {
     "slide_type": "slide"
    }
   },
   "source": [
    "## 2. Excited States Calculation\n",
    "\n",
    "See also: https://qiskit.org/documentation/nature/tutorials/04_excited_states_solvers.html"
   ]
  },
  {
   "cell_type": "markdown",
   "id": "8525143b",
   "metadata": {
    "slideshow": {
     "slide_type": "-"
    }
   },
   "source": [
    "Now, we are not only interested in ground states but also excited states! `QEOM` provides the means to compute these states by solving the **equation of motion**. QEOM currently does not support the hamiltonian reductions which we used in combination with the parity mapping. Thus let's look at an example for the hydrogen molecule."
   ]
  },
  {
   "cell_type": "code",
   "execution_count": 77,
   "id": "81917dd8",
   "metadata": {
    "slideshow": {
     "slide_type": "slide"
    }
   },
   "outputs": [],
   "source": [
    "from qiskit_nature.algorithms.excited_states_solvers import QEOM\n",
    "\n",
    "h2 = Molecule(\n",
    "    # coordinates are given in Angstrom\n",
    "    geometry=[\n",
    "        [\"H\", [0.0, 0.0, 0.0]],\n",
    "        [\"H\", [0.0, 0.0, 0.75]],\n",
    "    ],\n",
    "    multiplicity=1,  # = 2*spin + 1\n",
    "    charge=0,\n",
    ")\n",
    "\n",
    "h2_driver = ElectronicStructureMoleculeDriver(\n",
    "    molecule=h2,\n",
    "    basis=\"sto3g\",\n",
    "    driver_type=ElectronicStructureDriverType.PYSCF,\n",
    ")\n",
    "\n",
    "h2_problem = ElectronicStructureProblem(h2_driver)\n",
    "\n",
    "jw_solver = GroundStateEigensolver(jw_converter, vqe_factory)\n",
    "\n",
    "qeom = QEOM(jw_solver, \"sd\")"
   ]
  },
  {
   "cell_type": "code",
   "execution_count": 78,
   "id": "3cb79e7a",
   "metadata": {
    "slideshow": {
     "slide_type": "fragment"
    }
   },
   "outputs": [],
   "source": [
    "qeom_result = qeom.solve(h2_problem)"
   ]
  },
  {
   "cell_type": "code",
   "execution_count": 79,
   "id": "6c90e7ed",
   "metadata": {
    "scrolled": true,
    "slideshow": {
     "slide_type": "fragment"
    }
   },
   "outputs": [
    {
     "name": "stdout",
     "output_type": "stream",
     "text": [
      "=== GROUND STATE ENERGY ===\n",
      " \n",
      "* Electronic ground state energy (Hartree): -1.842686681847\n",
      "  - computed part:      -1.842686681847\n",
      "~ Nuclear repulsion energy (Hartree): 0.70556961456\n",
      "> Total ground state energy (Hartree): -1.137117067287\n",
      " \n",
      "=== EXCITED STATE ENERGIES ===\n",
      " \n",
      "  1: \n",
      "* Electronic excited state energy (Hartree): -1.248353972498\n",
      "* Electronic excited state energy (Hartree): -1.248353972498\n",
      "> Total excited state energy (Hartree): -0.542784357938\n",
      "  2: \n",
      "* Electronic excited state energy (Hartree): -0.884810899311\n",
      "* Electronic excited state energy (Hartree): -0.884810899311\n",
      "> Total excited state energy (Hartree): -0.179241284751\n",
      "  3: \n",
      "* Electronic excited state energy (Hartree): -0.245767351782\n",
      "* Electronic excited state energy (Hartree): -0.245767351782\n",
      "> Total excited state energy (Hartree): 0.459802262778\n",
      " \n",
      "=== MEASURED OBSERVABLES ===\n",
      " \n",
      "  0:  # Particles: 2.000 S: 0.000 S^2: 0.000 M: -0.000\n",
      " \n",
      "=== DIPOLE MOMENTS ===\n",
      " \n",
      "~ Nuclear dipole moment (a.u.): [0.0  0.0  1.41729459]\n",
      " \n",
      "  0: \n",
      "  * Electronic dipole moment (a.u.): [0.0  0.0  1.41729461]\n",
      "    - computed part:      [0.0  0.0  1.41729461]\n",
      "  > Dipole moment (a.u.): [0.0  0.0  -0.00000002]  Total: 0.00000002\n",
      "                 (debye): [0.0  0.0  -0.00000005]  Total: 0.00000005\n",
      " \n"
     ]
    }
   ],
   "source": [
    "print(qeom_result)"
   ]
  },
  {
   "cell_type": "markdown",
   "id": "4a1a5d49",
   "metadata": {
    "slideshow": {
     "slide_type": "slide"
    }
   },
   "source": [
    "You can also evaluate auxiliary operators on excited states with the `NumPyEigensolver` (which is a classical algorithm to solve the EOM)."
   ]
  },
  {
   "cell_type": "code",
   "execution_count": 88,
   "id": "9fd51632",
   "metadata": {
    "slideshow": {
     "slide_type": "-"
    }
   },
   "outputs": [],
   "source": [
    "from qiskit_nature.algorithms.excited_states_solvers.eigensolver_factories import NumPyEigensolverFactory\n",
    "\n",
    "def filter_criterion(eigenstate, eigenvalue, aux_values):\n",
    "    # we only ensure that the number of particles equals 2\n",
    "    return np.isclose(aux_values[0][0], 2.)\n",
    "\n",
    "numpy_es_solver = NumPyEigensolverFactory(filter_criterion=filter_criterion)\n",
    "\n",
    "numpy_es_calculation = ExcitedStatesEigensolver(jw_converter, numpy_es_solver)"
   ]
  },
  {
   "cell_type": "markdown",
   "id": "24ada6e6",
   "metadata": {
    "slideshow": {
     "slide_type": "fragment"
    }
   },
   "source": [
    "This solver can simply be wrapped into an `ExcitedStatesEigensolver`, mirroring the interface of the `GroundStateEigensolver`:"
   ]
  },
  {
   "cell_type": "code",
   "execution_count": 89,
   "id": "7176d18c",
   "metadata": {
    "slideshow": {
     "slide_type": "fragment"
    }
   },
   "outputs": [
    {
     "name": "stdout",
     "output_type": "stream",
     "text": [
      "=== GROUND STATE ENERGY ===\n",
      " \n",
      "* Electronic ground state energy (Hartree): -1.842686681906\n",
      "  - computed part:      -1.842686681906\n",
      "~ Nuclear repulsion energy (Hartree): 0.70556961456\n",
      "> Total ground state energy (Hartree): -1.137117067346\n",
      " \n",
      "=== EXCITED STATE ENERGIES ===\n",
      " \n",
      "  1: \n",
      "* Electronic excited state energy (Hartree): -1.248351713418\n",
      "* Electronic excited state energy (Hartree): -1.248351713418\n",
      "> Total excited state energy (Hartree): -0.542782098858\n",
      "  2: \n",
      "* Electronic excited state energy (Hartree): -1.248351713418\n",
      "* Electronic excited state energy (Hartree): -1.248351713418\n",
      "> Total excited state energy (Hartree): -0.542782098858\n",
      "  3: \n",
      "* Electronic excited state energy (Hartree): -1.248351713418\n",
      "* Electronic excited state energy (Hartree): -1.248351713418\n",
      "> Total excited state energy (Hartree): -0.542782098858\n",
      "  4: \n",
      "* Electronic excited state energy (Hartree): -0.884808640263\n",
      "* Electronic excited state energy (Hartree): -0.884808640263\n",
      "> Total excited state energy (Hartree): -0.179239025703\n",
      "  5: \n",
      "* Electronic excited state energy (Hartree): -0.245765092725\n",
      "* Electronic excited state energy (Hartree): -0.245765092725\n",
      "> Total excited state energy (Hartree): 0.459804521835\n",
      " \n",
      "=== MEASURED OBSERVABLES ===\n",
      " \n",
      "  0:  # Particles: 2.000 S: 0.000 S^2: 0.000 M: 0.000\n",
      "  1:  # Particles: 2.000 S: 1.000 S^2: 2.000 M: -1.000\n",
      "  2:  # Particles: 2.000 S: 1.000 S^2: 2.000 M: 0.000\n",
      "  3:  # Particles: 2.000 S: 1.000 S^2: 2.000 M: 1.000\n",
      "  4:  # Particles: 2.000 S: 0.000 S^2: 0.000 M: 0.000\n",
      "  5:  # Particles: 2.000 S: 0.000 S^2: 0.000 M: 0.000\n",
      " \n",
      "=== DIPOLE MOMENTS ===\n",
      " \n",
      "~ Nuclear dipole moment (a.u.): [0.0  0.0  1.41729459]\n",
      " \n",
      "  0: \n",
      "  * Electronic dipole moment (a.u.): [0.0  0.0  1.41729459]\n",
      "    - computed part:      [0.0  0.0  1.41729459]\n",
      "  > Dipole moment (a.u.): [0.0  0.0  0.0]  Total: 0.0\n",
      "                 (debye): [0.0  0.0  -0.00000001]  Total: 0.00000001\n",
      " \n",
      "  1: \n",
      "  * Electronic dipole moment (a.u.): [0.0  0.0  1.41729459]\n",
      "    - computed part:      [0.0  0.0  1.41729459]\n",
      "  > Dipole moment (a.u.): [0.0  0.0  0.0]  Total: 0.0\n",
      "                 (debye): [0.0  0.0  -0.00000001]  Total: 0.00000001\n",
      " \n",
      "  2: \n",
      "  * Electronic dipole moment (a.u.): [0.0  0.0  1.41729459]\n",
      "    - computed part:      [0.0  0.0  1.41729459]\n",
      "  > Dipole moment (a.u.): [0.0  0.0  0.0]  Total: 0.0\n",
      "                 (debye): [0.0  0.0  -0.00000001]  Total: 0.00000001\n",
      " \n",
      "  3: \n",
      "  * Electronic dipole moment (a.u.): [0.0  0.0  1.41729459]\n",
      "    - computed part:      [0.0  0.0  1.41729459]\n",
      "  > Dipole moment (a.u.): [0.0  0.0  0.0]  Total: 0.0\n",
      "                 (debye): [0.0  0.0  -0.00000001]  Total: 0.00000001\n",
      " \n",
      "  4: \n",
      "  * Electronic dipole moment (a.u.): [0.0  0.0  1.41729459]\n",
      "    - computed part:      [0.0  0.0  1.41729459]\n",
      "  > Dipole moment (a.u.): [0.0  0.0  0.0]  Total: 0.0\n",
      "                 (debye): [0.0  0.0  -0.00000001]  Total: 0.00000001\n",
      " \n",
      "  5: \n",
      "  * Electronic dipole moment (a.u.): [0.0  0.0  1.41729459]\n",
      "    - computed part:      [0.0  0.0  1.41729459]\n",
      "  > Dipole moment (a.u.): [0.0  0.0  0.0]  Total: 0.0\n",
      "                 (debye): [0.0  0.0  -0.00000001]  Total: 0.00000001\n",
      " \n"
     ]
    }
   ],
   "source": [
    "numpy_es_result = numpy_es_calculation.solve(h2_problem)\n",
    "print(numpy_es_result)"
   ]
  },
  {
   "cell_type": "markdown",
   "id": "ced21336",
   "metadata": {
    "slideshow": {
     "slide_type": "slide"
    }
   },
   "source": [
    "### VQD"
   ]
  },
  {
   "cell_type": "code",
   "execution_count": 90,
   "id": "165a4b83",
   "metadata": {
    "slideshow": {
     "slide_type": "-"
    }
   },
   "outputs": [],
   "source": [
    "from qiskit.algorithms import Eigensolver, EigensolverResult\n",
    "import time\n",
    "\n",
    "estimator = Estimator(h2_qubit_op, circuit, lambda x: print(f'objective = {x}'))\n",
    "\n",
    "# set penalty weight for overlap term\n",
    "penalty = 40\n",
    "\n",
    "# define objective for VQD\n",
    "def vqd_objective(param_values, \n",
    "                  energy=estimator.estimate, \n",
    "                  overlap=lambda x: fidelity.estimate(x, ground_state_params),\n",
    "                  penalty=penalty):\n",
    "\n",
    "    value = energy(param_values)\n",
    "    value += penalty * overlap(param_values)\n",
    "    return value\n",
    "\n",
    "\n",
    "class Fidelity():\n",
    "    \n",
    "    def __init__(self, circuit_1, circuit_2, callback=None):\n",
    "        \"\"\" Instantiate fidelity estimator. \"\"\"\n",
    "        self._circuit_1 = circuit_1\n",
    "        self._circuit_2 = circuit_2\n",
    "        \n",
    "        self._circuit_1.remove_final_measurements()\n",
    "        self._circuit_2.remove_final_measurements()\n",
    "        \n",
    "        self._callback = callback\n",
    "        \n",
    "    def estimate(self, param_values_1, param_values_2):\n",
    "        \"\"\" Estimate fidelity between the two states defined by \n",
    "        the given parameter values. \"\"\"\n",
    "        \n",
    "        # bind parameter values and transpile circuit\n",
    "        qc = self._circuit_1.bind_parameters(param_values_1)\n",
    "        qc.append(self._circuit_2.bind_parameters(param_values_2).inverse(), \n",
    "                  range(self._circuit_2.num_qubits))\n",
    "        qc.measure_all()\n",
    "        \n",
    "        # run circuit and get probabilities\n",
    "        probabilities = sample(qc, backend)\n",
    "        \n",
    "        # estimate fidelity: |<0|U_1^dag U_2|0>|^2\n",
    "        fidelity = np.maximum(0.0, probabilities.get('0'*qc.num_qubits, 0.0))\n",
    "        \n",
    "        if self._callback:\n",
    "            self._callback(fidelity)\n",
    "        \n",
    "        return fidelity\n",
    "    \n",
    "\n",
    "class VQD(Eigensolver):\n",
    "    \n",
    "    def __init__(self, circuit, optimizer):\n",
    "        self._circuit = circuit\n",
    "        self._optimizer = optimizer\n",
    "        \n",
    "    def compute_eigenvalues(self, operator, aux_operators=None):\n",
    "        \n",
    "        # setup estimators\n",
    "        estimator = Estimator(operator, self._circuit)\n",
    "        fidelity = Fidelity(self._circuit, self._circuit)\n",
    "        \n",
    "        # compute groundstate\n",
    "        vqe = CustomVQE(self._circuit, self._optimizer)\n",
    "        vqe_result = vqe.compute_minimum_eigenvalue(operator)\n",
    "        \n",
    "        # compute first excited states\n",
    "        objective = lambda x: vqd_objective(x, estimator.estimate, \n",
    "                                            lambda y: fidelity.estimate(y, vqe_result.optimal_parameters))\n",
    "        \n",
    "        x0 = np.random.rand(self._circuit.num_parameters)\n",
    "        res = self._optimizer.minimize(objective, x0)\n",
    "                \n",
    "        # populate results\n",
    "        result = EigensolverResult()\n",
    "        result.eigenvalues = [vqe_result.eigenvalue, res.fun]        \n",
    "        return result        \n"
   ]
  },
  {
   "cell_type": "code",
   "execution_count": 92,
   "id": "aba1b6f2",
   "metadata": {
    "slideshow": {
     "slide_type": "slide"
    }
   },
   "outputs": [
    {
     "name": "stdout",
     "output_type": "stream",
     "text": [
      "{   'aux_operator_eigenvalues': None,\n",
      "    'eigenstates': None,\n",
      "    'eigenvalues': [-1.8408305444540258, -0.9781032525487642]}\n"
     ]
    }
   ],
   "source": [
    "h2_second_q_ops = h2_problem.second_q_ops()\n",
    "h2_hamiltonian = h2_second_q_ops[0]\n",
    "h2_qubit_op = jw_converter.convert(h2_hamiltonian)\n",
    "\n",
    "h2_particle_number = h2_problem.grouped_property.get_property(\"ParticleNumber\")\n",
    "h2_num_spin_orbitals = h2_particle_number.num_spin_orbitals\n",
    "h2_num_particles = h2_particle_number.num_particles\n",
    "\n",
    "h2_init_state = HartreeFock(h2_num_spin_orbitals, h2_num_particles, jw_converter)\n",
    "\n",
    "h2_ansatz = UCCSD(\n",
    "    jw_converter,\n",
    "    h2_num_particles,\n",
    "    h2_num_spin_orbitals,\n",
    ")\n",
    "h2_ansatz.initial_state = h2_init_state\n",
    "\n",
    "vqd = VQD(h2_ansatz, optimizer)\n",
    "result = vqd.compute_eigenvalues(h2_qubit_op)\n",
    "print(result)\n"
   ]
  },
  {
   "cell_type": "markdown",
   "id": "7851a72b",
   "metadata": {
    "slideshow": {
     "slide_type": "slide"
    }
   },
   "source": [
    "## Additional Resources\n",
    "\n",
    "* Documentation: https://qiskit.org/documentation/nature/\n",
    "* Tutorials: https://qiskit.org/documentation/nature/tutorials/index.html\n",
    "* Source code: https://github.com/Qiskit/qiskit-nature"
   ]
  },
  {
   "cell_type": "code",
   "execution_count": 66,
   "id": "ae335de0",
   "metadata": {
    "scrolled": true,
    "slideshow": {
     "slide_type": "notes"
    }
   },
   "outputs": [
    {
     "name": "stderr",
     "output_type": "stream",
     "text": [
      "/home/oss/Files/PhD/presentations/IEEE2021/workshop/.direnv/python-3.9.7/lib64/python3.9/site-packages/qiskit/aqua/__init__.py:86: DeprecationWarning: The package qiskit.aqua is deprecated. It was moved/refactored to qiskit-terra For more information see <https://github.com/Qiskit/qiskit-aqua/blob/main/README.md#migration-guide>\n",
      "  warn_package('aqua', 'qiskit-terra')\n"
     ]
    },
    {
     "data": {
      "text/html": [
       "<h3>Version Information</h3><table><tr><th>Qiskit Software</th><th>Version</th></tr><tr><td><code>qiskit-terra</code></td><td>0.18.3</td></tr><tr><td><code>qiskit-aer</code></td><td>0.9.1</td></tr><tr><td><code>qiskit-ignis</code></td><td>0.6.0</td></tr><tr><td><code>qiskit-ibmq-provider</code></td><td>0.17.0</td></tr><tr><td><code>qiskit-aqua</code></td><td>0.9.5</td></tr><tr><td><code>qiskit</code></td><td>0.31.0</td></tr><tr><td><code>qiskit-nature</code></td><td>0.2.2</td></tr><tr><td><code>qiskit-finance</code></td><td>0.2.1</td></tr><tr><td><code>qiskit-optimization</code></td><td>0.2.3</td></tr><tr><td><code>qiskit-machine-learning</code></td><td>0.2.1</td></tr><tr><th>System information</th></tr><tr><td>Python</td><td>3.9.7 (default, Aug 30 2021, 00:00:00) \n",
       "[GCC 10.3.1 20210422 (Red Hat 10.3.1-1)]</td></tr><tr><td>OS</td><td>Linux</td></tr><tr><td>CPUs</td><td>4</td></tr><tr><td>Memory (Gb)</td><td>14.842567443847656</td></tr><tr><td colspan='2'>Wed Oct 20 12:35:42 2021 CEST</td></tr></table>"
      ],
      "text/plain": [
       "<IPython.core.display.HTML object>"
      ]
     },
     "metadata": {},
     "output_type": "display_data"
    },
    {
     "data": {
      "text/html": [
       "<div style='width: 100%; background-color:#d5d9e0;padding-left: 10px; padding-bottom: 10px; padding-right: 10px; padding-top: 5px'><h3>This code is a part of Qiskit</h3><p>&copy; Copyright IBM 2017, 2021.</p><p>This code is licensed under the Apache License, Version 2.0. You may<br>obtain a copy of this license in the LICENSE.txt file in the root directory<br> of this source tree or at http://www.apache.org/licenses/LICENSE-2.0.<p>Any modifications or derivative works of this code must retain this<br>copyright notice, and modified files need to carry a notice indicating<br>that they have been altered from the originals.</p></div>"
      ],
      "text/plain": [
       "<IPython.core.display.HTML object>"
      ]
     },
     "metadata": {},
     "output_type": "display_data"
    }
   ],
   "source": [
    "import qiskit.tools.jupyter\n",
    "%qiskit_version_table\n",
    "%qiskit_copyright"
   ]
  }
 ],
 "metadata": {
  "celltoolbar": "Slideshow",
  "kernelspec": {
   "display_name": "QiskitNature",
   "language": "python",
   "name": "qiskitnature"
  },
  "language_info": {
   "codemirror_mode": {
    "name": "ipython",
    "version": 3
   },
   "file_extension": ".py",
   "mimetype": "text/x-python",
   "name": "python",
   "nbconvert_exporter": "python",
   "pygments_lexer": "ipython3",
   "version": "3.8.10"
  }
 },
 "nbformat": 4,
 "nbformat_minor": 5
}
