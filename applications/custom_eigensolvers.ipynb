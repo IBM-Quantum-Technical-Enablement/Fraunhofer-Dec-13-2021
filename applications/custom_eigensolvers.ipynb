{
 "cells": [
  {
   "cell_type": "code",
   "execution_count": 1,
   "metadata": {
    "slideshow": {
     "slide_type": "slide"
    }
   },
   "outputs": [],
   "source": [
    "import numpy as np\n",
    "import matplotlib.pyplot as plt\n",
    "\n",
    "from qiskit.opflow import PauliSumOp, AbelianGrouper\n",
    "from qiskit.circuit.library import EfficientSU2\n",
    "\n",
    "from qiskit.algorithms import VQE, NumPyMinimumEigensolver, NumPyEigensolver\n",
    "from qiskit.algorithms.optimizers import SPSA\n",
    "\n",
    "from qiskit.providers.aer import QasmSimulator\n",
    "from qiskit.test.mock import FakeBurlington\n",
    "from qiskit import transpile, QuantumCircuit\n",
    "\n",
    "from qiskit.providers.ibmq import IBMQ\n",
    "\n",
    "import mthree"
   ]
  },
  {
   "cell_type": "code",
   "execution_count": 2,
   "metadata": {},
   "outputs": [
    {
     "data": {
      "text/plain": [
       "<AccountProvider for IBMQ(hub='ibm-q', group='open', project='main')>"
      ]
     },
     "execution_count": 2,
     "metadata": {},
     "output_type": "execute_result"
    }
   ],
   "source": [
    "# load account\n",
    "IBMQ.load_account()"
   ]
  },
  {
   "cell_type": "code",
   "execution_count": 3,
   "metadata": {
    "slideshow": {
     "slide_type": "slide"
    }
   },
   "outputs": [],
   "source": [
    "# provider = IBMQ.get_provider(hub='ibm-q-internal', group='near-time')\n",
    "provider = IBMQ.get_provider(hub='ibm-q', group='open')"
   ]
  },
  {
   "cell_type": "code",
   "execution_count": 4,
   "metadata": {},
   "outputs": [
    {
     "data": {
      "text/plain": [
       "[<IBMQSimulator('ibmq_qasm_simulator') from IBMQ(hub='ibm-q', group='open', project='main')>,\n",
       " <IBMQBackend('ibmq_armonk') from IBMQ(hub='ibm-q', group='open', project='main')>,\n",
       " <IBMQBackend('ibmq_santiago') from IBMQ(hub='ibm-q', group='open', project='main')>,\n",
       " <IBMQBackend('ibmq_bogota') from IBMQ(hub='ibm-q', group='open', project='main')>,\n",
       " <IBMQBackend('ibmq_lima') from IBMQ(hub='ibm-q', group='open', project='main')>,\n",
       " <IBMQBackend('ibmq_belem') from IBMQ(hub='ibm-q', group='open', project='main')>,\n",
       " <IBMQBackend('ibmq_quito') from IBMQ(hub='ibm-q', group='open', project='main')>,\n",
       " <IBMQSimulator('simulator_statevector') from IBMQ(hub='ibm-q', group='open', project='main')>,\n",
       " <IBMQSimulator('simulator_mps') from IBMQ(hub='ibm-q', group='open', project='main')>,\n",
       " <IBMQSimulator('simulator_extended_stabilizer') from IBMQ(hub='ibm-q', group='open', project='main')>,\n",
       " <IBMQSimulator('simulator_stabilizer') from IBMQ(hub='ibm-q', group='open', project='main')>,\n",
       " <IBMQBackend('ibmq_manila') from IBMQ(hub='ibm-q', group='open', project='main')>]"
      ]
     },
     "execution_count": 4,
     "metadata": {},
     "output_type": "execute_result"
    }
   ],
   "source": [
    "provider.backends()"
   ]
  },
  {
   "cell_type": "code",
   "execution_count": 5,
   "metadata": {},
   "outputs": [],
   "source": [
    "# define backends\n",
    "ibmq_qasm_backend = provider.get_backend('ibmq_qasm_simulator')\n",
    "qasm_backend = QasmSimulator(shots=8192)\n",
    "noisy_backend = FakeBurlington()\n",
    "real_backend = provider.get_backend('ibmq_lima')"
   ]
  },
  {
   "cell_type": "code",
   "execution_count": 6,
   "metadata": {},
   "outputs": [],
   "source": [
    "# select backend\n",
    "backend = qasm_backend\n",
    "# backend = noisy_backend\n",
    "# backend = real_backend\n",
    "\n",
    "# set number of shots\n",
    "backend.shots = 8192"
   ]
  },
  {
   "cell_type": "markdown",
   "metadata": {
    "slideshow": {
     "slide_type": "slide"
    }
   },
   "source": [
    "# 0. Circuit Sampling"
   ]
  },
  {
   "cell_type": "code",
   "execution_count": 7,
   "metadata": {},
   "outputs": [],
   "source": [
    "def raw_sample(circuit, backend=backend, optimization_level=3):\n",
    "    \n",
    "    # transpile circuit\n",
    "    qc = transpile(circuit, backend, optimization_level=optimization_level)\n",
    "    \n",
    "    # run circuit\n",
    "    job = backend.run(qc)\n",
    "    counts = job.result().get_counts()\n",
    "    \n",
    "    # evaluate probabilities\n",
    "    shots = sum(counts.values())\n",
    "    probabilities = {b: c/shots for b, c in counts.items()}\n",
    "    return probabilities\n",
    "    \n",
    "\n",
    "# instantiate and calibrate mitigation scheme\n",
    "mit = mthree.M3Mitigation(backend)\n",
    "mit.cals_from_system()\n",
    "# mit.cals_from_system(method='independent')  # use this to speed up noisy simulation\n",
    "    \n",
    "def mitigated_sample(circuit, backend=backend, mit=mit, optimization_level=3):\n",
    "    \n",
    "    # transpile circuit\n",
    "    qc = transpile(circuit, backend, optimization_level=optimization_level)\n",
    "    \n",
    "    # determine final qubit mappings\n",
    "    maps = mthree.utils.final_measurement_mapping(qc)\n",
    "    \n",
    "    # run circuit\n",
    "    job = backend.run(qc)\n",
    "    counts = job.result().get_counts()\n",
    "        \n",
    "    # mitigate shots\n",
    "    quasi_probabilities = mit.apply_correction(counts, maps)    \n",
    "    return quasi_probabilities\n",
    "\n",
    "# choose sampling function\n",
    "sample = raw_sample\n",
    "# sample = mitigated_sample"
   ]
  },
  {
   "cell_type": "code",
   "execution_count": 8,
   "metadata": {
    "slideshow": {
     "slide_type": "slide"
    }
   },
   "outputs": [
    {
     "data": {
      "text/html": [
       "<pre style=\"word-wrap: normal;white-space: pre;background: #fff0;line-height: 1.1;font-family: &quot;Courier New&quot;,Courier,monospace\">        ┌───┐           ░ ┌─┐      \n",
       "   q_0: ┤ H ├──■────────░─┤M├──────\n",
       "        └───┘┌─┴─┐      ░ └╥┘┌─┐   \n",
       "   q_1: ─────┤ X ├──■───░──╫─┤M├───\n",
       "             └───┘┌─┴─┐ ░  ║ └╥┘┌─┐\n",
       "   q_2: ──────────┤ X ├─░──╫──╫─┤M├\n",
       "                  └───┘ ░  ║  ║ └╥┘\n",
       "meas: 3/═══════════════════╩══╩══╩═\n",
       "                           0  1  2 </pre>"
      ],
      "text/plain": [
       "        ┌───┐           ░ ┌─┐      \n",
       "   q_0: ┤ H ├──■────────░─┤M├──────\n",
       "        └───┘┌─┴─┐      ░ └╥┘┌─┐   \n",
       "   q_1: ─────┤ X ├──■───░──╫─┤M├───\n",
       "             └───┘┌─┴─┐ ░  ║ └╥┘┌─┐\n",
       "   q_2: ──────────┤ X ├─░──╫──╫─┤M├\n",
       "                  └───┘ ░  ║  ║ └╥┘\n",
       "meas: 3/═══════════════════╩══╩══╩═\n",
       "                           0  1  2 "
      ]
     },
     "execution_count": 8,
     "metadata": {},
     "output_type": "execute_result"
    }
   ],
   "source": [
    "circuit = QuantumCircuit(3)\n",
    "circuit.h(0)\n",
    "circuit.cx(0,1)\n",
    "circuit.cx(1, 2)\n",
    "circuit.measure_all()\n",
    "circuit.draw()"
   ]
  },
  {
   "cell_type": "code",
   "execution_count": 9,
   "metadata": {},
   "outputs": [
    {
     "data": {
      "text/plain": [
       "{'111': 0.497314453125, '000': 0.502685546875}"
      ]
     },
     "execution_count": 9,
     "metadata": {},
     "output_type": "execute_result"
    }
   ],
   "source": [
    "# raw sampling without noise\n",
    "raw_sample(circuit, qasm_backend)"
   ]
  },
  {
   "cell_type": "code",
   "execution_count": 10,
   "metadata": {},
   "outputs": [
    {
     "data": {
      "text/plain": [
       "{'000': 0.5047607421875, '111': 0.4952392578125}"
      ]
     },
     "execution_count": 10,
     "metadata": {},
     "output_type": "execute_result"
    }
   ],
   "source": [
    "# raw sampling with noise\n",
    "raw_sample(circuit, backend)"
   ]
  },
  {
   "cell_type": "code",
   "execution_count": 11,
   "metadata": {
    "scrolled": false
   },
   "outputs": [
    {
     "data": {
      "text/plain": [
       "{'000': 0.5, '111': 0.5}"
      ]
     },
     "execution_count": 11,
     "metadata": {},
     "output_type": "execute_result"
    }
   ],
   "source": [
    "# mitigating sampling with noise\n",
    "mitigated_sample(circuit, backend)"
   ]
  },
  {
   "cell_type": "markdown",
   "metadata": {
    "slideshow": {
     "slide_type": "slide"
    }
   },
   "source": [
    "# 1. Estimation of Expectation Values and VQE"
   ]
  },
  {
   "cell_type": "markdown",
   "metadata": {
    "slideshow": {
     "slide_type": "slide"
    }
   },
   "source": [
    "### 1.1 Preliminaries\n",
    "- `PauliSumOp`\n",
    "- `AbelianGrouper`\n",
    "- Deriving measurement bases"
   ]
  },
  {
   "cell_type": "code",
   "execution_count": 12,
   "metadata": {
    "slideshow": {
     "slide_type": "slide"
    }
   },
   "outputs": [
    {
     "name": "stdout",
     "output_type": "stream",
     "text": [
      "1.0 * XXI\n",
      "+ 2.0 * XII\n",
      "+ 3.0 * YIY\n",
      "+ 4.0 * ZZI\n",
      "+ 5.0 * XIY\n"
     ]
    }
   ],
   "source": [
    "# define Hamiltonian\n",
    "H = PauliSumOp.from_list([('XXI', 1), ('XII', 2), ('YIY', 3), ('ZZI', 4), ('XIY', 5)])\n",
    "\n",
    "# second test Hamiltonian\n",
    "# H = PauliSumOp.from_list([('ZZI', 1), ('ZII', 2), ('ZIZ', 3), ('IZZ', 4)])\n",
    "\n",
    "print(H)"
   ]
  },
  {
   "cell_type": "code",
   "execution_count": 13,
   "metadata": {
    "slideshow": {
     "slide_type": "slide"
    }
   },
   "outputs": [
    {
     "name": "stdout",
     "output_type": "stream",
     "text": [
      "-----------\n",
      "3.0 * YIY\n",
      "-----------\n",
      "4.0 * ZZI\n",
      "-----------\n",
      "1.0 * XXI\n",
      "+ 2.0 * XII\n",
      "+ 5.0 * XIY\n",
      "-----------\n"
     ]
    }
   ],
   "source": [
    "# group commuting Pauli terms \n",
    "grouper = AbelianGrouper()\n",
    "groups = grouper.convert(H)\n",
    "print('-----------')\n",
    "for group in groups.oplist:\n",
    "    print(group)\n",
    "    print('-----------')"
   ]
  },
  {
   "cell_type": "code",
   "execution_count": 14,
   "metadata": {},
   "outputs": [
    {
     "name": "stdout",
     "output_type": "stream",
     "text": [
      "['Y', 'I', 'Y']\n",
      "['I', 'Z', 'Z']\n",
      "['Y', 'X', 'X']\n"
     ]
    }
   ],
   "source": [
    "# derives measurement basis from group of commuting Pauli terms\n",
    "for group in groups:\n",
    "    basis = ['I']*group.num_qubits\n",
    "    for pauli_string in group.primitive.paulis:\n",
    "        for i, pauli in enumerate(pauli_string):\n",
    "            p = str(pauli)\n",
    "            if p != 'I':\n",
    "                if basis[i] == 'I':\n",
    "                    basis[i] = p\n",
    "                elif basis[i] != p:\n",
    "                    raise ValueError('PauliSumOp contains non-commuting terms!')\n",
    "    print(basis)"
   ]
  },
  {
   "cell_type": "markdown",
   "metadata": {
    "slideshow": {
     "slide_type": "slide"
    }
   },
   "source": [
    "### 1.2 Estimator class"
   ]
  },
  {
   "cell_type": "code",
   "execution_count": 15,
   "metadata": {
    "slideshow": {
     "slide_type": "slide"
    }
   },
   "outputs": [],
   "source": [
    "class Estimator():\n",
    "    \n",
    "    def __init__(self, observable, circuit, callback=None):\n",
    "        \"\"\" Instantiate estimator for given observable and circuit. \"\"\"\n",
    "        \n",
    "        # store problem\n",
    "        self._observable = observable\n",
    "        self._circuit = circuit\n",
    "        \n",
    "        # group Pauli terms\n",
    "        self._grouper = AbelianGrouper()\n",
    "        self._groups = self._grouper.convert(self._observable).oplist\n",
    "        \n",
    "        # derive measurement bases\n",
    "        self._bases = []\n",
    "        for group in self._groups:\n",
    "            self._bases += [self._get_measurement_basis(group)]\n",
    "            \n",
    "        # construct circuits with post-rotations\n",
    "        self._circuits = []\n",
    "        for basis in self._bases:\n",
    "            self._circuits += [self._append_post_rotation(self._circuit, basis)]\n",
    "            \n",
    "        # store callback\n",
    "        self._callback = callback\n",
    "        \n",
    "    def _get_measurement_basis(self, observable):\n",
    "        \"\"\" Derive measurement basis from observable or raise exception in case of non-commuting terms. \"\"\"\n",
    "                \n",
    "        basis = ['I']*observable.num_qubits\n",
    "        for pauli_string in observable.primitive.paulis:\n",
    "            for i, pauli in enumerate(pauli_string):\n",
    "                p = str(pauli)\n",
    "                if p != 'I':\n",
    "                    if basis[i] == 'I':\n",
    "                        basis[i] = p\n",
    "                    elif basis[i] != p:\n",
    "                        raise ValueError('PauliSumOp contains non-commuting terms!')\n",
    "        return basis\n",
    "    \n",
    "    def _append_post_rotation(self, circuit, basis):\n",
    "        \"\"\" Append post rotation to circuit to measure in given basis. \"\"\"\n",
    "        \n",
    "        new_circuit = circuit.copy()\n",
    "        for i, pauli in enumerate(basis):\n",
    "            if pauli == 'X':  # H @ X @ H = Z\n",
    "                new_circuit.h(i)\n",
    "            if pauli == 'Y':  # S^dag @ H @ Y @ H @ S = Z\n",
    "                new_circuit.s(i)\n",
    "                new_circuit.h(i)\n",
    "        new_circuit.measure_all()\n",
    "        return new_circuit\n",
    "    \n",
    "    def estimate(self, param_values=None):\n",
    "        \"\"\" Estimate expectation value of given observable in state corresponding to given parameter values. \"\"\"\n",
    "\n",
    "        if param_values is None and self._circuit.num_parameters > 0 or\\\n",
    "            len(param_values) != self._circuit.num_parameters:\n",
    "            raise ValueError('Wrong number of parameters!')\n",
    "        \n",
    "        value = 0        \n",
    "        for group, circuit in zip(self._groups, self._circuits):\n",
    "            value += self._estimate_group(group, circuit, param_values)        \n",
    "            \n",
    "        if self._callback:\n",
    "            self._callback(np.real(value))\n",
    "            \n",
    "        return np.real(value)\n",
    "        \n",
    "    def _estimate_group(self, group, circuit, param_values):\n",
    "        \"\"\" Estimate expectation value for group of commuting terms that can be measured in the same basis. \"\"\"\n",
    "        \n",
    "        probabilities = sample(circuit.bind_parameters(param_values), backend)\n",
    "        \n",
    "        value = 0\n",
    "        for (pauli, coeff) in zip(group.primitive.paulis, group.primitive.coeffs):\n",
    "            val = 0\n",
    "            p = str(pauli)\n",
    "            for b, prob in probabilities.items():\n",
    "                val += prob * np.prod([(-1)**(b[i] == '1' and p[i] != 'I') for i in range(len(b))])\n",
    "\n",
    "            value += coeff * val\n",
    "    \n",
    "        return value"
   ]
  },
  {
   "cell_type": "code",
   "execution_count": 16,
   "metadata": {
    "slideshow": {
     "slide_type": "slide"
    }
   },
   "outputs": [
    {
     "data": {
      "text/html": [
       "<pre style=\"word-wrap: normal;white-space: pre;background: #fff0;line-height: 1.1;font-family: &quot;Courier New&quot;,Courier,monospace\">     ┌──────────┐┌──────────┐     ┌──────────┐┌──────────┐             \n",
       "q_0: ┤ Ry(θ[0]) ├┤ Rz(θ[3]) ├──■──┤ Ry(θ[6]) ├┤ Rz(θ[9]) ├─────────────\n",
       "     ├──────────┤├──────────┤┌─┴─┐└──────────┘├──────────┤┌───────────┐\n",
       "q_1: ┤ Ry(θ[1]) ├┤ Rz(θ[4]) ├┤ X ├─────■──────┤ Ry(θ[7]) ├┤ Rz(θ[10]) ├\n",
       "     ├──────────┤├──────────┤└───┘   ┌─┴─┐    ├──────────┤├───────────┤\n",
       "q_2: ┤ Ry(θ[2]) ├┤ Rz(θ[5]) ├────────┤ X ├────┤ Ry(θ[8]) ├┤ Rz(θ[11]) ├\n",
       "     └──────────┘└──────────┘        └───┘    └──────────┘└───────────┘</pre>"
      ],
      "text/plain": [
       "     ┌──────────┐┌──────────┐     ┌──────────┐┌──────────┐             \n",
       "q_0: ┤ Ry(θ[0]) ├┤ Rz(θ[3]) ├──■──┤ Ry(θ[6]) ├┤ Rz(θ[9]) ├─────────────\n",
       "     ├──────────┤├──────────┤┌─┴─┐└──────────┘├──────────┤┌───────────┐\n",
       "q_1: ┤ Ry(θ[1]) ├┤ Rz(θ[4]) ├┤ X ├─────■──────┤ Ry(θ[7]) ├┤ Rz(θ[10]) ├\n",
       "     ├──────────┤├──────────┤└───┘   ┌─┴─┐    ├──────────┤├───────────┤\n",
       "q_2: ┤ Ry(θ[2]) ├┤ Rz(θ[5]) ├────────┤ X ├────┤ Ry(θ[8]) ├┤ Rz(θ[11]) ├\n",
       "     └──────────┘└──────────┘        └───┘    └──────────┘└───────────┘"
      ]
     },
     "execution_count": 16,
     "metadata": {},
     "output_type": "execute_result"
    }
   ],
   "source": [
    "# define parametrized circuit\n",
    "circuit = EfficientSU2(H.num_qubits, entanglement='linear', reps=1)\n",
    "circuit.decompose().draw()"
   ]
  },
  {
   "cell_type": "code",
   "execution_count": 17,
   "metadata": {},
   "outputs": [],
   "source": [
    "# instantiate estimator\n",
    "estimator = Estimator(H, circuit, lambda x: print(f'objective = {x}'))"
   ]
  },
  {
   "cell_type": "code",
   "execution_count": 18,
   "metadata": {
    "scrolled": false
   },
   "outputs": [
    {
     "name": "stdout",
     "output_type": "stream",
     "text": [
      "objective = 2.0107421875\n"
     ]
    },
    {
     "data": {
      "text/plain": [
       "2.0107421875"
      ]
     },
     "execution_count": 18,
     "metadata": {},
     "output_type": "execute_result"
    }
   ],
   "source": [
    "# test on random parameters\n",
    "theta = np.random.rand(12)\n",
    "estimator.estimate(theta)"
   ]
  },
  {
   "cell_type": "markdown",
   "metadata": {
    "slideshow": {
     "slide_type": "slide"
    }
   },
   "source": [
    "### 1.3 Classical baseline"
   ]
  },
  {
   "cell_type": "code",
   "execution_count": 19,
   "metadata": {},
   "outputs": [
    {
     "name": "stdout",
     "output_type": "stream",
     "text": [
      "{   'aux_operator_eigenvalues': None,\n",
      "    'eigenstate': VectorStateFn(Statevector([ 0.18959355-0.1737214j ,  0.1737214 +0.18959355j,\n",
      "              0.36238323-0.22924563j,  0.22924563+0.36238323j,\n",
      "             -0.39861804+0.15804689j, -0.15804689-0.39861804j,\n",
      "             -0.25203264+0.05103318j, -0.05103318-0.25203264j],\n",
      "            dims=(2, 2, 2)), coeff=1.0, is_measurement=False),\n",
      "    'eigenvalue': -9.545916168529724}\n"
     ]
    }
   ],
   "source": [
    "exact_solver = NumPyMinimumEigensolver()\n",
    "exact_result = exact_solver.compute_minimum_eigenvalue(H)\n",
    "print(exact_result)"
   ]
  },
  {
   "cell_type": "markdown",
   "metadata": {
    "slideshow": {
     "slide_type": "slide"
    }
   },
   "source": [
    "### 1.4 Build custom VQE"
   ]
  },
  {
   "cell_type": "code",
   "execution_count": 20,
   "metadata": {},
   "outputs": [],
   "source": [
    "# instantiate optimizer\n",
    "optimizer = SPSA(maxiter=100)"
   ]
  },
  {
   "cell_type": "code",
   "execution_count": 21,
   "metadata": {
    "scrolled": true
   },
   "outputs": [
    {
     "name": "stdout",
     "output_type": "stream",
     "text": [
      "objective = 3.9853515625\n",
      "objective = 1.880615234375\n",
      "objective = 2.978271484375\n",
      "objective = 3.637939453125\n",
      "objective = 3.125732421875\n",
      "objective = 3.70263671875\n",
      "objective = 2.0380859375\n",
      "objective = 4.48681640625\n",
      "objective = 2.357666015625\n",
      "objective = 3.8525390625\n",
      "objective = 1.721923828125\n",
      "objective = 3.544677734375\n",
      "objective = 3.29541015625\n",
      "objective = 2.111572265625\n",
      "objective = 2.875244140625\n",
      "objective = 3.389404296875\n",
      "objective = 4.246337890625\n",
      "objective = 1.89990234375\n",
      "objective = 3.787109375\n",
      "objective = 3.11865234375\n",
      "objective = 3.20703125\n",
      "objective = 3.288330078125\n",
      "objective = 2.10205078125\n",
      "objective = 3.486083984375\n",
      "objective = 2.80419921875\n",
      "objective = 3.55810546875\n",
      "objective = 3.103759765625\n",
      "objective = 3.49658203125\n",
      "objective = 3.904296875\n",
      "objective = 2.3994140625\n",
      "objective = 3.26220703125\n",
      "objective = 2.951171875\n",
      "objective = 3.591064453125\n",
      "objective = 2.800537109375\n",
      "objective = 4.39306640625\n",
      "objective = 1.858642578125\n",
      "objective = 3.213623046875\n",
      "objective = 3.41796875\n",
      "objective = 3.89306640625\n",
      "objective = 2.729248046875\n",
      "objective = 1.947998046875\n",
      "objective = 3.769287109375\n",
      "objective = 4.1611328125\n",
      "objective = 1.865478515625\n",
      "objective = 4.167236328125\n",
      "objective = 1.755615234375\n",
      "objective = 3.700439453125\n",
      "objective = 2.840576171875\n",
      "objective = 3.529052734375\n",
      "objective = 2.59765625\n",
      "objective = 1.92626953125\n",
      "objective = 4.89404296875\n",
      "objective = 2.108642578125\n",
      "objective = -0.70166015625\n",
      "objective = -3.27294921875\n",
      "objective = -4.00390625\n",
      "objective = -3.3525390625\n",
      "objective = -4.856201171875\n",
      "objective = -4.352783203125\n",
      "objective = -6.171875\n",
      "objective = -3.56689453125\n",
      "objective = -3.927978515625\n",
      "objective = -4.719482421875\n",
      "objective = -3.57958984375\n",
      "objective = -4.285400390625\n",
      "objective = -4.865478515625\n",
      "objective = -4.24951171875\n",
      "objective = -4.921630859375\n",
      "objective = -5.258056640625\n",
      "objective = -4.326171875\n",
      "objective = -5.616943359375\n",
      "objective = -3.810302734375\n",
      "objective = -5.32958984375\n",
      "objective = -4.950927734375\n",
      "objective = -4.32568359375\n",
      "objective = -5.3369140625\n",
      "objective = -5.591064453125\n",
      "objective = -5.168212890625\n",
      "objective = -4.297607421875\n",
      "objective = -6.5205078125\n",
      "objective = -7.04296875\n",
      "objective = -6.90185546875\n",
      "objective = -7.5048828125\n",
      "objective = -6.22509765625\n",
      "objective = -6.78857421875\n",
      "objective = -7.176025390625\n",
      "objective = -5.512939453125\n",
      "objective = -7.803955078125\n",
      "objective = -7.2353515625\n",
      "objective = -6.8232421875\n",
      "objective = -7.125\n",
      "objective = -7.013671875\n",
      "objective = -7.268310546875\n",
      "objective = -6.3896484375\n",
      "objective = -6.506591796875\n",
      "objective = -7.60009765625\n",
      "objective = -7.6640625\n",
      "objective = -6.55322265625\n",
      "objective = -7.678955078125\n",
      "objective = -6.75732421875\n",
      "objective = -7.581298828125\n",
      "objective = -7.0517578125\n",
      "objective = -7.072021484375\n",
      "objective = -7.856201171875\n",
      "objective = -7.515869140625\n",
      "objective = -7.10595703125\n",
      "objective = -7.076171875\n",
      "objective = -7.750732421875\n",
      "objective = -8.066650390625\n",
      "objective = -7.549072265625\n",
      "objective = -7.05078125\n",
      "objective = -8.197998046875\n",
      "objective = -6.974609375\n",
      "objective = -8.21435546875\n",
      "objective = -7.316162109375\n",
      "objective = -8.6806640625\n",
      "objective = -7.990966796875\n",
      "objective = -8.1640625\n",
      "objective = -8.128662109375\n",
      "objective = -8.479248046875\n",
      "objective = -8.348388671875\n",
      "objective = -8.382080078125\n",
      "objective = -7.8232421875\n",
      "objective = -8.59814453125\n",
      "objective = -7.8955078125\n",
      "objective = -8.58203125\n",
      "objective = -8.3310546875\n",
      "objective = -8.505859375\n",
      "objective = -8.393310546875\n",
      "objective = -8.079833984375\n",
      "objective = -8.545166015625\n",
      "objective = -8.688232421875\n",
      "objective = -8.3271484375\n",
      "objective = -8.4150390625\n",
      "objective = -9.15087890625\n",
      "objective = -7.91748046875\n",
      "objective = -8.888916015625\n",
      "objective = -8.2958984375\n",
      "objective = -8.85400390625\n",
      "objective = -8.38134765625\n",
      "objective = -8.54931640625\n",
      "objective = -8.9130859375\n",
      "objective = -9.036865234375\n",
      "objective = -8.734375\n",
      "objective = -9.08544921875\n",
      "objective = -8.69580078125\n",
      "objective = -9.21728515625\n",
      "objective = -8.90625\n",
      "objective = -8.70458984375\n",
      "objective = -9.161865234375\n",
      "objective = -8.766357421875\n",
      "objective = -9.221435546875\n",
      "objective = -9.13427734375\n",
      "objective = -8.87060546875\n",
      "objective = -8.761962890625\n",
      "objective = -8.901611328125\n",
      "objective = -9.067626953125\n",
      "objective = -8.61181640625\n",
      "objective = -9.12841796875\n",
      "objective = -8.82568359375\n",
      "objective = -9.156982421875\n",
      "objective = -8.611572265625\n",
      "objective = -8.88623046875\n",
      "objective = -8.73681640625\n",
      "objective = -9.034423828125\n",
      "objective = -8.714111328125\n",
      "objective = -8.785400390625\n",
      "objective = -9.01220703125\n",
      "objective = -9.060302734375\n",
      "objective = -9.22900390625\n",
      "objective = -9.04150390625\n",
      "objective = -9.074951171875\n",
      "objective = -8.856201171875\n",
      "objective = -9.015380859375\n",
      "objective = -8.718017578125\n",
      "objective = -8.95654296875\n",
      "objective = -8.70751953125\n",
      "objective = -8.965576171875\n",
      "objective = -9.091796875\n",
      "objective = -9.01513671875\n",
      "objective = -8.455078125\n",
      "objective = -9.15771484375\n",
      "objective = -9.053955078125\n",
      "objective = -8.690673828125\n",
      "objective = -9.118408203125\n",
      "objective = -8.994384765625\n",
      "objective = -9.06640625\n",
      "objective = -8.635009765625\n",
      "objective = -9.159423828125\n",
      "objective = -8.8662109375\n",
      "objective = -9.149658203125\n",
      "objective = -8.969970703125\n",
      "objective = -9.07421875\n",
      "objective = -8.9658203125\n",
      "objective = -9.118896484375\n",
      "objective = -9.248291015625\n",
      "objective = -9.244140625\n",
      "objective = -9.017333984375\n",
      "objective = -8.80126953125\n",
      "objective = -9.036376953125\n",
      "objective = -8.8388671875\n",
      "objective = -9.0009765625\n",
      "objective = -9.154541015625\n",
      "objective = -8.867431640625\n",
      "objective = -9.35693359375\n",
      "objective = -9.099853515625\n",
      "objective = -9.085205078125\n",
      "objective = -9.119140625\n",
      "objective = -8.94287109375\n",
      "objective = -8.922607421875\n",
      "objective = -8.97998046875\n",
      "objective = -9.21142578125\n",
      "objective = -9.07666015625\n",
      "objective = -9.175537109375\n",
      "objective = -9.0859375\n",
      "objective = -9.189453125\n",
      "objective = -9.19287109375\n",
      "objective = -9.2724609375\n",
      "objective = -8.913818359375\n",
      "objective = -9.139404296875\n",
      "objective = -9.156005859375\n",
      "objective = -8.864990234375\n",
      "objective = -9.091552734375\n",
      "objective = -9.0771484375\n",
      "objective = -9.1416015625\n",
      "objective = -9.12841796875\n",
      "objective = -9.256103515625\n",
      "objective = -9.189697265625\n",
      "objective = -8.814697265625\n",
      "objective = -9.040283203125\n",
      "objective = -9.270751953125\n",
      "objective = -8.98388671875\n",
      "objective = -8.90185546875\n",
      "objective = -9.08349609375\n",
      "objective = -9.149169921875\n",
      "objective = -9.16455078125\n",
      "objective = -9.062255859375\n",
      "objective = -9.148193359375\n",
      "objective = -9.158935546875\n",
      "objective = -9.04541015625\n",
      "objective = -9.13427734375\n",
      "objective = -9.15576171875\n",
      "objective = -8.867431640625\n",
      "objective = -8.95947265625\n",
      "objective = -9.093994140625\n",
      "objective = -8.970458984375\n",
      "objective = -9.193359375\n",
      "objective = -8.96142578125\n",
      "objective = -9.205078125\n",
      "objective = -9.0791015625\n",
      "objective = -9.569580078125\n",
      "-9.569580078125\n",
      "[ 3.09305296 -1.53160956 -1.10533774  0.98403573  0.73712281  3.23624625\n",
      "  1.56719843  3.37945774 -0.09300073  1.52133892  5.28579141  2.76196815]\n"
     ]
    }
   ],
   "source": [
    "x0 = np.random.rand(circuit.num_parameters)\n",
    "result = optimizer.minimize(estimator.estimate, x0=x0)\n",
    "print(result.fun)\n",
    "print(result.x)\n",
    "\n",
    "# store ground state parameters for later\n",
    "ground_state_params = result.x"
   ]
  },
  {
   "cell_type": "markdown",
   "metadata": {
    "slideshow": {
     "slide_type": "slide"
    }
   },
   "source": [
    "### 1.5 Compare to Qiskit VQE"
   ]
  },
  {
   "cell_type": "code",
   "execution_count": 22,
   "metadata": {},
   "outputs": [],
   "source": [
    "vqe = VQE(circuit, optimizer, quantum_instance=backend)"
   ]
  },
  {
   "cell_type": "code",
   "execution_count": 23,
   "metadata": {
    "scrolled": true
   },
   "outputs": [
    {
     "name": "stdout",
     "output_type": "stream",
     "text": [
      "{   'aux_operator_eigenvalues': None,\n",
      "    'cost_function_evals': 200,\n",
      "    'eigenstate': {   '000': 0.2521876936182652,\n",
      "                      '001': 0.24407030237208294,\n",
      "                      '010': 0.45714808869774354,\n",
      "                      '011': 0.44235586459037707,\n",
      "                      '100': 0.40640021261374853,\n",
      "                      '101': 0.39233998529655373,\n",
      "                      '110': 0.28059820306356204,\n",
      "                      '111': 0.27265513072836167},\n",
      "    'eigenvalue': (-7.824707031249998+0j),\n",
      "    'optimal_parameters': {   ParameterVectorElement(θ[3]): 3.199338393280728,\n",
      "                              ParameterVectorElement(θ[4]): -3.1381229315702,\n",
      "                              ParameterVectorElement(θ[0]): -0.0015493696305738693,\n",
      "                              ParameterVectorElement(θ[5]): 3.320997455337946,\n",
      "                              ParameterVectorElement(θ[9]): 4.707953281838576,\n",
      "                              ParameterVectorElement(θ[10]): 0.8485508842014864,\n",
      "                              ParameterVectorElement(θ[8]): -1.6663059290690962,\n",
      "                              ParameterVectorElement(θ[7]): 1.4370241389514176,\n",
      "                              ParameterVectorElement(θ[6]): 4.7470462158137865,\n",
      "                              ParameterVectorElement(θ[11]): -2.7324575839863092,\n",
      "                              ParameterVectorElement(θ[2]): 0.026486482509772976,\n",
      "                              ParameterVectorElement(θ[1]): -2.681266435916873},\n",
      "    'optimal_point': array([-1.54936963e-03, -2.68126644e+00,  2.64864825e-02,  3.19933839e+00,\n",
      "       -3.13812293e+00,  3.32099746e+00,  4.74704622e+00,  1.43702414e+00,\n",
      "       -1.66630593e+00,  4.70795328e+00,  8.48550884e-01, -2.73245758e+00]),\n",
      "    'optimal_value': -7.824707031249998,\n",
      "    'optimizer_evals': None,\n",
      "    'optimizer_time': 9.000817775726318}\n"
     ]
    }
   ],
   "source": [
    "result = vqe.compute_minimum_eigenvalue(H)\n",
    "print(result)"
   ]
  },
  {
   "cell_type": "markdown",
   "metadata": {
    "slideshow": {
     "slide_type": "slide"
    }
   },
   "source": [
    "### 1.6 Integrate in Qiskit\n",
    "\n",
    "Implement Qiskit's `MinimumEigensolver` interface to reuse custom algorithm in Qiskit Applications stack."
   ]
  },
  {
   "cell_type": "code",
   "execution_count": 24,
   "metadata": {},
   "outputs": [],
   "source": [
    "from qiskit.algorithms import MinimumEigensolver, VQEResult\n",
    "\n",
    "class CustomVQE(MinimumEigensolver):\n",
    "    \n",
    "    def __init__(self, circuit, optimizer):\n",
    "        self._circuit = circuit\n",
    "        self._optimizer = optimizer\n",
    "        \n",
    "    def compute_minimum_eigenvalue(self, operator, aux_operators=None):\n",
    "                \n",
    "        # run optimization\n",
    "        estimator = Estimator(H, self._circuit)        \n",
    "        x0 = np.random.rand(self._circuit.num_parameters)\n",
    "        res = self._optimizer.minimize(estimator.estimate, x0=x0)\n",
    "\n",
    "        # evaluate auxilliary operators if given\n",
    "        aux_operator_eigenvalues = None\n",
    "        if aux_operators is not None:\n",
    "            aux_operator_eigenvalues = []\n",
    "            for aux_estimator in [ Estimator(aux_op, self._circuit) \n",
    "                                      for aux_op in aux_operators ]:\n",
    "                aux_operator_eigenvalues += [aux_estimator.estimate(res.x)]\n",
    "        \n",
    "        # populate results\n",
    "        result = VQEResult()\n",
    "        result.aux_operator_eigenvalues = aux_operator_eigenvalues\n",
    "        result.cost_function_evals = res.nfev\n",
    "        result.eigenstate = None\n",
    "        result.eigenvalue = res.fun\n",
    "        result.optimal_parameters = res.x\n",
    "        result.optimal_point = res.x\n",
    "        result.optimal_value = res.fun\n",
    "        return result"
   ]
  },
  {
   "cell_type": "code",
   "execution_count": 25,
   "metadata": {
    "slideshow": {
     "slide_type": "slide"
    }
   },
   "outputs": [
    {
     "name": "stdout",
     "output_type": "stream",
     "text": [
      "{   'aux_operator_eigenvalues': None,\n",
      "    'cost_function_evals': 200,\n",
      "    'eigenstate': None,\n",
      "    'eigenvalue': -8.727783203125,\n",
      "    'optimal_parameters': array([-2.97056864,  0.09107838,  4.30355651,  2.71752706,  2.0285397 ,\n",
      "        1.21570465,  1.57004302, -0.10278113,  0.19223051,  1.57382589,\n",
      "       -1.53593716,  0.90764239]),\n",
      "    'optimal_point': array([-2.97056864,  0.09107838,  4.30355651,  2.71752706,  2.0285397 ,\n",
      "        1.21570465,  1.57004302, -0.10278113,  0.19223051,  1.57382589,\n",
      "       -1.53593716,  0.90764239]),\n",
      "    'optimal_value': -8.727783203125,\n",
      "    'optimizer_evals': None,\n",
      "    'optimizer_time': None}\n"
     ]
    }
   ],
   "source": [
    "custom_vqe = CustomVQE(circuit, optimizer)\n",
    "result = custom_vqe.compute_minimum_eigenvalue(H)\n",
    "print(result)"
   ]
  },
  {
   "cell_type": "markdown",
   "metadata": {
    "slideshow": {
     "slide_type": "slide"
    }
   },
   "source": [
    "# 2. State Fidelity"
   ]
  },
  {
   "cell_type": "code",
   "execution_count": 26,
   "metadata": {
    "slideshow": {
     "slide_type": "slide"
    }
   },
   "outputs": [],
   "source": [
    "class Fidelity():\n",
    "    \n",
    "    def __init__(self, circuit_1, circuit_2, callback=None):\n",
    "        \"\"\" Instantiate fidelity estimator. \"\"\"\n",
    "        self._circuit_1 = circuit_1\n",
    "        self._circuit_2 = circuit_2\n",
    "        \n",
    "        self._circuit_1.remove_final_measurements()\n",
    "        self._circuit_2.remove_final_measurements()\n",
    "        \n",
    "        self._callback = callback\n",
    "        \n",
    "    def estimate(self, param_values_1, param_values_2):\n",
    "        \"\"\" Estimate fidelity between the two states defined by \n",
    "        the given parameter values. \"\"\"\n",
    "        \n",
    "        # bind parameter values and transpile circuit\n",
    "        qc = self._circuit_1.bind_parameters(param_values_1)\n",
    "        qc.append(self._circuit_2.bind_parameters(param_values_2).inverse(), \n",
    "                  range(self._circuit_2.num_qubits))\n",
    "        qc.measure_all()\n",
    "        \n",
    "        # run circuit and get probabilities\n",
    "        probabilities = sample(qc, backend)\n",
    "        \n",
    "        # estimate fidelity: |<0|U_1^dag U_2|0>|^2\n",
    "        fidelity = np.minimum(1.0, np.maximum(0.0, probabilities.get('0'*qc.num_qubits, 0.0)))\n",
    "        \n",
    "        if self._callback:\n",
    "            self._callback(fidelity)\n",
    "        \n",
    "        return fidelity"
   ]
  },
  {
   "cell_type": "code",
   "execution_count": 27,
   "metadata": {
    "slideshow": {
     "slide_type": "slide"
    }
   },
   "outputs": [],
   "source": [
    "# instantiate fidelity\n",
    "fidelity = Fidelity(circuit, circuit, lambda x: print(f'fidelity = {x}'))"
   ]
  },
  {
   "cell_type": "code",
   "execution_count": 28,
   "metadata": {},
   "outputs": [],
   "source": [
    "# sample random parameters\n",
    "x = np.random.rand(circuit.num_parameters)\n",
    "y = np.random.rand(circuit.num_parameters)"
   ]
  },
  {
   "cell_type": "code",
   "execution_count": 29,
   "metadata": {
    "scrolled": true
   },
   "outputs": [
    {
     "name": "stdout",
     "output_type": "stream",
     "text": [
      "fidelity = 1.0\n",
      "fidelity = 0.9998779296875\n",
      "fidelity = 0.9996337890625\n",
      "fidelity = 0.9986572265625\n",
      "fidelity = 0.99853515625\n",
      "fidelity = 0.9974365234375\n",
      "fidelity = 0.9952392578125\n",
      "fidelity = 0.994140625\n",
      "fidelity = 0.99267578125\n",
      "fidelity = 0.99169921875\n",
      "fidelity = 0.98681640625\n",
      "fidelity = 0.986572265625\n",
      "fidelity = 0.985107421875\n",
      "fidelity = 0.97900390625\n",
      "fidelity = 0.9788818359375\n",
      "fidelity = 0.974365234375\n",
      "fidelity = 0.96923828125\n",
      "fidelity = 0.966064453125\n",
      "fidelity = 0.9605712890625\n",
      "fidelity = 0.957275390625\n",
      "fidelity = 0.95849609375\n",
      "fidelity = 0.9495849609375\n",
      "fidelity = 0.938720703125\n",
      "fidelity = 0.9364013671875\n",
      "fidelity = 0.93603515625\n",
      "fidelity = 0.9293212890625\n",
      "fidelity = 0.921875\n",
      "fidelity = 0.914306640625\n",
      "fidelity = 0.905517578125\n",
      "fidelity = 0.9031982421875\n",
      "fidelity = 0.90087890625\n",
      "fidelity = 0.8927001953125\n",
      "fidelity = 0.8861083984375\n",
      "fidelity = 0.877685546875\n",
      "fidelity = 0.8695068359375\n",
      "fidelity = 0.8648681640625\n",
      "fidelity = 0.8555908203125\n",
      "fidelity = 0.8416748046875\n",
      "fidelity = 0.8475341796875\n",
      "fidelity = 0.827880859375\n",
      "fidelity = 0.8204345703125\n",
      "fidelity = 0.8095703125\n",
      "fidelity = 0.810302734375\n",
      "fidelity = 0.78857421875\n",
      "fidelity = 0.7847900390625\n",
      "fidelity = 0.7794189453125\n",
      "fidelity = 0.7679443359375\n",
      "fidelity = 0.7559814453125\n",
      "fidelity = 0.7528076171875\n",
      "fidelity = 0.7432861328125\n"
     ]
    }
   ],
   "source": [
    "# interpolation between parameters\n",
    "ts = np.linspace(0, 1)\n",
    "fidelities = []\n",
    "for t in ts:\n",
    "    fidelities += [fidelity.estimate(x, x + t*(y-x))]"
   ]
  },
  {
   "cell_type": "code",
   "execution_count": 30,
   "metadata": {
    "slideshow": {
     "slide_type": "slide"
    }
   },
   "outputs": [
    {
     "data": {
      "image/png": "[encoded data removed]",
      "text/plain": [
       "<Figure size 432x288 with 1 Axes>"
      ]
     },
     "metadata": {
      "needs_background": "light"
     },
     "output_type": "display_data"
    }
   ],
   "source": [
    "plt.plot(ts, fidelities)\n",
    "plt.xlabel('t')\n",
    "plt.ylabel('fidelity')\n",
    "plt.show()"
   ]
  },
  {
   "cell_type": "markdown",
   "metadata": {
    "slideshow": {
     "slide_type": "slide"
    }
   },
   "source": [
    "# 3. Variational Quantum Deflation (VQD)\n",
    "https://arxiv.org/abs/1805.08138"
   ]
  },
  {
   "cell_type": "markdown",
   "metadata": {
    "slideshow": {
     "slide_type": "slide"
    }
   },
   "source": [
    "### 3.1 Classical Baseline"
   ]
  },
  {
   "cell_type": "code",
   "execution_count": 31,
   "metadata": {},
   "outputs": [
    {
     "name": "stdout",
     "output_type": "stream",
     "text": [
      "{   'aux_operator_eigenvalues': None,\n",
      "    'eigenstates': ListOp([VectorStateFn(Statevector([-0.25227021+0.04984556j, -0.04984556-0.25227021j,\n",
      "             -0.42874187+0.00745489j, -0.00745489-0.42874187j,\n",
      "              0.42268399+0.07220391j, -0.07220391+0.42268399j,\n",
      "              0.2418314 +0.08742087j, -0.08742087+0.2418314j ],\n",
      "            dims=(2, 2, 2)), coeff=1.0, is_measurement=False), VectorStateFn(Statevector([ 0.13058298-0.22553789j,  0.22553789+0.13058298j,\n",
      "             -0.28918099+0.31377556j, -0.31377556-0.28918099j,\n",
      "             -0.3543427 +0.23774356j, -0.23774356-0.3543427j ,\n",
      "              0.24286831-0.09452109j,  0.09452109+0.24286831j],\n",
      "            dims=(2, 2, 2)), coeff=1.0, is_measurement=False)], coeff=1.0, abelian=False),\n",
      "    'eigenvalues': array([-9.54591617, -7.6730362 ])}\n"
     ]
    }
   ],
   "source": [
    "exact_solver = NumPyEigensolver(k=2)\n",
    "exact_result = exact_solver.compute_eigenvalues(H)\n",
    "print(exact_result)"
   ]
  },
  {
   "cell_type": "markdown",
   "metadata": {
    "slideshow": {
     "slide_type": "slide"
    }
   },
   "source": [
    "### 3.2 Define VQD Objective"
   ]
  },
  {
   "cell_type": "code",
   "execution_count": 32,
   "metadata": {
    "slideshow": {
     "slide_type": "-"
    }
   },
   "outputs": [],
   "source": [
    "# set penalty weight for overlap term\n",
    "penalty = 25\n",
    "\n",
    "# define objective for VQD\n",
    "def vqd_objective(param_values, \n",
    "                  energy=estimator.estimate, \n",
    "                  overlap=lambda x: fidelity.estimate(x, ground_state_params),\n",
    "                  penalty=penalty):\n",
    "\n",
    "    value = energy(param_values)\n",
    "    value += penalty * overlap(param_values)\n",
    "    return value"
   ]
  },
  {
   "cell_type": "markdown",
   "metadata": {
    "slideshow": {
     "slide_type": "slide"
    }
   },
   "source": [
    "### 3.3 Run VQD"
   ]
  },
  {
   "cell_type": "code",
   "execution_count": 33,
   "metadata": {
    "scrolled": true
   },
   "outputs": [
    {
     "name": "stdout",
     "output_type": "stream",
     "text": [
      "objective = 3.47216796875\n",
      "fidelity = 0.0780029296875\n",
      "objective = 3.8203125\n",
      "fidelity = 0.099853515625\n",
      "objective = 3.334716796875\n",
      "fidelity = 0.068115234375\n",
      "objective = 3.677978515625\n",
      "fidelity = 0.1356201171875\n",
      "objective = 3.198974609375\n",
      "fidelity = 0.1256103515625\n",
      "objective = 3.271484375\n",
      "fidelity = 0.1336669921875\n",
      "objective = 3.084716796875\n",
      "fidelity = 0.12060546875\n",
      "objective = 3.8173828125\n",
      "fidelity = 0.10791015625\n",
      "objective = 2.949462890625\n",
      "fidelity = 0.1251220703125\n",
      "objective = 3.478759765625\n",
      "fidelity = 0.0811767578125\n",
      "objective = 2.177978515625\n",
      "fidelity = 0.1776123046875\n",
      "objective = 3.37646484375\n",
      "fidelity = 0.0579833984375\n",
      "objective = 4.1435546875\n",
      "fidelity = 0.0849609375\n",
      "objective = 2.8388671875\n",
      "fidelity = 0.1170654296875\n",
      "objective = 3.999755859375\n",
      "fidelity = 0.0877685546875\n",
      "objective = 3.50830078125\n",
      "fidelity = 0.068603515625\n",
      "objective = 2.4169921875\n",
      "fidelity = 0.0736083984375\n",
      "objective = 3.080322265625\n",
      "fidelity = 0.123291015625\n",
      "objective = 3.488037109375\n",
      "fidelity = 0.0865478515625\n",
      "objective = 3.72314453125\n",
      "fidelity = 0.13134765625\n",
      "objective = 2.631591796875\n",
      "fidelity = 0.1658935546875\n",
      "objective = 2.969970703125\n",
      "fidelity = 0.068359375\n",
      "objective = 3.50244140625\n",
      "fidelity = 0.13818359375\n",
      "objective = 2.32470703125\n",
      "fidelity = 0.088623046875\n",
      "objective = 3.766845703125\n",
      "fidelity = 0.080810546875\n",
      "objective = 3.42333984375\n",
      "fidelity = 0.1319580078125\n",
      "objective = 2.677001953125\n",
      "fidelity = 0.0909423828125\n",
      "objective = 3.676513671875\n",
      "fidelity = 0.1207275390625\n",
      "objective = 3.4033203125\n",
      "fidelity = 0.04931640625\n",
      "objective = 3.38671875\n",
      "fidelity = 0.138427734375\n",
      "objective = 2.1474609375\n",
      "fidelity = 0.0819091796875\n",
      "objective = 3.736572265625\n",
      "fidelity = 0.1728515625\n",
      "objective = 3.99169921875\n",
      "fidelity = 0.127197265625\n",
      "objective = 3.033203125\n",
      "fidelity = 0.085205078125\n",
      "objective = 2.279541015625\n",
      "fidelity = 0.116455078125\n",
      "objective = 3.865478515625\n",
      "fidelity = 0.09375\n",
      "objective = 2.9169921875\n",
      "fidelity = 0.1318359375\n",
      "objective = 4.209228515625\n",
      "fidelity = 0.0706787109375\n",
      "objective = 3.653564453125\n",
      "fidelity = 0.118896484375\n",
      "objective = 2.399169921875\n",
      "fidelity = 0.105712890625\n",
      "objective = 3.736328125\n",
      "fidelity = 0.0682373046875\n",
      "objective = 2.2705078125\n",
      "fidelity = 0.1654052734375\n",
      "objective = 3.125732421875\n",
      "fidelity = 0.07861328125\n",
      "objective = 3.826171875\n",
      "fidelity = 0.163330078125\n",
      "objective = 3.16259765625\n",
      "fidelity = 0.056640625\n",
      "objective = 3.61083984375\n",
      "fidelity = 0.15478515625\n",
      "objective = 2.235107421875\n",
      "fidelity = 0.0950927734375\n",
      "objective = 3.265869140625\n",
      "fidelity = 0.1778564453125\n",
      "objective = 2.67919921875\n",
      "fidelity = 0.09765625\n",
      "objective = 3.639404296875\n",
      "fidelity = 0.11474609375\n",
      "objective = 3.7646484375\n",
      "fidelity = 0.092529296875\n",
      "objective = 3.172607421875\n",
      "fidelity = 0.1014404296875\n",
      "objective = 4.00390625\n",
      "fidelity = 0.1072998046875\n",
      "objective = 2.03076171875\n",
      "fidelity = 0.1126708984375\n",
      "objective = -0.957763671875\n",
      "fidelity = 0.084716796875\n",
      "objective = -0.58447265625\n",
      "fidelity = 0.1956787109375\n",
      "objective = -1.62841796875\n",
      "fidelity = 0.1107177734375\n",
      "objective = -1.487060546875\n",
      "fidelity = 0.04833984375\n",
      "objective = -2.080322265625\n",
      "fidelity = 0.037353515625\n",
      "objective = 0.035400390625\n",
      "fidelity = 0.0286865234375\n",
      "objective = -2.85205078125\n",
      "fidelity = 0.0382080078125\n",
      "objective = -2.833251953125\n",
      "fidelity = 0.0970458984375\n",
      "objective = -1.251953125\n",
      "fidelity = 0.0404052734375\n",
      "objective = -3.466064453125\n",
      "fidelity = 0.035400390625\n",
      "objective = -3.58203125\n",
      "fidelity = 0.0556640625\n",
      "objective = -3.07373046875\n",
      "fidelity = 0.04296875\n",
      "objective = -3.67236328125\n",
      "fidelity = 0.0791015625\n",
      "objective = -3.24560546875\n",
      "fidelity = 0.0272216796875\n",
      "objective = -2.3056640625\n",
      "fidelity = 0.0283203125\n",
      "objective = -3.462890625\n",
      "fidelity = 0.054443359375\n",
      "objective = -3.114501953125\n",
      "fidelity = 0.000732421875\n",
      "objective = -3.501708984375\n",
      "fidelity = 0.0999755859375\n",
      "objective = -2.93115234375\n",
      "fidelity = 0.0057373046875\n",
      "objective = -2.193115234375\n",
      "fidelity = 0.0067138671875\n",
      "objective = -3.627685546875\n",
      "fidelity = 0.0179443359375\n",
      "objective = -2.422119140625\n",
      "fidelity = 0.0018310546875\n",
      "objective = -3.444091796875\n",
      "fidelity = 0.0164794921875\n",
      "objective = -3.302978515625\n",
      "fidelity = 0.0150146484375\n",
      "objective = -4.02294921875\n",
      "fidelity = 0.02783203125\n",
      "objective = -2.36376953125\n",
      "fidelity = 0.013916015625\n",
      "objective = -3.045166015625\n",
      "fidelity = 0.0008544921875\n",
      "objective = -4.546875\n",
      "fidelity = 0.0989990234375\n",
      "objective = -2.293701171875\n",
      "fidelity = 0.0146484375\n",
      "objective = -4.2177734375\n",
      "fidelity = 0.002197265625\n",
      "objective = -3.964599609375\n",
      "fidelity = 0.0054931640625\n",
      "objective = -3.89111328125\n",
      "fidelity = 0.04736328125\n",
      "objective = -4.046142578125\n",
      "fidelity = 0.029296875\n",
      "objective = -4.31005859375\n",
      "fidelity = 0.0098876953125\n",
      "objective = -3.63037109375\n",
      "fidelity = 0.0306396484375\n",
      "objective = -4.07275390625\n",
      "fidelity = 0.0146484375\n",
      "objective = -4.0947265625\n",
      "fidelity = 0.0155029296875\n",
      "objective = -4.3154296875\n",
      "fidelity = 0.0010986328125\n",
      "objective = -3.9951171875\n",
      "fidelity = 0.0076904296875\n",
      "objective = -4.358154296875\n",
      "fidelity = 0.0086669921875\n",
      "objective = -3.47216796875\n",
      "fidelity = 0.0238037109375\n",
      "objective = -4.621826171875\n",
      "fidelity = 0.0057373046875\n",
      "objective = -4.81103515625\n",
      "fidelity = 0.03955078125\n",
      "objective = -4.1435546875\n",
      "fidelity = 0.008544921875\n",
      "objective = -4.149658203125\n",
      "fidelity = 0.0238037109375\n",
      "objective = -4.8369140625\n",
      "fidelity = 0.0201416015625\n",
      "objective = -4.5693359375\n",
      "fidelity = 0.024658203125\n",
      "objective = -4.65380859375\n",
      "fidelity = 0.0350341796875\n",
      "objective = -4.683837890625\n",
      "fidelity = 0.008056640625\n",
      "objective = -4.8916015625\n",
      "fidelity = 0.033447265625\n",
      "objective = -4.53662109375\n",
      "fidelity = 0.0172119140625\n",
      "objective = -4.350830078125\n",
      "fidelity = 0.0103759765625\n",
      "objective = -4.6591796875\n",
      "fidelity = 0.0157470703125\n",
      "objective = -4.239501953125\n",
      "fidelity = 0.025634765625\n",
      "objective = -4.8671875\n",
      "fidelity = 0.0206298828125\n",
      "objective = -4.728271484375\n",
      "fidelity = 0.0003662109375\n",
      "objective = -4.5869140625\n",
      "fidelity = 0.0137939453125\n",
      "objective = -4.72412109375\n",
      "fidelity = 0.0\n",
      "objective = -4.78759765625\n",
      "fidelity = 0.0194091796875\n",
      "objective = -4.1884765625\n",
      "fidelity = 0.0235595703125\n",
      "objective = -4.5029296875\n",
      "fidelity = 0.0107421875\n",
      "objective = -4.888671875\n",
      "fidelity = 0.01123046875\n",
      "objective = -4.764892578125\n",
      "fidelity = 0.0330810546875\n",
      "objective = -4.529296875\n",
      "fidelity = 0.0062255859375\n",
      "objective = -5.15380859375\n",
      "fidelity = 0.0113525390625\n",
      "objective = -3.99365234375\n",
      "fidelity = 0.02197265625\n",
      "objective = -5.340576171875\n",
      "fidelity = 0.0042724609375\n",
      "objective = -4.88720703125\n",
      "fidelity = 0.029296875\n",
      "objective = -4.93994140625\n",
      "fidelity = 0.0179443359375\n",
      "objective = -4.88134765625\n",
      "fidelity = 0.0247802734375\n",
      "objective = -5.089599609375\n",
      "fidelity = 0.01904296875\n",
      "objective = -4.94287109375\n",
      "fidelity = 0.0107421875\n",
      "objective = -5.013671875\n",
      "fidelity = 0.0147705078125\n",
      "objective = -5.253662109375\n",
      "fidelity = 0.0157470703125\n",
      "objective = -5.115478515625\n",
      "fidelity = 0.0028076171875\n",
      "objective = -5.172607421875\n",
      "fidelity = 0.007080078125\n",
      "objective = -4.909912109375\n",
      "fidelity = 0.01123046875\n",
      "objective = -5.2919921875\n",
      "fidelity = 0.029052734375\n",
      "objective = -5.08544921875\n",
      "fidelity = 0.0008544921875\n",
      "objective = -5.07861328125\n",
      "fidelity = 0.0029296875\n",
      "objective = -4.955810546875\n",
      "fidelity = 0.0030517578125\n",
      "objective = -4.876953125\n",
      "fidelity = 0.0006103515625\n",
      "objective = -5.0908203125\n",
      "fidelity = 0.0194091796875\n",
      "objective = -5.021240234375\n",
      "fidelity = 0.01318359375\n",
      "objective = -5.159423828125\n",
      "fidelity = 0.023681640625\n",
      "objective = -4.746826171875\n",
      "fidelity = 0.0169677734375\n",
      "objective = -5.162841796875\n",
      "fidelity = 0.0133056640625\n",
      "objective = -5.33984375\n",
      "fidelity = 0.0059814453125\n",
      "objective = -5.127197265625\n",
      "fidelity = 0.0255126953125\n",
      "objective = -5.266845703125\n",
      "fidelity = 0.007568359375\n",
      "objective = -4.865478515625\n",
      "fidelity = 0.00341796875\n",
      "objective = -5.392333984375\n",
      "fidelity = 0.0018310546875\n",
      "objective = -5.04736328125\n",
      "fidelity = 0.0111083984375\n",
      "objective = -5.106201171875\n",
      "fidelity = 0.0155029296875\n",
      "objective = -5.05859375\n",
      "fidelity = 0.00146484375\n",
      "objective = -5.6865234375\n",
      "fidelity = 0.0003662109375\n",
      "objective = -5.631591796875\n",
      "fidelity = 0.0040283203125\n",
      "objective = -5.199462890625\n",
      "fidelity = 0.003662109375\n",
      "objective = -5.27392578125\n",
      "fidelity = 0.010986328125\n",
      "objective = -5.165283203125\n",
      "fidelity = 0.0074462890625\n",
      "objective = -5.33447265625\n",
      "fidelity = 0.00390625\n",
      "objective = -5.08154296875\n",
      "fidelity = 0.019287109375\n"
     ]
    },
    {
     "name": "stdout",
     "output_type": "stream",
     "text": [
      "objective = -5.232421875\n",
      "fidelity = 0.00830078125\n",
      "objective = -5.36767578125\n",
      "fidelity = 0.0081787109375\n",
      "objective = -5.263671875\n",
      "fidelity = 0.0042724609375\n",
      "objective = -5.31494140625\n",
      "fidelity = 0.0030517578125\n",
      "objective = -5.218994140625\n",
      "fidelity = 0.0166015625\n",
      "objective = -5.22412109375\n",
      "fidelity = 0.012451171875\n",
      "objective = -5.109130859375\n",
      "fidelity = 0.010009765625\n",
      "objective = -5.38232421875\n",
      "fidelity = 0.016845703125\n",
      "objective = -5.384033203125\n",
      "fidelity = 0.00048828125\n",
      "objective = -5.41552734375\n",
      "fidelity = 0.0\n",
      "objective = -5.334228515625\n",
      "fidelity = 0.0108642578125\n",
      "objective = -5.61083984375\n",
      "fidelity = 0.0125732421875\n",
      "objective = -5.47705078125\n",
      "fidelity = 0.00439453125\n",
      "objective = -5.37890625\n",
      "fidelity = 0.000732421875\n",
      "objective = -5.1572265625\n",
      "fidelity = 0.0001220703125\n",
      "objective = -5.6337890625\n",
      "fidelity = 0.0003662109375\n",
      "objective = -5.535400390625\n",
      "fidelity = 0.0003662109375\n",
      "objective = -5.40380859375\n",
      "fidelity = 0.0\n",
      "objective = -5.263427734375\n",
      "fidelity = 0.017333984375\n",
      "objective = -5.52685546875\n",
      "fidelity = 0.0086669921875\n",
      "objective = -5.45166015625\n",
      "fidelity = 0.0167236328125\n",
      "objective = -5.408203125\n",
      "fidelity = 0.0107421875\n",
      "objective = -5.27587890625\n",
      "fidelity = 0.0123291015625\n",
      "objective = -5.63330078125\n",
      "fidelity = 0.0191650390625\n",
      "objective = -5.511962890625\n",
      "fidelity = 0.002197265625\n",
      "objective = -5.576171875\n",
      "fidelity = 0.0001220703125\n",
      "objective = -5.333251953125\n",
      "fidelity = 0.0068359375\n",
      "objective = -5.206298828125\n",
      "fidelity = 0.0052490234375\n",
      "objective = -5.451416015625\n",
      "fidelity = 0.008544921875\n",
      "objective = -5.52587890625\n",
      "fidelity = 0.0018310546875\n",
      "objective = -5.4560546875\n",
      "fidelity = 0.0111083984375\n",
      "objective = -5.325927734375\n",
      "fidelity = 0.0079345703125\n",
      "objective = -5.45068359375\n",
      "fidelity = 0.0107421875\n",
      "objective = -5.272216796875\n",
      "fidelity = 0.0162353515625\n",
      "objective = -5.3857421875\n",
      "fidelity = 0.0\n",
      "objective = -5.283203125\n",
      "fidelity = 0.0009765625\n",
      "objective = -5.213623046875\n",
      "fidelity = 0.010009765625\n",
      "objective = -5.459228515625\n",
      "fidelity = 0.0137939453125\n",
      "objective = -5.761474609375\n",
      "fidelity = 0.016357421875\n",
      "objective = -5.172119140625\n",
      "fidelity = 0.0145263671875\n",
      "objective = -5.669921875\n",
      "fidelity = 0.0198974609375\n",
      "objective = -5.408447265625\n",
      "fidelity = 0.007080078125\n",
      "objective = -5.22119140625\n",
      "fidelity = 0.0101318359375\n",
      "objective = -5.1962890625\n",
      "fidelity = 0.0032958984375\n",
      "objective = -5.367431640625\n",
      "fidelity = 0.01025390625\n",
      "objective = -5.85546875\n",
      "fidelity = 0.0220947265625\n",
      "objective = -5.4990234375\n",
      "fidelity = 0.009033203125\n",
      "objective = -5.751953125\n",
      "fidelity = 0.0203857421875\n",
      "objective = -5.285400390625\n",
      "fidelity = 0.00537109375\n",
      "objective = -5.6005859375\n",
      "fidelity = 0.0103759765625\n",
      "objective = -5.34033203125\n",
      "fidelity = 0.00439453125\n",
      "objective = -5.6484375\n",
      "fidelity = 0.0216064453125\n",
      "objective = -5.229736328125\n",
      "fidelity = 0.0179443359375\n",
      "objective = -5.175537109375\n",
      "fidelity = 0.0064697265625\n",
      "objective = -5.747314453125\n",
      "fidelity = 0.0028076171875\n",
      "objective = -5.267333984375\n",
      "fidelity = 0.010986328125\n",
      "objective = -5.268798828125\n",
      "fidelity = 0.0006103515625\n",
      "objective = -5.260009765625\n",
      "fidelity = 0.0028076171875\n",
      "objective = -5.493896484375\n",
      "fidelity = 0.001220703125\n",
      "objective = -5.40185546875\n",
      "fidelity = 0.0001220703125\n",
      "objective = -5.28759765625\n",
      "fidelity = 0.016845703125\n",
      "objective = -5.131103515625\n",
      "fidelity = 0.007568359375\n",
      "objective = -5.49755859375\n",
      "fidelity = 0.0072021484375\n",
      "objective = -5.6923828125\n",
      "fidelity = 0.015869140625\n",
      "objective = -5.454833984375\n",
      "fidelity = 0.0069580078125\n",
      "objective = -5.61767578125\n",
      "fidelity = 0.0067138671875\n",
      "objective = -5.503173828125\n",
      "fidelity = 0.0087890625\n",
      "objective = -5.201904296875\n",
      "fidelity = 0.003662109375\n",
      "objective = -5.253173828125\n",
      "fidelity = 0.00048828125\n",
      "objective = -5.7099609375\n",
      "fidelity = 0.0003662109375\n",
      "objective = -5.685546875\n",
      "fidelity = 0.0194091796875\n",
      "objective = -5.30859375\n",
      "fidelity = 0.0101318359375\n",
      "objective = -5.884033203125\n",
      "fidelity = 0.0009765625\n",
      "objective = -5.366455078125\n",
      "fidelity = 0.0030517578125\n",
      "objective = -5.46484375\n",
      "fidelity = 0.0169677734375\n",
      "objective = -5.6083984375\n",
      "fidelity = 0.0047607421875\n",
      "objective = -5.743896484375\n",
      "fidelity = 0.013427734375\n",
      "objective = -5.64892578125\n",
      "fidelity = 0.0091552734375\n",
      "objective = -5.518310546875\n",
      "fidelity = 0.0006103515625\n",
      "objective = -5.64208984375\n",
      "fidelity = 0.0001220703125\n",
      "objective = -5.428955078125\n",
      "fidelity = 0.0081787109375\n",
      "objective = -5.538818359375\n",
      "fidelity = 0.0067138671875\n",
      "objective = -5.642578125\n",
      "fidelity = 0.010009765625\n",
      "objective = -5.70361328125\n",
      "fidelity = 0.0067138671875\n",
      "objective = -5.97119140625\n",
      "fidelity = 0.01318359375\n",
      "objective = -5.482421875\n",
      "fidelity = 0.012451171875\n",
      "objective = -5.54833984375\n",
      "fidelity = 0.007080078125\n",
      "objective = -5.89404296875\n",
      "fidelity = 0.0025634765625\n",
      "objective = -5.916259765625\n",
      "fidelity = 0.000244140625\n",
      "objective = -5.3740234375\n",
      "fidelity = 0.0009765625\n",
      "objective = -5.6904296875\n",
      "fidelity = 0.0086669921875\n",
      "objective = -5.549072265625\n",
      "fidelity = 0.005615234375\n",
      "objective = -5.755615234375\n",
      "fidelity = 0.0087890625\n",
      "objective = -5.630859375\n",
      "fidelity = 0.00439453125\n",
      "objective = -5.90576171875\n",
      "fidelity = 0.0003662109375\n",
      "{   'fun': -5.8966064453125,\n",
      "    'jac': None,\n",
      "    'nfev': 200,\n",
      "    'nit': None,\n",
      "    'njev': None,\n",
      "    'x': array([ 0.21338297,  2.50353629,  0.63538032,  2.63834028, -0.20821109,\n",
      "        1.58771994,  1.81202122,  2.68482365, -0.42371787,  1.40406432,\n",
      "        0.54645758,  0.53860289])}\n"
     ]
    }
   ],
   "source": [
    "# run optimization to get first excited state\n",
    "result = optimizer.minimize(vqd_objective, np.random.rand(circuit.num_parameters))\n",
    "print(result)"
   ]
  },
  {
   "cell_type": "code",
   "execution_count": 34,
   "metadata": {
    "slideshow": {
     "slide_type": "slide"
    }
   },
   "outputs": [
    {
     "name": "stdout",
     "output_type": "stream",
     "text": [
      "objective = -5.990966796875\n",
      "fidelity = 0.000244140625\n"
     ]
    }
   ],
   "source": [
    "# determine energy\n",
    "estimator.estimate(result.x)\n",
    "\n",
    "# determine overlap with ground state\n",
    "fidelity.estimate(result.x, ground_state_params);"
   ]
  },
  {
   "cell_type": "markdown",
   "metadata": {
    "slideshow": {
     "slide_type": "slide"
    }
   },
   "source": [
    "### Integrate into Qiskit\n",
    "\n",
    "Implement Qiskit's `Eigensolver` interface to reuse custom algorithm in Qiskit Applications stack."
   ]
  },
  {
   "cell_type": "code",
   "execution_count": 35,
   "metadata": {},
   "outputs": [],
   "source": [
    "from qiskit.algorithms import Eigensolver, EigensolverResult\n",
    "\n",
    "class VQD(Eigensolver):\n",
    "    \n",
    "    def __init__(self, circuit, optimizer):\n",
    "        self._circuit = circuit\n",
    "        self._optimizer = optimizer\n",
    "        \n",
    "    def compute_eigenvalues(self, operator, aux_operators=None):\n",
    "        \n",
    "        # setup estimators\n",
    "        estimator = Estimator(operator, self._circuit)\n",
    "        fidelity = Fidelity(self._circuit, self._circuit)\n",
    "        \n",
    "        # compute groundstate\n",
    "        vqe = CustomVQE(self._circuit, self._optimizer)\n",
    "        vqe_result = vqe.compute_minimum_eigenvalue(operator)\n",
    "        \n",
    "        # compute first excited states\n",
    "        objective = lambda x: vqd_objective(x, estimator.estimate, \n",
    "                                            lambda y: fidelity.estimate(y, vqe_result.optimal_parameters))\n",
    "        \n",
    "        x0 = np.random.rand(self._circuit.num_parameters)\n",
    "        res = self._optimizer.minimize(objective, x0)\n",
    "                \n",
    "        # populate results\n",
    "        result = EigensolverResult()\n",
    "        result.eigenvalues = [vqe_result.eigenvalue, res.fun]        \n",
    "        return result        "
   ]
  },
  {
   "cell_type": "code",
   "execution_count": 36,
   "metadata": {
    "slideshow": {
     "slide_type": "slide"
    }
   },
   "outputs": [
    {
     "name": "stdout",
     "output_type": "stream",
     "text": [
      "{   'aux_operator_eigenvalues': None,\n",
      "    'eigenstates': None,\n",
      "    'eigenvalues': [-6.578369140625, -9.2137451171875]}\n"
     ]
    }
   ],
   "source": [
    "vqd = VQD(circuit, optimizer)\n",
    "result = vqd.compute_eigenvalues(H)\n",
    "print(result)"
   ]
  },
  {
   "cell_type": "markdown",
   "metadata": {
    "slideshow": {
     "slide_type": "slide"
    }
   },
   "source": [
    "# 4. Outlook: Quantum Computational Primitives\n",
    "\n",
    "- We will move towards quantum computational primitives, powered by Qiskit Runtime, e.g., for sampling, estimation, etc.\n",
    "- These will encapsulate error mitigation and other features to improve the ease of use.\n",
    "- The complete Qiskit Algorithms & Applications stack will be extended accordingly over 2022."
   ]
  },
  {
   "cell_type": "code",
   "execution_count": null,
   "metadata": {
    "slideshow": {
     "slide_type": "slide"
    }
   },
   "outputs": [],
   "source": []
  }
 ],
 "metadata": {
  "celltoolbar": "Slideshow",
  "kernelspec": {
   "display_name": "qiskit-stable",
   "language": "python",
   "name": "qiskit-stable"
  },
  "language_info": {
   "codemirror_mode": {
    "name": "ipython",
    "version": 3
   },
   "file_extension": ".py",
   "mimetype": "text/x-python",
   "name": "python",
   "nbconvert_exporter": "python",
   "pygments_lexer": "ipython3",
   "version": "3.9.7"
  }
 },
 "nbformat": 4,
 "nbformat_minor": 2
}
