{
 "cells": [
  {
   "cell_type": "code",
   "execution_count": null,
   "metadata": {
    "slideshow": {
     "slide_type": "slide"
    }
   },
   "outputs": [],
   "source": [
    "import numpy as np\n",
    "import matplotlib.pyplot as plt\n",
    "\n",
    "from qiskit.opflow import PauliSumOp, AbelianGrouper\n",
    "from qiskit.circuit.library import EfficientSU2\n",
    "\n",
    "from qiskit.algorithms import VQE, NumPyMinimumEigensolver, NumPyEigensolver\n",
    "from qiskit.algorithms.optimizers import SPSA\n",
    "\n",
    "from qiskit.providers.aer import QasmSimulator\n",
    "from qiskit.test.mock import FakeBurlington\n",
    "from qiskit import transpile, QuantumCircuit\n",
    "\n",
    "from qiskit.providers.ibmq import IBMQ\n",
    "\n",
    "import mthree"
   ]
  },
  {
   "cell_type": "code",
   "execution_count": null,
   "metadata": {},
   "outputs": [],
   "source": [
    "# load account\n",
    "IBMQ.load_account()"
   ]
  },
  {
   "cell_type": "code",
   "execution_count": null,
   "metadata": {
    "slideshow": {
     "slide_type": "slide"
    }
   },
   "outputs": [],
   "source": [
    "# provider = IBMQ.get_provider(hub='ibm-q-internal', group='near-time')\n",
    "provider = IBMQ.get_provider(hub='ibm-q', group='open')"
   ]
  },
  {
   "cell_type": "code",
   "execution_count": null,
   "metadata": {},
   "outputs": [],
   "source": [
    "provider.backends()"
   ]
  },
  {
   "cell_type": "code",
   "execution_count": null,
   "metadata": {},
   "outputs": [],
   "source": [
    "# define backends\n",
    "ibmq_qasm_backend = provider.get_backend('ibmq_qasm_simulator')\n",
    "qasm_backend = QasmSimulator(shots=8192)\n",
    "noisy_backend = FakeBurlington()\n",
    "real_backend = provider.get_backend('ibmq_lima')"
   ]
  },
  {
   "cell_type": "code",
   "execution_count": null,
   "metadata": {},
   "outputs": [],
   "source": [
    "# select backend\n",
    "backend = qasm_backend\n",
    "# backend = noisy_backend\n",
    "# backend = real_backend\n",
    "\n",
    "# set number of shots\n",
    "backend.shots = 8192"
   ]
  },
  {
   "cell_type": "markdown",
   "metadata": {
    "slideshow": {
     "slide_type": "slide"
    }
   },
   "source": [
    "# 0. Circuit Sampling"
   ]
  },
  {
   "cell_type": "code",
   "execution_count": null,
   "metadata": {},
   "outputs": [],
   "source": [
    "def raw_sample(circuit, backend=backend, optimization_level=3):\n",
    "    \n",
    "    # transpile circuit\n",
    "    qc = transpile(circuit, backend, optimization_level=optimization_level)\n",
    "    \n",
    "    # run circuit\n",
    "    job = backend.run(qc)\n",
    "    counts = job.result().get_counts()\n",
    "    \n",
    "    # evaluate probabilities\n",
    "    shots = sum(counts.values())\n",
    "    probabilities = {b: c/shots for b, c in counts.items()}\n",
    "    return probabilities\n",
    "    \n",
    "\n",
    "# instantiate and calibrate mitigation scheme\n",
    "mit = mthree.M3Mitigation(backend)\n",
    "mit.cals_from_system()\n",
    "# mit.cals_from_system(method='independent')  # use this to speed up noisy simulation\n",
    "    \n",
    "def mitigated_sample(circuit, backend=backend, mit=mit, optimization_level=3):\n",
    "    \n",
    "    # transpile circuit\n",
    "    qc = transpile(circuit, backend, optimization_level=optimization_level)\n",
    "    \n",
    "    # determine final qubit mappings\n",
    "    maps = mthree.utils.final_measurement_mapping(qc)\n",
    "    \n",
    "    # run circuit\n",
    "    job = backend.run(qc)\n",
    "    counts = job.result().get_counts()\n",
    "        \n",
    "    # mitigate shots\n",
    "    quasi_probabilities = mit.apply_correction(counts, maps)    \n",
    "    return quasi_probabilities\n",
    "\n",
    "# choose sampling function\n",
    "sample = raw_sample\n",
    "# sample = mitigated_sample"
   ]
  },
  {
   "cell_type": "code",
   "execution_count": null,
   "metadata": {
    "slideshow": {
     "slide_type": "slide"
    }
   },
   "outputs": [],
   "source": [
    "circuit = QuantumCircuit(3)\n",
    "circuit.h(0)\n",
    "circuit.cx(0,1)\n",
    "circuit.cx(1, 2)\n",
    "circuit.measure_all()\n",
    "circuit.draw()"
   ]
  },
  {
   "cell_type": "code",
   "execution_count": null,
   "metadata": {},
   "outputs": [],
   "source": [
    "# raw sampling without noise\n",
    "raw_sample(circuit, qasm_backend)"
   ]
  },
  {
   "cell_type": "code",
   "execution_count": null,
   "metadata": {},
   "outputs": [],
   "source": [
    "# raw sampling with noise\n",
    "raw_sample(circuit, backend)"
   ]
  },
  {
   "cell_type": "code",
   "execution_count": null,
   "metadata": {
    "scrolled": false
   },
   "outputs": [],
   "source": [
    "# mitigating sampling with noise\n",
    "mitigated_sample(circuit, backend)"
   ]
  },
  {
   "cell_type": "markdown",
   "metadata": {
    "slideshow": {
     "slide_type": "slide"
    }
   },
   "source": [
    "# 1. Estimation of Expectation Values and VQE"
   ]
  },
  {
   "cell_type": "markdown",
   "metadata": {
    "slideshow": {
     "slide_type": "slide"
    }
   },
   "source": [
    "### 1.1 Preliminaries\n",
    "- `PauliSumOp`\n",
    "- `AbelianGrouper`\n",
    "- Deriving measurement bases"
   ]
  },
  {
   "cell_type": "code",
   "execution_count": null,
   "metadata": {
    "slideshow": {
     "slide_type": "slide"
    }
   },
   "outputs": [],
   "source": [
    "# define Hamiltonian\n",
    "H = PauliSumOp.from_list([('XXI', 1), ('XII', 2), ('YIY', 3), ('ZZI', 4), ('XIY', 5)])\n",
    "\n",
    "# second test Hamiltonian\n",
    "# H = PauliSumOp.from_list([('ZZI', 1), ('ZII', 2), ('ZIZ', 3), ('IZZ', 4)])\n",
    "\n",
    "print(H)"
   ]
  },
  {
   "cell_type": "code",
   "execution_count": null,
   "metadata": {
    "slideshow": {
     "slide_type": "slide"
    }
   },
   "outputs": [],
   "source": [
    "# group commuting Pauli terms \n",
    "grouper = AbelianGrouper()\n",
    "groups = grouper.convert(H)\n",
    "print('-----------')\n",
    "for group in groups.oplist:\n",
    "    print(group)\n",
    "    print('-----------')"
   ]
  },
  {
   "cell_type": "code",
   "execution_count": null,
   "metadata": {},
   "outputs": [],
   "source": [
    "# derives measurement basis from group of commuting Pauli terms\n",
    "for group in groups:\n",
    "    basis = ['I']*group.num_qubits\n",
    "    for pauli_string in group.primitive.paulis:\n",
    "        for i, pauli in enumerate(pauli_string):\n",
    "            p = str(pauli)\n",
    "            if p != 'I':\n",
    "                if basis[i] == 'I':\n",
    "                    basis[i] = p\n",
    "                elif basis[i] != p:\n",
    "                    raise ValueError('PauliSumOp contains non-commuting terms!')\n",
    "    print(basis)"
   ]
  },
  {
   "cell_type": "markdown",
   "metadata": {
    "slideshow": {
     "slide_type": "slide"
    }
   },
   "source": [
    "### 1.2 Estimator class"
   ]
  },
  {
   "cell_type": "code",
   "execution_count": null,
   "metadata": {
    "slideshow": {
     "slide_type": "slide"
    }
   },
   "outputs": [],
   "source": [
    "class Estimator():\n",
    "    \n",
    "    def __init__(self, observable, circuit, callback=None):\n",
    "        \"\"\" Instantiate estimator for given observable and circuit. \"\"\"\n",
    "        \n",
    "        # store problem\n",
    "        self._observable = observable\n",
    "        self._circuit = circuit\n",
    "        \n",
    "        # group Pauli terms\n",
    "        self._grouper = AbelianGrouper()\n",
    "        self._groups = self._grouper.convert(self._observable).oplist\n",
    "        \n",
    "        # derive measurement bases\n",
    "        self._bases = []\n",
    "        for group in self._groups:\n",
    "            self._bases += [self._get_measurement_basis(group)]\n",
    "            \n",
    "        # construct circuits with post-rotations\n",
    "        self._circuits = []\n",
    "        for basis in self._bases:\n",
    "            self._circuits += [self._append_post_rotation(self._circuit, basis)]\n",
    "            \n",
    "        # store callback\n",
    "        self._callback = callback\n",
    "        \n",
    "    def _get_measurement_basis(self, observable):\n",
    "        \"\"\" Derive measurement basis from observable or raise exception in case of non-commuting terms. \"\"\"\n",
    "                \n",
    "        basis = ['I']*observable.num_qubits\n",
    "        for pauli_string in observable.primitive.paulis:\n",
    "            for i, pauli in enumerate(pauli_string):\n",
    "                p = str(pauli)\n",
    "                if p != 'I':\n",
    "                    if basis[i] == 'I':\n",
    "                        basis[i] = p\n",
    "                    elif basis[i] != p:\n",
    "                        raise ValueError('PauliSumOp contains non-commuting terms!')\n",
    "        return basis\n",
    "    \n",
    "    def _append_post_rotation(self, circuit, basis):\n",
    "        \"\"\" Append post rotation to circuit to measure in given basis. \"\"\"\n",
    "        \n",
    "        new_circuit = circuit.copy()\n",
    "        for i, pauli in enumerate(basis):\n",
    "            if pauli == 'X':  # H @ X @ H = Z\n",
    "                new_circuit.h(i)\n",
    "            if pauli == 'Y':  # S^dag @ H @ Y @ H @ S = Z\n",
    "                new_circuit.s(i)\n",
    "                new_circuit.h(i)\n",
    "        new_circuit.measure_all()\n",
    "        return new_circuit\n",
    "    \n",
    "    def estimate(self, param_values=None):\n",
    "        \"\"\" Estimate expectation value of given observable in state corresponding to given parameter values. \"\"\"\n",
    "\n",
    "        if param_values is None and self._circuit.num_parameters > 0 or\\\n",
    "            len(param_values) != self._circuit.num_parameters:\n",
    "            raise ValueError('Wrong number of parameters!')\n",
    "        \n",
    "        value = 0        \n",
    "        for group, circuit in zip(self._groups, self._circuits):\n",
    "            value += self._estimate_group(group, circuit, param_values)        \n",
    "            \n",
    "        if self._callback:\n",
    "            self._callback(np.real(value))\n",
    "            \n",
    "        return np.real(value)\n",
    "        \n",
    "    def _estimate_group(self, group, circuit, param_values):\n",
    "        \"\"\" Estimate expectation value for group of commuting terms that can be measured in the same basis. \"\"\"\n",
    "        \n",
    "        probabilities = sample(circuit.bind_parameters(param_values), backend)\n",
    "        \n",
    "        value = 0\n",
    "        for (pauli, coeff) in zip(group.primitive.paulis, group.primitive.coeffs):\n",
    "            val = 0\n",
    "            p = str(pauli)\n",
    "            for b, prob in probabilities.items():\n",
    "                val += prob * np.prod([(-1)**(b[i] == '1' and p[i] != 'I') for i in range(len(b))])\n",
    "\n",
    "            value += coeff * val\n",
    "    \n",
    "        return value"
   ]
  },
  {
   "cell_type": "code",
   "execution_count": null,
   "metadata": {
    "slideshow": {
     "slide_type": "slide"
    }
   },
   "outputs": [],
   "source": [
    "# define parametrized circuit\n",
    "circuit = EfficientSU2(H.num_qubits, entanglement='linear', reps=1)\n",
    "circuit.decompose().draw()"
   ]
  },
  {
   "cell_type": "code",
   "execution_count": null,
   "metadata": {},
   "outputs": [],
   "source": [
    "# instantiate estimator\n",
    "estimator = Estimator(H, circuit, lambda x: print(f'objective = {x}'))"
   ]
  },
  {
   "cell_type": "code",
   "execution_count": null,
   "metadata": {
    "scrolled": false
   },
   "outputs": [],
   "source": [
    "# test on random parameters\n",
    "theta = np.random.rand(12)\n",
    "estimator.estimate(theta)"
   ]
  },
  {
   "cell_type": "markdown",
   "metadata": {
    "slideshow": {
     "slide_type": "slide"
    }
   },
   "source": [
    "### 1.3 Classical baseline"
   ]
  },
  {
   "cell_type": "code",
   "execution_count": null,
   "metadata": {},
   "outputs": [],
   "source": [
    "exact_solver = NumPyMinimumEigensolver()\n",
    "exact_result = exact_solver.compute_minimum_eigenvalue(H)\n",
    "print(exact_result)"
   ]
  },
  {
   "cell_type": "markdown",
   "metadata": {
    "slideshow": {
     "slide_type": "slide"
    }
   },
   "source": [
    "### 1.4 Build custom VQE"
   ]
  },
  {
   "cell_type": "code",
   "execution_count": null,
   "metadata": {},
   "outputs": [],
   "source": [
    "# instantiate optimizer\n",
    "optimizer = SPSA(maxiter=100)"
   ]
  },
  {
   "cell_type": "code",
   "execution_count": null,
   "metadata": {
    "scrolled": true
   },
   "outputs": [],
   "source": [
    "x0 = np.random.rand(circuit.num_parameters)\n",
    "result = optimizer.minimize(estimator.estimate, x0=x0)\n",
    "print(result.fun)\n",
    "print(result.x)\n",
    "\n",
    "# store ground state parameters for later\n",
    "ground_state_params = result.x"
   ]
  },
  {
   "cell_type": "markdown",
   "metadata": {
    "slideshow": {
     "slide_type": "slide"
    }
   },
   "source": [
    "### 1.5 Compare to Qiskit VQE"
   ]
  },
  {
   "cell_type": "code",
   "execution_count": null,
   "metadata": {},
   "outputs": [],
   "source": [
    "vqe = VQE(circuit, optimizer, quantum_instance=backend)"
   ]
  },
  {
   "cell_type": "code",
   "execution_count": null,
   "metadata": {
    "scrolled": true
   },
   "outputs": [],
   "source": [
    "result = vqe.compute_minimum_eigenvalue(H)\n",
    "print(result)"
   ]
  },
  {
   "cell_type": "markdown",
   "metadata": {
    "slideshow": {
     "slide_type": "slide"
    }
   },
   "source": [
    "### 1.6 Integrate in Qiskit\n",
    "\n",
    "Implement Qiskit's `MinimumEigensolver` interface to reuse custom algorithm in Qiskit Applications stack."
   ]
  },
  {
   "cell_type": "code",
   "execution_count": null,
   "metadata": {},
   "outputs": [],
   "source": [
    "from qiskit.algorithms import MinimumEigensolver, VQEResult\n",
    "\n",
    "class CustomVQE(MinimumEigensolver):\n",
    "    \n",
    "    def __init__(self, circuit, optimizer):\n",
    "        self._circuit = circuit\n",
    "        self._optimizer = optimizer\n",
    "        \n",
    "    def compute_minimum_eigenvalue(self, operator, aux_operators=None):\n",
    "                \n",
    "        # run optimization\n",
    "        estimator = Estimator(H, self._circuit)        \n",
    "        x0 = np.random.rand(self._circuit.num_parameters)\n",
    "        res = self._optimizer.minimize(estimator.estimate, x0=x0)\n",
    "\n",
    "        # evaluate auxilliary operators if given\n",
    "        aux_operator_eigenvalues = None\n",
    "        if aux_operators is not None:\n",
    "            aux_operator_eigenvalues = []\n",
    "            for aux_estimator in [ Estimator(aux_op, self._circuit) \n",
    "                                      for aux_op in aux_operators ]:\n",
    "                aux_operator_eigenvalues += [aux_estimator.estimate(res.x)]\n",
    "        \n",
    "        # populate results\n",
    "        result = VQEResult()\n",
    "        result.aux_operator_eigenvalues = aux_operator_eigenvalues\n",
    "        result.cost_function_evals = res.nfev\n",
    "        result.eigenstate = None\n",
    "        result.eigenvalue = res.fun\n",
    "        result.optimal_parameters = res.x\n",
    "        result.optimal_point = res.x\n",
    "        result.optimal_value = res.fun\n",
    "        return result"
   ]
  },
  {
   "cell_type": "code",
   "execution_count": null,
   "metadata": {
    "slideshow": {
     "slide_type": "slide"
    }
   },
   "outputs": [],
   "source": [
    "custom_vqe = CustomVQE(circuit, optimizer)\n",
    "result = custom_vqe.compute_minimum_eigenvalue(H)\n",
    "print(result)"
   ]
  },
  {
   "cell_type": "markdown",
   "metadata": {
    "slideshow": {
     "slide_type": "slide"
    }
   },
   "source": [
    "# 2. State Fidelity"
   ]
  },
  {
   "cell_type": "code",
   "execution_count": null,
   "metadata": {
    "slideshow": {
     "slide_type": "slide"
    }
   },
   "outputs": [],
   "source": [
    "class Fidelity():\n",
    "    \n",
    "    def __init__(self, circuit_1, circuit_2, callback=None):\n",
    "        \"\"\" Instantiate fidelity estimator. \"\"\"\n",
    "        self._circuit_1 = circuit_1\n",
    "        self._circuit_2 = circuit_2\n",
    "        \n",
    "        self._circuit_1.remove_final_measurements()\n",
    "        self._circuit_2.remove_final_measurements()\n",
    "        \n",
    "        self._callback = callback\n",
    "        \n",
    "    def estimate(self, param_values_1, param_values_2):\n",
    "        \"\"\" Estimate fidelity between the two states defined by \n",
    "        the given parameter values. \"\"\"\n",
    "        \n",
    "        # bind parameter values and transpile circuit\n",
    "        qc = self._circuit_1.bind_parameters(param_values_1)\n",
    "        qc.append(self._circuit_2.bind_parameters(param_values_2).inverse(), \n",
    "                  range(self._circuit_2.num_qubits))\n",
    "        qc.measure_all()\n",
    "        \n",
    "        # run circuit and get probabilities\n",
    "        probabilities = sample(qc, backend)\n",
    "        \n",
    "        # estimate fidelity: |<0|U_1^dag U_2|0>|^2\n",
    "        fidelity = np.minimum(1.0, np.maximum(0.0, probabilities.get('0'*qc.num_qubits, 0.0)))\n",
    "        \n",
    "        if self._callback:\n",
    "            self._callback(fidelity)\n",
    "        \n",
    "        return fidelity"
   ]
  },
  {
   "cell_type": "code",
   "execution_count": null,
   "metadata": {
    "slideshow": {
     "slide_type": "slide"
    }
   },
   "outputs": [],
   "source": [
    "# instantiate fidelity\n",
    "fidelity = Fidelity(circuit, circuit, lambda x: print(f'fidelity = {x}'))"
   ]
  },
  {
   "cell_type": "code",
   "execution_count": null,
   "metadata": {},
   "outputs": [],
   "source": [
    "# sample random parameters\n",
    "x = np.random.rand(circuit.num_parameters)\n",
    "y = np.random.rand(circuit.num_parameters)"
   ]
  },
  {
   "cell_type": "code",
   "execution_count": null,
   "metadata": {
    "scrolled": true
   },
   "outputs": [],
   "source": [
    "# interpolation between parameters\n",
    "ts = np.linspace(0, 1)\n",
    "fidelities = []\n",
    "for t in ts:\n",
    "    fidelities += [fidelity.estimate(x, x + t*(y-x))]"
   ]
  },
  {
   "cell_type": "code",
   "execution_count": null,
   "metadata": {
    "slideshow": {
     "slide_type": "slide"
    }
   },
   "outputs": [],
   "source": [
    "plt.plot(ts, fidelities)\n",
    "plt.xlabel('t')\n",
    "plt.ylabel('fidelity')\n",
    "plt.show()"
   ]
  },
  {
   "cell_type": "markdown",
   "metadata": {
    "slideshow": {
     "slide_type": "slide"
    }
   },
   "source": [
    "# 3. Variational Quantum Deflation (VQD)\n",
    "https://arxiv.org/abs/1805.08138"
   ]
  },
  {
   "cell_type": "markdown",
   "metadata": {
    "slideshow": {
     "slide_type": "slide"
    }
   },
   "source": [
    "### 3.1 Classical Baseline"
   ]
  },
  {
   "cell_type": "code",
   "execution_count": null,
   "metadata": {},
   "outputs": [],
   "source": [
    "exact_solver = NumPyEigensolver(k=2)\n",
    "exact_result = exact_solver.compute_eigenvalues(H)\n",
    "print(exact_result)"
   ]
  },
  {
   "cell_type": "markdown",
   "metadata": {
    "slideshow": {
     "slide_type": "slide"
    }
   },
   "source": [
    "### 3.2 Define VQD Objective"
   ]
  },
  {
   "cell_type": "code",
   "execution_count": null,
   "metadata": {
    "slideshow": {
     "slide_type": "-"
    }
   },
   "outputs": [],
   "source": [
    "# set penalty weight for overlap term\n",
    "penalty = 25\n",
    "\n",
    "# define objective for VQD\n",
    "def vqd_objective(param_values, \n",
    "                  energy=estimator.estimate, \n",
    "                  overlap=lambda x: fidelity.estimate(x, ground_state_params),\n",
    "                  penalty=penalty):\n",
    "\n",
    "    value = energy(param_values)\n",
    "    value += penalty * overlap(param_values)\n",
    "    return value"
   ]
  },
  {
   "cell_type": "markdown",
   "metadata": {
    "slideshow": {
     "slide_type": "slide"
    }
   },
   "source": [
    "### 3.3 Run VQD"
   ]
  },
  {
   "cell_type": "code",
   "execution_count": null,
   "metadata": {
    "scrolled": true
   },
   "outputs": [],
   "source": [
    "# run optimization to get first excited state\n",
    "result = optimizer.minimize(vqd_objective, np.random.rand(circuit.num_parameters))\n",
    "print(result)"
   ]
  },
  {
   "cell_type": "code",
   "execution_count": null,
   "metadata": {
    "slideshow": {
     "slide_type": "slide"
    }
   },
   "outputs": [],
   "source": [
    "# determine energy\n",
    "estimator.estimate(result.x)\n",
    "\n",
    "# determine overlap with ground state\n",
    "fidelity.estimate(result.x, ground_state_params);"
   ]
  },
  {
   "cell_type": "markdown",
   "metadata": {
    "slideshow": {
     "slide_type": "slide"
    }
   },
   "source": [
    "### Integrate into Qiskit\n",
    "\n",
    "Implement Qiskit's `Eigensolver` interface to reuse custom algorithm in Qiskit Applications stack."
   ]
  },
  {
   "cell_type": "code",
   "execution_count": null,
   "metadata": {},
   "outputs": [],
   "source": [
    "from qiskit.algorithms import Eigensolver, EigensolverResult\n",
    "\n",
    "class VQD(Eigensolver):\n",
    "    \n",
    "    def __init__(self, circuit, optimizer):\n",
    "        self._circuit = circuit\n",
    "        self._optimizer = optimizer\n",
    "        \n",
    "    def compute_eigenvalues(self, operator, aux_operators=None):\n",
    "        \n",
    "        # setup estimators\n",
    "        estimator = Estimator(operator, self._circuit)\n",
    "        fidelity = Fidelity(self._circuit, self._circuit)\n",
    "        \n",
    "        # compute groundstate\n",
    "        vqe = CustomVQE(self._circuit, self._optimizer)\n",
    "        vqe_result = vqe.compute_minimum_eigenvalue(operator)\n",
    "        \n",
    "        # compute first excited states\n",
    "        objective = lambda x: vqd_objective(x, estimator.estimate, \n",
    "                                            lambda y: fidelity.estimate(y, vqe_result.optimal_parameters))\n",
    "        \n",
    "        x0 = np.random.rand(self._circuit.num_parameters)\n",
    "        res = self._optimizer.minimize(objective, x0)\n",
    "                \n",
    "        # populate results\n",
    "        result = EigensolverResult()\n",
    "        result.eigenvalues = [vqe_result.eigenvalue, res.fun]        \n",
    "        return result        "
   ]
  },
  {
   "cell_type": "code",
   "execution_count": null,
   "metadata": {
    "slideshow": {
     "slide_type": "slide"
    }
   },
   "outputs": [],
   "source": [
    "vqd = VQD(circuit, optimizer)\n",
    "result = vqd.compute_eigenvalues(H)\n",
    "print(result)"
   ]
  },
  {
   "cell_type": "markdown",
   "metadata": {
    "slideshow": {
     "slide_type": "slide"
    }
   },
   "source": [
    "# 4. Outlook: Quantum Computational Primitives\n",
    "\n",
    "- We will move towards quantum computational primitives, powered by Qiskit Runtime, e.g., for sampling, estimation, etc.\n",
    "- These will encapsulate error mitigation and other features to improve the ease of use.\n",
    "- The complete Qiskit Algorithms & Applications stack will be extended accordingly over 2022."
   ]
  },
  {
   "cell_type": "code",
   "execution_count": null,
   "metadata": {
    "slideshow": {
     "slide_type": "slide"
    }
   },
   "outputs": [],
   "source": []
  }
 ],
 "metadata": {
  "celltoolbar": "Slideshow",
  "kernelspec": {
   "display_name": "qiskit-stable",
   "language": "python",
   "name": "qiskit-stable"
  },
  "language_info": {
   "codemirror_mode": {
    "name": "ipython",
    "version": 3
   },
   "file_extension": ".py",
   "mimetype": "text/x-python",
   "name": "python",
   "nbconvert_exporter": "python",
   "pygments_lexer": "ipython3",
   "version": "3.9.7"
  }
 },
 "nbformat": 4,
 "nbformat_minor": 2
}
