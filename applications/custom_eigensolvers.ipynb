{
 "cells": [
  {
   "cell_type": "code",
   "execution_count": 1,
   "metadata": {
    "slideshow": {
     "slide_type": "slide"
    }
   },
   "outputs": [],
   "source": [
    "import numpy as np\n",
    "import matplotlib.pyplot as plt\n",
    "\n",
    "from qiskit.opflow import PauliSumOp, AbelianGrouper\n",
    "from qiskit.circuit.library import EfficientSU2\n",
    "\n",
    "from qiskit.algorithms import VQE, NumPyMinimumEigensolver, NumPyEigensolver\n",
    "from qiskit.algorithms.optimizers import SPSA\n",
    "\n",
    "from qiskit.providers.aer import QasmSimulator\n",
    "from qiskit.test.mock import FakeBurlington\n",
    "from qiskit import transpile, QuantumCircuit\n",
    "\n",
    "from qiskit.providers.ibmq import IBMQ\n",
    "\n",
    "import mthree"
   ]
  },
  {
   "cell_type": "code",
   "execution_count": 2,
   "metadata": {},
   "outputs": [
    {
     "data": {
      "text/plain": [
       "<AccountProvider for IBMQ(hub='ibm-q', group='open', project='main')>"
      ]
     },
     "execution_count": 2,
     "metadata": {},
     "output_type": "execute_result"
    }
   ],
   "source": [
    "# load account\n",
    "IBMQ.load_account()"
   ]
  },
  {
   "cell_type": "code",
   "execution_count": 3,
   "metadata": {
    "slideshow": {
     "slide_type": "slide"
    }
   },
   "outputs": [],
   "source": [
    "# provider = IBMQ.get_provider(hub='ibm-q-internal', group='near-time')\n",
    "provider = IBMQ.get_provider(hub='ibm-q', group='open')"
   ]
  },
  {
   "cell_type": "code",
   "execution_count": 4,
   "metadata": {},
   "outputs": [
    {
     "data": {
      "text/plain": [
       "[<IBMQSimulator('ibmq_qasm_simulator') from IBMQ(hub='ibm-q', group='open', project='main')>,\n",
       " <IBMQBackend('ibmq_armonk') from IBMQ(hub='ibm-q', group='open', project='main')>,\n",
       " <IBMQBackend('ibmq_santiago') from IBMQ(hub='ibm-q', group='open', project='main')>,\n",
       " <IBMQBackend('ibmq_bogota') from IBMQ(hub='ibm-q', group='open', project='main')>,\n",
       " <IBMQBackend('ibmq_lima') from IBMQ(hub='ibm-q', group='open', project='main')>,\n",
       " <IBMQBackend('ibmq_belem') from IBMQ(hub='ibm-q', group='open', project='main')>,\n",
       " <IBMQBackend('ibmq_quito') from IBMQ(hub='ibm-q', group='open', project='main')>,\n",
       " <IBMQSimulator('simulator_statevector') from IBMQ(hub='ibm-q', group='open', project='main')>,\n",
       " <IBMQSimulator('simulator_mps') from IBMQ(hub='ibm-q', group='open', project='main')>,\n",
       " <IBMQSimulator('simulator_extended_stabilizer') from IBMQ(hub='ibm-q', group='open', project='main')>,\n",
       " <IBMQSimulator('simulator_stabilizer') from IBMQ(hub='ibm-q', group='open', project='main')>,\n",
       " <IBMQBackend('ibmq_manila') from IBMQ(hub='ibm-q', group='open', project='main')>]"
      ]
     },
     "execution_count": 4,
     "metadata": {},
     "output_type": "execute_result"
    }
   ],
   "source": [
    "provider.backends()"
   ]
  },
  {
   "cell_type": "code",
   "execution_count": 5,
   "metadata": {},
   "outputs": [],
   "source": [
    "# define backends\n",
    "ibmq_qasm_backend = provider.get_backend('ibmq_qasm_simulator')\n",
    "qasm_backend = QasmSimulator(shots=8192)\n",
    "noisy_backend = FakeBurlington()\n",
    "real_backend = provider.get_backend('ibmq_lima')"
   ]
  },
  {
   "cell_type": "code",
   "execution_count": 6,
   "metadata": {},
   "outputs": [],
   "source": [
    "# select backend\n",
    "backend = qasm_backend\n",
    "# backend = noisy_backend\n",
    "# backend = real_backend\n",
    "\n",
    "# set number of shots\n",
    "backend.shots = 8192"
   ]
  },
  {
   "cell_type": "markdown",
   "metadata": {
    "slideshow": {
     "slide_type": "slide"
    }
   },
   "source": [
    "# 0. Circuit Sampling"
   ]
  },
  {
   "cell_type": "code",
   "execution_count": 7,
   "metadata": {
    "slideshow": {
     "slide_type": "slide"
    }
   },
   "outputs": [],
   "source": [
    "def raw_sample(circuit, backend=backend, optimization_level=3):\n",
    "    \n",
    "    # transpile circuit\n",
    "    qc = transpile(circuit, backend, optimization_level=optimization_level)\n",
    "    \n",
    "    # run circuit\n",
    "    job = backend.run(qc)\n",
    "    counts = job.result().get_counts()\n",
    "    \n",
    "    # evaluate probabilities\n",
    "    shots = sum(counts.values())\n",
    "    probabilities = {b: c/shots for b, c in counts.items()}\n",
    "    return probabilities"
   ]
  },
  {
   "cell_type": "code",
   "execution_count": 8,
   "metadata": {
    "slideshow": {
     "slide_type": "slide"
    }
   },
   "outputs": [],
   "source": [
    "# instantiate and calibrate mitigation scheme\n",
    "mit = mthree.M3Mitigation(backend)\n",
    "mit.cals_from_system()\n",
    "# mit.cals_from_system(method='independent')  # use this to speed up noisy simulation\n",
    "    \n",
    "def mitigated_sample(circuit, backend=backend, mit=mit, optimization_level=3):\n",
    "    \n",
    "    # transpile circuit\n",
    "    qc = transpile(circuit, backend, optimization_level=optimization_level)\n",
    "    \n",
    "    # determine final qubit mappings\n",
    "    maps = mthree.utils.final_measurement_mapping(qc)\n",
    "    \n",
    "    # run circuit\n",
    "    job = backend.run(qc)\n",
    "    counts = job.result().get_counts()\n",
    "        \n",
    "    # mitigate shots\n",
    "    quasi_probabilities = mit.apply_correction(counts, maps)    \n",
    "    return quasi_probabilities"
   ]
  },
  {
   "cell_type": "code",
   "execution_count": 9,
   "metadata": {},
   "outputs": [],
   "source": [
    "# choose sampling function\n",
    "sample = raw_sample\n",
    "# sample = mitigated_sample"
   ]
  },
  {
   "cell_type": "code",
   "execution_count": 10,
   "metadata": {
    "slideshow": {
     "slide_type": "slide"
    }
   },
   "outputs": [
    {
     "data": {
      "text/html": [
       "<pre style=\"word-wrap: normal;white-space: pre;background: #fff0;line-height: 1.1;font-family: &quot;Courier New&quot;,Courier,monospace\">        ┌───┐           ░ ┌─┐      \n",
       "   q_0: ┤ H ├──■────────░─┤M├──────\n",
       "        └───┘┌─┴─┐      ░ └╥┘┌─┐   \n",
       "   q_1: ─────┤ X ├──■───░──╫─┤M├───\n",
       "             └───┘┌─┴─┐ ░  ║ └╥┘┌─┐\n",
       "   q_2: ──────────┤ X ├─░──╫──╫─┤M├\n",
       "                  └───┘ ░  ║  ║ └╥┘\n",
       "meas: 3/═══════════════════╩══╩══╩═\n",
       "                           0  1  2 </pre>"
      ],
      "text/plain": [
       "        ┌───┐           ░ ┌─┐      \n",
       "   q_0: ┤ H ├──■────────░─┤M├──────\n",
       "        └───┘┌─┴─┐      ░ └╥┘┌─┐   \n",
       "   q_1: ─────┤ X ├──■───░──╫─┤M├───\n",
       "             └───┘┌─┴─┐ ░  ║ └╥┘┌─┐\n",
       "   q_2: ──────────┤ X ├─░──╫──╫─┤M├\n",
       "                  └───┘ ░  ║  ║ └╥┘\n",
       "meas: 3/═══════════════════╩══╩══╩═\n",
       "                           0  1  2 "
      ]
     },
     "execution_count": 10,
     "metadata": {},
     "output_type": "execute_result"
    }
   ],
   "source": [
    "circuit = QuantumCircuit(3)\n",
    "circuit.h(0)\n",
    "circuit.cx(0,1)\n",
    "circuit.cx(1, 2)\n",
    "circuit.measure_all()\n",
    "circuit.draw()"
   ]
  },
  {
   "cell_type": "code",
   "execution_count": 11,
   "metadata": {},
   "outputs": [
    {
     "data": {
      "text/plain": [
       "{'000': 0.4952392578125, '111': 0.5047607421875}"
      ]
     },
     "execution_count": 11,
     "metadata": {},
     "output_type": "execute_result"
    }
   ],
   "source": [
    "# raw sampling without noise\n",
    "raw_sample(circuit, qasm_backend)"
   ]
  },
  {
   "cell_type": "code",
   "execution_count": 12,
   "metadata": {},
   "outputs": [
    {
     "data": {
      "text/plain": [
       "{'000': 0.508544921875, '111': 0.491455078125}"
      ]
     },
     "execution_count": 12,
     "metadata": {},
     "output_type": "execute_result"
    }
   ],
   "source": [
    "# raw sampling with noise\n",
    "raw_sample(circuit, backend)"
   ]
  },
  {
   "cell_type": "code",
   "execution_count": 13,
   "metadata": {
    "scrolled": false
   },
   "outputs": [
    {
     "data": {
      "text/plain": [
       "{'000': 0.51220703125, '111': 0.48779296875}"
      ]
     },
     "execution_count": 13,
     "metadata": {},
     "output_type": "execute_result"
    }
   ],
   "source": [
    "# mitigating sampling with noise\n",
    "mitigated_sample(circuit, backend)"
   ]
  },
  {
   "cell_type": "markdown",
   "metadata": {
    "slideshow": {
     "slide_type": "slide"
    }
   },
   "source": [
    "# 1. Estimation of Expectation Values and VQE"
   ]
  },
  {
   "cell_type": "markdown",
   "metadata": {
    "slideshow": {
     "slide_type": "slide"
    }
   },
   "source": [
    "### 1.1 Preliminaries\n",
    "- `PauliSumOp`\n",
    "- `AbelianGrouper`\n",
    "- Deriving measurement bases"
   ]
  },
  {
   "cell_type": "code",
   "execution_count": 14,
   "metadata": {
    "slideshow": {
     "slide_type": "slide"
    }
   },
   "outputs": [
    {
     "name": "stdout",
     "output_type": "stream",
     "text": [
      "1.0 * XXI\n",
      "+ 2.0 * XII\n",
      "+ 3.0 * YIY\n",
      "+ 4.0 * ZZI\n",
      "+ 5.0 * XIY\n"
     ]
    }
   ],
   "source": [
    "# define Hamiltonian\n",
    "H = PauliSumOp.from_list([('XXI', 1), ('XII', 2), ('YIY', 3), ('ZZI', 4), ('XIY', 5)])\n",
    "\n",
    "# second test Hamiltonian\n",
    "# H = PauliSumOp.from_list([('ZZI', 1), ('ZII', 2), ('ZIZ', 3), ('IZZ', 4)])\n",
    "\n",
    "print(H)"
   ]
  },
  {
   "cell_type": "code",
   "execution_count": 15,
   "metadata": {
    "slideshow": {
     "slide_type": "slide"
    }
   },
   "outputs": [
    {
     "name": "stdout",
     "output_type": "stream",
     "text": [
      "-----------\n",
      "3.0 * YIY\n",
      "-----------\n",
      "4.0 * ZZI\n",
      "-----------\n",
      "1.0 * XXI\n",
      "+ 2.0 * XII\n",
      "+ 5.0 * XIY\n",
      "-----------\n"
     ]
    }
   ],
   "source": [
    "# group commuting Pauli terms \n",
    "grouper = AbelianGrouper()\n",
    "groups = grouper.convert(H)\n",
    "print('-----------')\n",
    "for group in groups.oplist:\n",
    "    print(group)\n",
    "    print('-----------')"
   ]
  },
  {
   "cell_type": "code",
   "execution_count": 16,
   "metadata": {},
   "outputs": [
    {
     "name": "stdout",
     "output_type": "stream",
     "text": [
      "['Y', 'I', 'Y']\n",
      "['I', 'Z', 'Z']\n",
      "['Y', 'X', 'X']\n"
     ]
    }
   ],
   "source": [
    "# derives measurement basis from group of commuting Pauli terms\n",
    "for group in groups:\n",
    "    basis = ['I']*group.num_qubits\n",
    "    for pauli_string in group.primitive.paulis:\n",
    "        for i, pauli in enumerate(pauli_string):\n",
    "            p = str(pauli)\n",
    "            if p != 'I':\n",
    "                if basis[i] == 'I':\n",
    "                    basis[i] = p\n",
    "                elif basis[i] != p:\n",
    "                    raise ValueError('PauliSumOp contains non-commuting terms!')\n",
    "    print(basis)"
   ]
  },
  {
   "cell_type": "markdown",
   "metadata": {
    "slideshow": {
     "slide_type": "slide"
    }
   },
   "source": [
    "### 1.2 Estimator class"
   ]
  },
  {
   "cell_type": "code",
   "execution_count": 17,
   "metadata": {
    "slideshow": {
     "slide_type": "slide"
    }
   },
   "outputs": [],
   "source": [
    "class Estimator():\n",
    "    \n",
    "    def __init__(self, observable, circuit, callback=None):\n",
    "        \"\"\" Instantiate estimator for given observable and circuit. \"\"\"\n",
    "        \n",
    "        # store problem\n",
    "        self._observable = observable\n",
    "        self._circuit = circuit\n",
    "        \n",
    "        # group Pauli terms\n",
    "        self._grouper = AbelianGrouper()\n",
    "        self._groups = self._grouper.convert(self._observable).oplist\n",
    "        \n",
    "        # derive measurement bases\n",
    "        self._bases = []\n",
    "        for group in self._groups:\n",
    "            self._bases += [self._get_measurement_basis(group)]\n",
    "            \n",
    "        # construct circuits with post-rotations\n",
    "        self._circuits = []\n",
    "        for basis in self._bases:\n",
    "            self._circuits += [self._append_post_rotation(self._circuit, basis)]\n",
    "            \n",
    "        # store callback\n",
    "        self._callback = callback\n",
    "        \n",
    "    def _get_measurement_basis(self, observable):\n",
    "        \"\"\" Derive measurement basis from observable or raise exception in case of non-commuting terms. \"\"\"\n",
    "                \n",
    "        basis = ['I']*observable.num_qubits\n",
    "        for pauli_string in observable.primitive.paulis:\n",
    "            for i, pauli in enumerate(pauli_string):\n",
    "                p = str(pauli)\n",
    "                if p != 'I':\n",
    "                    if basis[i] == 'I':\n",
    "                        basis[i] = p\n",
    "                    elif basis[i] != p:\n",
    "                        raise ValueError('PauliSumOp contains non-commuting terms!')\n",
    "        return basis\n",
    "    \n",
    "    def _append_post_rotation(self, circuit, basis):\n",
    "        \"\"\" Append post rotation to circuit to measure in given basis. \"\"\"\n",
    "        \n",
    "        new_circuit = circuit.copy()\n",
    "        for i, pauli in enumerate(basis):\n",
    "            if pauli == 'X':  # H @ X @ H = Z\n",
    "                new_circuit.h(i)\n",
    "            if pauli == 'Y':  # S^dag @ H @ Y @ H @ S = Z\n",
    "                new_circuit.s(i)\n",
    "                new_circuit.h(i)\n",
    "        new_circuit.measure_all()\n",
    "        return new_circuit\n",
    "    \n",
    "    def estimate(self, param_values=None):\n",
    "        \"\"\" Estimate expectation value of given observable in state corresponding to given parameter values. \"\"\"\n",
    "\n",
    "        if param_values is None and self._circuit.num_parameters > 0 or\\\n",
    "            len(param_values) != self._circuit.num_parameters:\n",
    "            raise ValueError('Wrong number of parameters!')\n",
    "        \n",
    "        value = 0        \n",
    "        for group, circuit in zip(self._groups, self._circuits):\n",
    "            value += self._estimate_group(group, circuit, param_values)        \n",
    "            \n",
    "        if self._callback:\n",
    "            self._callback(np.real(value))\n",
    "            \n",
    "        return np.real(value)\n",
    "        \n",
    "    def _estimate_group(self, group, circuit, param_values):\n",
    "        \"\"\" Estimate expectation value for group of commuting terms that can be measured in the same basis. \"\"\"\n",
    "        \n",
    "        probabilities = sample(circuit.bind_parameters(param_values), backend)\n",
    "        \n",
    "        value = 0\n",
    "        for (pauli, coeff) in zip(group.primitive.paulis, group.primitive.coeffs):\n",
    "            val = 0\n",
    "            p = str(pauli)\n",
    "            for b, prob in probabilities.items():\n",
    "                val += prob * np.prod([(-1)**(b[i] == '1' and p[i] != 'I') for i in range(len(b))])\n",
    "\n",
    "            value += coeff * val\n",
    "    \n",
    "        return value"
   ]
  },
  {
   "cell_type": "code",
   "execution_count": 18,
   "metadata": {
    "slideshow": {
     "slide_type": "slide"
    }
   },
   "outputs": [
    {
     "data": {
      "text/html": [
       "<pre style=\"word-wrap: normal;white-space: pre;background: #fff0;line-height: 1.1;font-family: &quot;Courier New&quot;,Courier,monospace\">     ┌──────────┐┌──────────┐     ┌──────────┐┌──────────┐             \n",
       "q_0: ┤ Ry(θ[0]) ├┤ Rz(θ[3]) ├──■──┤ Ry(θ[6]) ├┤ Rz(θ[9]) ├─────────────\n",
       "     ├──────────┤├──────────┤┌─┴─┐└──────────┘├──────────┤┌───────────┐\n",
       "q_1: ┤ Ry(θ[1]) ├┤ Rz(θ[4]) ├┤ X ├─────■──────┤ Ry(θ[7]) ├┤ Rz(θ[10]) ├\n",
       "     ├──────────┤├──────────┤└───┘   ┌─┴─┐    ├──────────┤├───────────┤\n",
       "q_2: ┤ Ry(θ[2]) ├┤ Rz(θ[5]) ├────────┤ X ├────┤ Ry(θ[8]) ├┤ Rz(θ[11]) ├\n",
       "     └──────────┘└──────────┘        └───┘    └──────────┘└───────────┘</pre>"
      ],
      "text/plain": [
       "     ┌──────────┐┌──────────┐     ┌──────────┐┌──────────┐             \n",
       "q_0: ┤ Ry(θ[0]) ├┤ Rz(θ[3]) ├──■──┤ Ry(θ[6]) ├┤ Rz(θ[9]) ├─────────────\n",
       "     ├──────────┤├──────────┤┌─┴─┐└──────────┘├──────────┤┌───────────┐\n",
       "q_1: ┤ Ry(θ[1]) ├┤ Rz(θ[4]) ├┤ X ├─────■──────┤ Ry(θ[7]) ├┤ Rz(θ[10]) ├\n",
       "     ├──────────┤├──────────┤└───┘   ┌─┴─┐    ├──────────┤├───────────┤\n",
       "q_2: ┤ Ry(θ[2]) ├┤ Rz(θ[5]) ├────────┤ X ├────┤ Ry(θ[8]) ├┤ Rz(θ[11]) ├\n",
       "     └──────────┘└──────────┘        └───┘    └──────────┘└───────────┘"
      ]
     },
     "execution_count": 18,
     "metadata": {},
     "output_type": "execute_result"
    }
   ],
   "source": [
    "# define parametrized circuit\n",
    "circuit = EfficientSU2(H.num_qubits, entanglement='linear', reps=1)\n",
    "circuit.decompose().draw()"
   ]
  },
  {
   "cell_type": "code",
   "execution_count": 19,
   "metadata": {},
   "outputs": [],
   "source": [
    "# instantiate estimator\n",
    "estimator = Estimator(H, circuit, lambda x: print(f'objective = {x}'))"
   ]
  },
  {
   "cell_type": "code",
   "execution_count": 20,
   "metadata": {
    "scrolled": false
   },
   "outputs": [
    {
     "name": "stdout",
     "output_type": "stream",
     "text": [
      "objective = 2.81591796875\n"
     ]
    },
    {
     "data": {
      "text/plain": [
       "2.81591796875"
      ]
     },
     "execution_count": 20,
     "metadata": {},
     "output_type": "execute_result"
    }
   ],
   "source": [
    "# test on random parameters\n",
    "theta = np.random.rand(12)\n",
    "estimator.estimate(theta)"
   ]
  },
  {
   "cell_type": "markdown",
   "metadata": {
    "slideshow": {
     "slide_type": "slide"
    }
   },
   "source": [
    "### 1.3 Classical baseline"
   ]
  },
  {
   "cell_type": "code",
   "execution_count": 21,
   "metadata": {},
   "outputs": [
    {
     "name": "stdout",
     "output_type": "stream",
     "text": [
      "{   'aux_operator_eigenvalues': None,\n",
      "    'eigenstate': VectorStateFn(Statevector([ 0.18959355-0.1737214j ,  0.1737214 +0.18959355j,\n",
      "              0.36238323-0.22924563j,  0.22924563+0.36238323j,\n",
      "             -0.39861804+0.15804689j, -0.15804689-0.39861804j,\n",
      "             -0.25203264+0.05103318j, -0.05103318-0.25203264j],\n",
      "            dims=(2, 2, 2)), coeff=1.0, is_measurement=False),\n",
      "    'eigenvalue': -9.545916168529724}\n"
     ]
    }
   ],
   "source": [
    "exact_solver = NumPyMinimumEigensolver()\n",
    "exact_result = exact_solver.compute_minimum_eigenvalue(H)\n",
    "print(exact_result)"
   ]
  },
  {
   "cell_type": "markdown",
   "metadata": {
    "slideshow": {
     "slide_type": "slide"
    }
   },
   "source": [
    "### 1.4 Build custom VQE"
   ]
  },
  {
   "cell_type": "code",
   "execution_count": 22,
   "metadata": {},
   "outputs": [],
   "source": [
    "# instantiate optimizer\n",
    "optimizer = SPSA(maxiter=100)"
   ]
  },
  {
   "cell_type": "code",
   "execution_count": 23,
   "metadata": {
    "scrolled": true
   },
   "outputs": [
    {
     "name": "stdout",
     "output_type": "stream",
     "text": [
      "objective = 0.8662109375\n",
      "objective = 2.041015625\n",
      "objective = 3.355712890625\n",
      "objective = 0.512939453125\n",
      "objective = 3.417724609375\n",
      "objective = 0.483154296875\n",
      "objective = 1.283203125\n",
      "objective = 2.457763671875\n",
      "objective = 2.19677734375\n",
      "objective = 1.1875\n",
      "objective = 0.48046875\n",
      "objective = 2.8828125\n",
      "objective = 1.59228515625\n",
      "objective = 1.906005859375\n",
      "objective = -0.439453125\n",
      "objective = 4.505615234375\n",
      "objective = 3.107177734375\n",
      "objective = 1.408447265625\n",
      "objective = 2.228515625\n",
      "objective = 1.65283203125\n",
      "objective = 1.367919921875\n",
      "objective = 2.698974609375\n",
      "objective = 0.384033203125\n",
      "objective = 2.772705078125\n",
      "objective = 2.901611328125\n",
      "objective = 1.0283203125\n",
      "objective = 3.9306640625\n",
      "objective = -0.978515625\n",
      "objective = 3.153564453125\n",
      "objective = 0.437255859375\n",
      "objective = 0.354736328125\n",
      "objective = 4.1455078125\n",
      "objective = 3.872314453125\n",
      "objective = 0.368896484375\n",
      "objective = 2.80078125\n",
      "objective = 1.643798828125\n",
      "objective = 3.35205078125\n",
      "objective = 1.058837890625\n",
      "objective = 1.524658203125\n",
      "objective = 2.71484375\n",
      "objective = 2.685791015625\n",
      "objective = 0.48388671875\n",
      "objective = 2.929443359375\n",
      "objective = 0.810302734375\n",
      "objective = 0.906982421875\n",
      "objective = 3.128662109375\n",
      "objective = 1.293701171875\n",
      "objective = 2.26123046875\n",
      "objective = 2.959228515625\n",
      "objective = 1.27197265625\n",
      "objective = 3.2421875\n",
      "objective = 0.701416015625\n",
      "objective = 1.379638671875\n",
      "objective = -1.176025390625\n",
      "objective = -2.44091796875\n",
      "objective = 0.676025390625\n",
      "objective = -2.7109375\n",
      "objective = -3.8984375\n",
      "objective = -3.43798828125\n",
      "objective = -3.704833984375\n",
      "objective = -3.8564453125\n",
      "objective = -4.142333984375\n",
      "objective = -3.849609375\n",
      "objective = -3.85888671875\n",
      "objective = -4.157470703125\n",
      "objective = -2.974365234375\n",
      "objective = -4.57080078125\n",
      "objective = -3.223876953125\n",
      "objective = -2.77001953125\n",
      "objective = -5.166015625\n",
      "objective = -5.088134765625\n",
      "objective = -3.8779296875\n",
      "objective = -5.413818359375\n",
      "objective = -4.81787109375\n",
      "objective = -4.67236328125\n",
      "objective = -4.59033203125\n",
      "objective = -5.050537109375\n",
      "objective = -5.1201171875\n",
      "objective = -5.218994140625\n",
      "objective = -5.07763671875\n",
      "objective = -5.447021484375\n",
      "objective = -4.772705078125\n",
      "objective = -6.13623046875\n",
      "objective = -4.344970703125\n",
      "objective = -5.58544921875\n",
      "objective = -5.941162109375\n",
      "objective = -5.73876953125\n",
      "objective = -5.22412109375\n",
      "objective = -5.544677734375\n",
      "objective = -6.13916015625\n",
      "objective = -4.7724609375\n",
      "objective = -5.645263671875\n",
      "objective = -5.87841796875\n",
      "objective = -5.645263671875\n",
      "objective = -5.93896484375\n",
      "objective = -6.115234375\n",
      "objective = -5.9326171875\n",
      "objective = -5.54345703125\n",
      "objective = -5.9267578125\n",
      "objective = -6.025146484375\n",
      "objective = -5.7705078125\n",
      "objective = -5.936279296875\n",
      "objective = -6.245361328125\n",
      "objective = -5.885009765625\n",
      "objective = -6.384521484375\n",
      "objective = -5.194580078125\n",
      "objective = -6.390625\n",
      "objective = -5.0712890625\n",
      "objective = -6.0185546875\n",
      "objective = -6.830078125\n",
      "objective = -6.65478515625\n",
      "objective = -5.8955078125\n",
      "objective = -6.205810546875\n",
      "objective = -6.716796875\n",
      "objective = -6.84375\n",
      "objective = -6.45166015625\n",
      "objective = -6.02197265625\n",
      "objective = -6.64501953125\n",
      "objective = -6.465576171875\n",
      "objective = -6.343994140625\n",
      "objective = -5.998779296875\n",
      "objective = -6.713623046875\n",
      "objective = -6.84228515625\n",
      "objective = -6.38818359375\n",
      "objective = -6.160400390625\n",
      "objective = -6.288330078125\n",
      "objective = -6.22607421875\n",
      "objective = -6.32470703125\n",
      "objective = -6.24560546875\n",
      "objective = -6.071533203125\n",
      "objective = -6.94677734375\n",
      "objective = -6.420654296875\n",
      "objective = -6.488037109375\n",
      "objective = -6.33447265625\n",
      "objective = -6.682861328125\n",
      "objective = -6.10791015625\n",
      "objective = -6.519287109375\n",
      "objective = -6.668701171875\n",
      "objective = -6.29345703125\n",
      "objective = -7.212158203125\n",
      "objective = -6.99853515625\n",
      "objective = -6.759033203125\n",
      "objective = -6.986083984375\n",
      "objective = -6.689697265625\n",
      "objective = -7.344482421875\n",
      "objective = -6.326171875\n",
      "objective = -6.61865234375\n",
      "objective = -7.152587890625\n",
      "objective = -6.92138671875\n",
      "objective = -6.478271484375\n",
      "objective = -6.565185546875\n",
      "objective = -7.1015625\n",
      "objective = -7.09130859375\n",
      "objective = -7.3876953125\n",
      "objective = -7.2900390625\n",
      "objective = -7.088623046875\n",
      "objective = -6.923095703125\n",
      "objective = -6.79296875\n",
      "objective = -6.701416015625\n",
      "objective = -6.70849609375\n",
      "objective = -6.988525390625\n",
      "objective = -7.450927734375\n",
      "objective = -7.255615234375\n",
      "objective = -7.214111328125\n",
      "objective = -7.14453125\n",
      "objective = -7.107177734375\n",
      "objective = -6.740478515625\n",
      "objective = -7.207275390625\n",
      "objective = -6.807373046875\n",
      "objective = -7.135986328125\n",
      "objective = -6.995849609375\n",
      "objective = -7.2451171875\n",
      "objective = -6.98486328125\n",
      "objective = -7.3369140625\n",
      "objective = -7.2783203125\n",
      "objective = -7.364013671875\n",
      "objective = -6.8603515625\n",
      "objective = -7.055908203125\n",
      "objective = -7.03076171875\n",
      "objective = -7.042724609375\n",
      "objective = -6.952880859375\n",
      "objective = -7.07080078125\n",
      "objective = -6.905517578125\n",
      "objective = -6.7958984375\n",
      "objective = -7.62109375\n",
      "objective = -6.699462890625\n",
      "objective = -6.94091796875\n",
      "objective = -7.447021484375\n",
      "objective = -6.866943359375\n",
      "objective = -7.237060546875\n",
      "objective = -7.240234375\n",
      "objective = -7.187255859375\n",
      "objective = -7.230224609375\n",
      "objective = -7.18701171875\n",
      "objective = -7.138671875\n",
      "objective = -7.361328125\n",
      "objective = -6.664794921875\n",
      "objective = -7.387451171875\n",
      "objective = -7.267822265625\n",
      "objective = -6.97509765625\n",
      "objective = -7.39599609375\n",
      "objective = -7.017333984375\n",
      "objective = -7.05078125\n",
      "objective = -7.030029296875\n",
      "objective = -7.513427734375\n",
      "objective = -7.165771484375\n",
      "objective = -7.4560546875\n",
      "objective = -6.922119140625\n",
      "objective = -7.2998046875\n",
      "objective = -7.2490234375\n",
      "objective = -7.521728515625\n",
      "objective = -7.403564453125\n",
      "objective = -7.029052734375\n",
      "objective = -7.227294921875\n",
      "objective = -6.9912109375\n",
      "objective = -6.910400390625\n",
      "objective = -7.630126953125\n",
      "objective = -7.120361328125\n",
      "objective = -7.2578125\n",
      "objective = -7.13134765625\n",
      "objective = -7.44482421875\n",
      "objective = -7.420166015625\n",
      "objective = -7.556640625\n",
      "objective = -7.52490234375\n",
      "objective = -7.363037109375\n",
      "objective = -7.3896484375\n",
      "objective = -7.447998046875\n",
      "objective = -7.51708984375\n",
      "objective = -7.362548828125\n",
      "objective = -7.394287109375\n",
      "objective = -7.497314453125\n",
      "objective = -7.461669921875\n",
      "objective = -7.36181640625\n",
      "objective = -7.29052734375\n",
      "objective = -7.36767578125\n",
      "objective = -7.489013671875\n",
      "objective = -7.109375\n",
      "objective = -7.1533203125\n",
      "objective = -7.292236328125\n",
      "objective = -7.678466796875\n",
      "objective = -7.594970703125\n",
      "objective = -7.139892578125\n",
      "objective = -7.73583984375\n",
      "objective = -7.226318359375\n",
      "objective = -7.708251953125\n",
      "objective = -7.54150390625\n",
      "objective = -7.252685546875\n",
      "objective = -7.187744140625\n",
      "objective = -7.361083984375\n",
      "objective = -7.459716796875\n",
      "objective = -7.896484375\n",
      "-7.896484375\n",
      "[ 1.27408543  1.36778157  1.32049614  2.9068939   2.08277289  1.50377822\n",
      " -0.459532    1.22802759  2.12744025  0.27223538  0.3891597   1.32373881]\n"
     ]
    }
   ],
   "source": [
    "x0 = np.random.rand(circuit.num_parameters)\n",
    "result = optimizer.minimize(estimator.estimate, x0=x0)\n",
    "print(result.fun)\n",
    "print(result.x)\n",
    "\n",
    "# store ground state parameters for later\n",
    "ground_state_params = result.x"
   ]
  },
  {
   "cell_type": "markdown",
   "metadata": {
    "slideshow": {
     "slide_type": "slide"
    }
   },
   "source": [
    "### 1.5 Compare to Qiskit VQE"
   ]
  },
  {
   "cell_type": "code",
   "execution_count": 24,
   "metadata": {},
   "outputs": [],
   "source": [
    "vqe = VQE(circuit, optimizer, quantum_instance=backend)"
   ]
  },
  {
   "cell_type": "code",
   "execution_count": 25,
   "metadata": {
    "scrolled": true
   },
   "outputs": [
    {
     "name": "stdout",
     "output_type": "stream",
     "text": [
      "{   'aux_operator_eigenvalues': None,\n",
      "    'cost_function_evals': 200,\n",
      "    'eigenstate': {   '000': 0.31926276158910233,\n",
      "                      '001': 0.23333100817293873,\n",
      "                      '010': 0.18388441087405968,\n",
      "                      '011': 0.47005027989035386,\n",
      "                      '100': 0.40864677595693816,\n",
      "                      '101': 0.5879652413195868,\n",
      "                      '110': 0.2445699350390395,\n",
      "                      '111': 0.12789613706050704},\n",
      "    'eigenvalue': (-9.01904296875+0j),\n",
      "    'optimal_parameters': {   ParameterVectorElement(θ[0]): 2.3862855723409733,\n",
      "                              ParameterVectorElement(θ[2]): -2.616350919853289,\n",
      "                              ParameterVectorElement(θ[5]): 1.5367672116690385,\n",
      "                              ParameterVectorElement(θ[7]): 2.131384713279394,\n",
      "                              ParameterVectorElement(θ[4]): -3.1625847976687687,\n",
      "                              ParameterVectorElement(θ[1]): 0.5098976574496583,\n",
      "                              ParameterVectorElement(θ[3]): 2.6276906602718006,\n",
      "                              ParameterVectorElement(θ[8]): 1.9304954397579421,\n",
      "                              ParameterVectorElement(θ[6]): 1.562530004564573,\n",
      "                              ParameterVectorElement(θ[9]): -1.5212692490713322,\n",
      "                              ParameterVectorElement(θ[10]): -3.0074884675562914,\n",
      "                              ParameterVectorElement(θ[11]): 2.9889797123870507},\n",
      "    'optimal_point': array([ 2.38628557,  0.50989766, -2.61635092,  2.62769066, -3.1625848 ,\n",
      "        1.53676721,  1.56253   ,  2.13138471,  1.93049544, -1.52126925,\n",
      "       -3.00748847,  2.98897971]),\n",
      "    'optimal_value': -9.01904296875,\n",
      "    'optimizer_evals': None,\n",
      "    'optimizer_time': 12.031465768814087}\n"
     ]
    }
   ],
   "source": [
    "result = vqe.compute_minimum_eigenvalue(H)\n",
    "print(result)"
   ]
  },
  {
   "cell_type": "markdown",
   "metadata": {
    "slideshow": {
     "slide_type": "slide"
    }
   },
   "source": [
    "### 1.6 Integrate in Qiskit\n",
    "\n",
    "Implement Qiskit's `MinimumEigensolver` interface to reuse custom algorithm in Qiskit Applications stack."
   ]
  },
  {
   "cell_type": "code",
   "execution_count": 26,
   "metadata": {},
   "outputs": [],
   "source": [
    "from qiskit.algorithms import MinimumEigensolver, VQEResult\n",
    "\n",
    "class CustomVQE(MinimumEigensolver):\n",
    "    \n",
    "    def __init__(self, circuit, optimizer):\n",
    "        self._circuit = circuit\n",
    "        self._optimizer = optimizer\n",
    "        \n",
    "    def compute_minimum_eigenvalue(self, operator, aux_operators=None):\n",
    "                \n",
    "        # run optimization\n",
    "        estimator = Estimator(operator, self._circuit)        \n",
    "        x0 = np.random.rand(self._circuit.num_parameters)\n",
    "        res = self._optimizer.minimize(estimator.estimate, x0=x0)\n",
    "\n",
    "        # evaluate auxilliary operators if given\n",
    "        aux_operator_eigenvalues = None\n",
    "        if aux_operators is not None:\n",
    "            aux_operator_eigenvalues = []\n",
    "            for aux_estimator in [ Estimator(aux_op, self._circuit) \n",
    "                                      for aux_op in aux_operators ]:\n",
    "                aux_operator_eigenvalues += [aux_estimator.estimate(res.x)]\n",
    "        \n",
    "        # populate results\n",
    "        result = VQEResult()\n",
    "        result.aux_operator_eigenvalues = aux_operator_eigenvalues\n",
    "        result.cost_function_evals = res.nfev\n",
    "        result.eigenstate = None\n",
    "        result.eigenvalue = res.fun\n",
    "        result.optimal_parameters = res.x\n",
    "        result.optimal_point = res.x\n",
    "        result.optimal_value = res.fun\n",
    "        return result"
   ]
  },
  {
   "cell_type": "code",
   "execution_count": 27,
   "metadata": {
    "slideshow": {
     "slide_type": "slide"
    }
   },
   "outputs": [
    {
     "name": "stdout",
     "output_type": "stream",
     "text": [
      "{   'aux_operator_eigenvalues': None,\n",
      "    'cost_function_evals': 200,\n",
      "    'eigenstate': None,\n",
      "    'eigenvalue': -8.2919921875,\n",
      "    'optimal_parameters': array([ 0.62496417,  0.09811446,  2.71615635,  1.20454321,  1.66634448,\n",
      "        1.91517859, -1.46578312,  0.14232564,  0.90047419,  1.59898951,\n",
      "        1.1291418 ,  0.05501152]),\n",
      "    'optimal_point': array([ 0.62496417,  0.09811446,  2.71615635,  1.20454321,  1.66634448,\n",
      "        1.91517859, -1.46578312,  0.14232564,  0.90047419,  1.59898951,\n",
      "        1.1291418 ,  0.05501152]),\n",
      "    'optimal_value': -8.2919921875,\n",
      "    'optimizer_evals': None,\n",
      "    'optimizer_time': None}\n"
     ]
    }
   ],
   "source": [
    "custom_vqe = CustomVQE(circuit, optimizer)\n",
    "result = custom_vqe.compute_minimum_eigenvalue(H)\n",
    "print(result)"
   ]
  },
  {
   "cell_type": "markdown",
   "metadata": {
    "slideshow": {
     "slide_type": "slide"
    }
   },
   "source": [
    "# 2. State Fidelity"
   ]
  },
  {
   "cell_type": "code",
   "execution_count": 28,
   "metadata": {
    "slideshow": {
     "slide_type": "slide"
    }
   },
   "outputs": [],
   "source": [
    "class Fidelity():\n",
    "    \n",
    "    def __init__(self, circuit_1, circuit_2, callback=None):\n",
    "        \"\"\" Instantiate fidelity estimator. \"\"\"\n",
    "        self._circuit_1 = circuit_1\n",
    "        self._circuit_2 = circuit_2\n",
    "        \n",
    "        self._circuit_1.remove_final_measurements()\n",
    "        self._circuit_2.remove_final_measurements()\n",
    "        \n",
    "        self._callback = callback\n",
    "        \n",
    "    def estimate(self, param_values_1, param_values_2):\n",
    "        \"\"\" Estimate fidelity between the two states defined by \n",
    "        the given parameter values. \"\"\"\n",
    "        \n",
    "        # bind parameter values and transpile circuit\n",
    "        qc = self._circuit_1.bind_parameters(param_values_1)\n",
    "        qc.append(self._circuit_2.bind_parameters(param_values_2).inverse(), \n",
    "                  range(self._circuit_2.num_qubits))\n",
    "        qc.measure_all()\n",
    "        \n",
    "        # run circuit and get probabilities\n",
    "        probabilities = sample(qc, backend)\n",
    "        \n",
    "        # estimate fidelity: |<0|U_1^dag U_2|0>|^2\n",
    "        fidelity = np.minimum(1.0, np.maximum(0.0, probabilities.get('0'*qc.num_qubits, 0.0)))\n",
    "        \n",
    "        if self._callback:\n",
    "            self._callback(fidelity)\n",
    "        \n",
    "        return fidelity"
   ]
  },
  {
   "cell_type": "code",
   "execution_count": 29,
   "metadata": {
    "slideshow": {
     "slide_type": "slide"
    }
   },
   "outputs": [],
   "source": [
    "# instantiate fidelity\n",
    "fidelity = Fidelity(circuit, circuit, lambda x: print(f'fidelity = {x}'))"
   ]
  },
  {
   "cell_type": "code",
   "execution_count": 30,
   "metadata": {},
   "outputs": [],
   "source": [
    "# sample random parameters\n",
    "x = np.random.rand(circuit.num_parameters)\n",
    "y = np.random.rand(circuit.num_parameters)"
   ]
  },
  {
   "cell_type": "code",
   "execution_count": 31,
   "metadata": {
    "scrolled": true
   },
   "outputs": [
    {
     "name": "stdout",
     "output_type": "stream",
     "text": [
      "fidelity = 1.0\n",
      "fidelity = 0.999755859375\n",
      "fidelity = 0.9989013671875\n",
      "fidelity = 0.998046875\n",
      "fidelity = 0.995849609375\n",
      "fidelity = 0.9949951171875\n",
      "fidelity = 0.9910888671875\n",
      "fidelity = 0.9876708984375\n",
      "fidelity = 0.9853515625\n",
      "fidelity = 0.983642578125\n",
      "fidelity = 0.9765625\n",
      "fidelity = 0.97216796875\n",
      "fidelity = 0.9678955078125\n",
      "fidelity = 0.965087890625\n",
      "fidelity = 0.957275390625\n",
      "fidelity = 0.95263671875\n",
      "fidelity = 0.9447021484375\n",
      "fidelity = 0.9345703125\n",
      "fidelity = 0.926513671875\n",
      "fidelity = 0.9268798828125\n",
      "fidelity = 0.9129638671875\n",
      "fidelity = 0.9080810546875\n",
      "fidelity = 0.9051513671875\n",
      "fidelity = 0.892822265625\n",
      "fidelity = 0.8792724609375\n",
      "fidelity = 0.871826171875\n",
      "fidelity = 0.8680419921875\n",
      "fidelity = 0.8536376953125\n",
      "fidelity = 0.853271484375\n",
      "fidelity = 0.8333740234375\n",
      "fidelity = 0.8214111328125\n",
      "fidelity = 0.8109130859375\n",
      "fidelity = 0.8057861328125\n",
      "fidelity = 0.7947998046875\n",
      "fidelity = 0.79150390625\n",
      "fidelity = 0.776123046875\n",
      "fidelity = 0.76171875\n",
      "fidelity = 0.7569580078125\n",
      "fidelity = 0.741455078125\n",
      "fidelity = 0.7431640625\n",
      "fidelity = 0.718017578125\n",
      "fidelity = 0.7088623046875\n",
      "fidelity = 0.6971435546875\n",
      "fidelity = 0.6834716796875\n",
      "fidelity = 0.6790771484375\n",
      "fidelity = 0.6552734375\n",
      "fidelity = 0.6522216796875\n",
      "fidelity = 0.6497802734375\n",
      "fidelity = 0.634521484375\n",
      "fidelity = 0.6185302734375\n"
     ]
    }
   ],
   "source": [
    "# interpolation between parameters\n",
    "ts = np.linspace(0, 1)\n",
    "fidelities = []\n",
    "for t in ts:\n",
    "    fidelities += [fidelity.estimate(x, x + t*(y-x))]"
   ]
  },
  {
   "cell_type": "code",
   "execution_count": 32,
   "metadata": {
    "slideshow": {
     "slide_type": "slide"
    }
   },
   "outputs": [
    {
     "data": {
      "image/png": "[encoded data removed]",
      "text/plain": [
       "<Figure size 432x288 with 1 Axes>"
      ]
     },
     "metadata": {
      "needs_background": "light"
     },
     "output_type": "display_data"
    }
   ],
   "source": [
    "plt.plot(ts, fidelities)\n",
    "plt.xlabel('t')\n",
    "plt.ylabel('fidelity')\n",
    "plt.show()"
   ]
  },
  {
   "cell_type": "markdown",
   "metadata": {
    "slideshow": {
     "slide_type": "slide"
    }
   },
   "source": [
    "# 3. Variational Quantum Deflation (VQD)\n",
    "https://arxiv.org/abs/1805.08138"
   ]
  },
  {
   "cell_type": "markdown",
   "metadata": {
    "slideshow": {
     "slide_type": "slide"
    }
   },
   "source": [
    "### 3.1 Classical Baseline"
   ]
  },
  {
   "cell_type": "code",
   "execution_count": 33,
   "metadata": {},
   "outputs": [
    {
     "name": "stdout",
     "output_type": "stream",
     "text": [
      "{   'aux_operator_eigenvalues': None,\n",
      "    'eigenstates': ListOp([VectorStateFn(Statevector([-0.25227021+0.04984556j, -0.04984556-0.25227021j,\n",
      "             -0.42874187+0.00745489j, -0.00745489-0.42874187j,\n",
      "              0.42268399+0.07220391j, -0.07220391+0.42268399j,\n",
      "              0.2418314 +0.08742087j, -0.08742087+0.2418314j ],\n",
      "            dims=(2, 2, 2)), coeff=1.0, is_measurement=False), VectorStateFn(Statevector([ 0.13058298-0.22553789j,  0.22553789+0.13058298j,\n",
      "             -0.28918099+0.31377556j, -0.31377556-0.28918099j,\n",
      "             -0.3543427 +0.23774356j, -0.23774356-0.3543427j ,\n",
      "              0.24286831-0.09452109j,  0.09452109+0.24286831j],\n",
      "            dims=(2, 2, 2)), coeff=1.0, is_measurement=False)], coeff=1.0, abelian=False),\n",
      "    'eigenvalues': array([-9.54591617, -7.6730362 ])}\n"
     ]
    }
   ],
   "source": [
    "exact_solver = NumPyEigensolver(k=2)\n",
    "exact_result = exact_solver.compute_eigenvalues(H)\n",
    "print(exact_result)"
   ]
  },
  {
   "cell_type": "markdown",
   "metadata": {
    "slideshow": {
     "slide_type": "slide"
    }
   },
   "source": [
    "### 3.2 Define VQD Objective"
   ]
  },
  {
   "cell_type": "code",
   "execution_count": 34,
   "metadata": {
    "slideshow": {
     "slide_type": "-"
    }
   },
   "outputs": [],
   "source": [
    "# set penalty weight for overlap term\n",
    "penalty = 25\n",
    "\n",
    "# define objective for VQD\n",
    "def vqd_objective(param_values, \n",
    "                  energy=estimator.estimate, \n",
    "                  overlap=lambda x: fidelity.estimate(x, ground_state_params),\n",
    "                  penalty=penalty):\n",
    "\n",
    "    value = energy(param_values)\n",
    "    value += penalty * overlap(param_values)\n",
    "    return value"
   ]
  },
  {
   "cell_type": "markdown",
   "metadata": {
    "slideshow": {
     "slide_type": "slide"
    }
   },
   "source": [
    "### 3.3 Run VQD"
   ]
  },
  {
   "cell_type": "code",
   "execution_count": 35,
   "metadata": {
    "scrolled": true
   },
   "outputs": [
    {
     "name": "stdout",
     "output_type": "stream",
     "text": [
      "objective = 2.688720703125\n",
      "fidelity = 0.0921630859375\n",
      "objective = 3.854736328125\n",
      "fidelity = 0.0106201171875\n",
      "objective = 3.653564453125\n",
      "fidelity = 0.0177001953125\n",
      "objective = 2.507080078125\n",
      "fidelity = 0.104248046875\n",
      "objective = 3.170654296875\n",
      "fidelity = 0.041748046875\n",
      "objective = 3.759521484375\n",
      "fidelity = 0.076416015625\n",
      "objective = 3.271240234375\n",
      "fidelity = 0.081298828125\n",
      "objective = 3.19140625\n",
      "fidelity = 0.0284423828125\n",
      "objective = 2.62841796875\n",
      "fidelity = 0.126220703125\n",
      "objective = 3.9853515625\n",
      "fidelity = 0.0189208984375\n",
      "objective = 3.92578125\n",
      "fidelity = 0.067626953125\n",
      "objective = 1.67041015625\n",
      "fidelity = 0.0911865234375\n",
      "objective = 3.87255859375\n",
      "fidelity = 0.0552978515625\n",
      "objective = 2.2265625\n",
      "fidelity = 0.0726318359375\n",
      "objective = 3.61181640625\n",
      "fidelity = 0.063720703125\n",
      "objective = 3.560302734375\n",
      "fidelity = 0.0782470703125\n",
      "objective = 3.051513671875\n",
      "fidelity = 0.0926513671875\n",
      "objective = 3.750732421875\n",
      "fidelity = 0.0379638671875\n",
      "objective = 3.021240234375\n",
      "fidelity = 0.102783203125\n",
      "objective = 3.18798828125\n",
      "fidelity = 0.029052734375\n",
      "objective = 3.614501953125\n",
      "fidelity = 0.0601806640625\n",
      "objective = 3.367431640625\n",
      "fidelity = 0.06689453125\n",
      "objective = 3.497802734375\n",
      "fidelity = 0.0391845703125\n",
      "objective = 3.143798828125\n",
      "fidelity = 0.07958984375\n",
      "objective = 3.69482421875\n",
      "fidelity = 0.034912109375\n",
      "objective = 2.43115234375\n",
      "fidelity = 0.091552734375\n",
      "objective = 1.868408203125\n",
      "fidelity = 0.08837890625\n",
      "objective = 3.933349609375\n",
      "fidelity = 0.041015625\n",
      "objective = 2.528564453125\n",
      "fidelity = 0.141845703125\n",
      "objective = 3.640869140625\n",
      "fidelity = 0.0179443359375\n",
      "objective = 3.87939453125\n",
      "fidelity = 0.0374755859375\n",
      "objective = 3.04931640625\n",
      "fidelity = 0.0955810546875\n",
      "objective = 3.3759765625\n",
      "fidelity = 0.084716796875\n",
      "objective = 3.073974609375\n",
      "fidelity = 0.036865234375\n",
      "objective = 3.750244140625\n",
      "fidelity = 0.0560302734375\n",
      "objective = 2.44970703125\n",
      "fidelity = 0.11572265625\n",
      "objective = 3.406982421875\n",
      "fidelity = 0.045654296875\n",
      "objective = 3.081787109375\n",
      "fidelity = 0.1148681640625\n",
      "objective = 3.647216796875\n",
      "fidelity = 0.0662841796875\n",
      "objective = 3.208740234375\n",
      "fidelity = 0.0447998046875\n",
      "objective = 2.122314453125\n",
      "fidelity = 0.0706787109375\n",
      "objective = 4.06103515625\n",
      "fidelity = 0.0709228515625\n",
      "objective = 2.401123046875\n",
      "fidelity = 0.094482421875\n",
      "objective = 3.790771484375\n",
      "fidelity = 0.0438232421875\n",
      "objective = 3.447509765625\n",
      "fidelity = 0.0718994140625\n",
      "objective = 3.30859375\n",
      "fidelity = 0.0494384765625\n",
      "objective = 2.205322265625\n",
      "fidelity = 0.1578369140625\n",
      "objective = 4.2294921875\n",
      "fidelity = 0.0120849609375\n",
      "objective = 3.8447265625\n",
      "fidelity = 0.0343017578125\n",
      "objective = 1.8251953125\n",
      "fidelity = 0.08642578125\n",
      "objective = 2.26220703125\n",
      "fidelity = 0.0816650390625\n",
      "objective = 4.216796875\n",
      "fidelity = 0.0333251953125\n",
      "objective = 2.092041015625\n",
      "fidelity = 0.07421875\n",
      "objective = 0.102783203125\n",
      "fidelity = 0.06884765625\n",
      "objective = -0.978271484375\n",
      "fidelity = 0.0277099609375\n",
      "objective = -2.40087890625\n",
      "fidelity = 0.008544921875\n",
      "objective = -0.52099609375\n",
      "fidelity = 0.1878662109375\n",
      "objective = -1.33154296875\n",
      "fidelity = 0.071533203125\n",
      "objective = 4.75634765625\n",
      "fidelity = 0.003662109375\n",
      "objective = 4.461669921875\n",
      "fidelity = 0.017822265625\n",
      "objective = 4.105224609375\n",
      "fidelity = 0.017333984375\n",
      "objective = 5.869873046875\n",
      "fidelity = 0.013916015625\n",
      "objective = 2.82373046875\n",
      "fidelity = 0.0704345703125\n",
      "objective = 2.947021484375\n",
      "fidelity = 0.0631103515625\n",
      "objective = 1.68212890625\n",
      "fidelity = 0.0941162109375\n",
      "objective = 3.8330078125\n",
      "fidelity = 0.046630859375\n",
      "objective = 2.142333984375\n",
      "fidelity = 0.109619140625\n",
      "objective = 0.34716796875\n",
      "fidelity = 0.08642578125\n",
      "objective = -0.20751953125\n",
      "fidelity = 0.1033935546875\n",
      "objective = 1.79443359375\n",
      "fidelity = 0.056640625\n",
      "objective = -1.502685546875\n",
      "fidelity = 0.101806640625\n",
      "objective = 0.958984375\n",
      "fidelity = 0.08203125\n",
      "objective = -1.53466796875\n",
      "fidelity = 0.0911865234375\n",
      "objective = -3.99365234375\n",
      "fidelity = 0.0478515625\n",
      "objective = -2.973388671875\n",
      "fidelity = 0.0284423828125\n",
      "objective = -4.1865234375\n",
      "fidelity = 0.1070556640625\n",
      "objective = -2.3623046875\n",
      "fidelity = 0.0565185546875\n",
      "objective = -4.13525390625\n",
      "fidelity = 0.017578125\n",
      "objective = -1.9267578125\n",
      "fidelity = 0.0098876953125\n",
      "objective = -5.20361328125\n",
      "fidelity = 0.0064697265625\n",
      "objective = -3.74951171875\n",
      "fidelity = 0.0379638671875\n",
      "objective = -3.78564453125\n",
      "fidelity = 0.010986328125\n",
      "objective = -2.95654296875\n",
      "fidelity = 0.00537109375\n",
      "objective = -4.29736328125\n",
      "fidelity = 0.015380859375\n",
      "objective = -3.08642578125\n",
      "fidelity = 0.0040283203125\n",
      "objective = -4.33544921875\n",
      "fidelity = 0.0740966796875\n",
      "objective = -3.82861328125\n",
      "fidelity = 0.04541015625\n",
      "objective = -3.503662109375\n",
      "fidelity = 0.0384521484375\n",
      "objective = -2.340087890625\n",
      "fidelity = 0.0045166015625\n",
      "objective = -4.096923828125\n",
      "fidelity = 0.014404296875\n",
      "objective = -3.619384765625\n",
      "fidelity = 0.0064697265625\n",
      "objective = -4.2666015625\n",
      "fidelity = 0.0286865234375\n",
      "objective = -4.489501953125\n",
      "fidelity = 0.0128173828125\n",
      "objective = -3.773193359375\n",
      "fidelity = 0.0355224609375\n",
      "objective = -5.116943359375\n",
      "fidelity = 0.0015869140625\n",
      "objective = -3.9599609375\n",
      "fidelity = 0.0322265625\n",
      "objective = -5.283203125\n",
      "fidelity = 0.005615234375\n",
      "objective = -6.16943359375\n",
      "fidelity = 0.01806640625\n",
      "objective = -4.95458984375\n",
      "fidelity = 0.016357421875\n",
      "objective = -5.924560546875\n",
      "fidelity = 0.0091552734375\n",
      "objective = -5.271728515625\n",
      "fidelity = 0.0101318359375\n",
      "objective = -5.660888671875\n",
      "fidelity = 0.0054931640625\n",
      "objective = -6.619140625\n",
      "fidelity = 0.045654296875\n",
      "objective = -5.370849609375\n",
      "fidelity = 0.0032958984375\n",
      "objective = -6.285400390625\n",
      "fidelity = 0.002197265625\n",
      "objective = -5.284912109375\n",
      "fidelity = 0.03271484375\n",
      "objective = -5.287109375\n",
      "fidelity = 0.00634765625\n",
      "objective = -5.780517578125\n",
      "fidelity = 0.0111083984375\n",
      "objective = -5.71142578125\n",
      "fidelity = 0.001220703125\n",
      "objective = -5.7685546875\n",
      "fidelity = 0.01904296875\n",
      "objective = -5.262939453125\n",
      "fidelity = 0.0008544921875\n",
      "objective = -5.56494140625\n",
      "fidelity = 0.0015869140625\n",
      "objective = -6.087158203125\n",
      "fidelity = 0.002685546875\n",
      "objective = -5.82568359375\n",
      "fidelity = 0.01220703125\n",
      "objective = -5.1923828125\n",
      "fidelity = 0.0032958984375\n",
      "objective = -5.638916015625\n",
      "fidelity = 0.000244140625\n",
      "objective = -6.593017578125\n",
      "fidelity = 0.0\n",
      "objective = -5.03857421875\n",
      "fidelity = 0.00244140625\n",
      "objective = -6.438232421875\n",
      "fidelity = 0.01025390625\n",
      "objective = -6.0791015625\n",
      "fidelity = 0.0059814453125\n",
      "objective = -6.80517578125\n",
      "fidelity = 0.00146484375\n",
      "objective = -5.52392578125\n",
      "fidelity = 0.002685546875\n",
      "objective = -5.826171875\n",
      "fidelity = 0.0081787109375\n",
      "objective = -7.38232421875\n",
      "fidelity = 0.02099609375\n",
      "objective = -6.82763671875\n",
      "fidelity = 0.0146484375\n",
      "objective = -7.28662109375\n",
      "fidelity = 0.04052734375\n",
      "objective = -7.829833984375\n",
      "fidelity = 0.0430908203125\n",
      "objective = -5.9287109375\n",
      "fidelity = 0.010498046875\n",
      "objective = -7.53564453125\n",
      "fidelity = 0.0496826171875\n",
      "objective = -7.220947265625\n",
      "fidelity = 0.0257568359375\n",
      "objective = -7.395751953125\n",
      "fidelity = 0.0194091796875\n",
      "objective = -7.3857421875\n",
      "fidelity = 0.07373046875\n",
      "objective = -7.45849609375\n",
      "fidelity = 0.022705078125\n",
      "objective = -6.8232421875\n",
      "fidelity = 0.0185546875\n",
      "objective = -7.635986328125\n",
      "fidelity = 0.01611328125\n",
      "objective = -6.79150390625\n",
      "fidelity = 0.0223388671875\n",
      "objective = -6.990478515625\n",
      "fidelity = 0.0052490234375\n",
      "objective = -7.814697265625\n",
      "fidelity = 0.025146484375\n",
      "objective = -7.435302734375\n",
      "fidelity = 0.05419921875\n",
      "objective = -7.580322265625\n",
      "fidelity = 0.0040283203125\n",
      "objective = -7.41796875\n",
      "fidelity = 0.0205078125\n",
      "objective = -6.428955078125\n",
      "fidelity = 0.0018310546875\n",
      "objective = -7.51171875\n",
      "fidelity = 0.06103515625\n",
      "objective = -7.470703125\n",
      "fidelity = 0.021484375\n",
      "objective = -7.16259765625\n",
      "fidelity = 0.015380859375\n",
      "objective = -6.87451171875\n",
      "fidelity = 0.0029296875\n",
      "objective = -6.73828125\n",
      "fidelity = 0.0135498046875\n",
      "objective = -7.729736328125\n",
      "fidelity = 0.02783203125\n",
      "objective = -6.9560546875\n",
      "fidelity = 0.0147705078125\n",
      "objective = -6.962646484375\n",
      "fidelity = 0.0140380859375\n",
      "objective = -7.695068359375\n",
      "fidelity = 0.0361328125\n",
      "objective = -6.42822265625\n",
      "fidelity = 0.010498046875\n",
      "objective = -7.412109375\n",
      "fidelity = 0.0595703125\n",
      "objective = -7.850830078125\n",
      "fidelity = 0.0074462890625\n",
      "objective = -7.414306640625\n",
      "fidelity = 0.014404296875\n",
      "objective = -7.486083984375\n",
      "fidelity = 0.0057373046875\n"
     ]
    },
    {
     "name": "stdout",
     "output_type": "stream",
     "text": [
      "objective = -7.621826171875\n",
      "fidelity = 0.0230712890625\n",
      "objective = -7.113525390625\n",
      "fidelity = 0.01123046875\n",
      "objective = -7.44140625\n",
      "fidelity = 0.004638671875\n",
      "objective = -7.35693359375\n",
      "fidelity = 0.0074462890625\n",
      "objective = -7.3056640625\n",
      "fidelity = 0.0003662109375\n",
      "objective = -7.037353515625\n",
      "fidelity = 0.01806640625\n",
      "objective = -7.61376953125\n",
      "fidelity = 0.000732421875\n",
      "objective = -7.0751953125\n",
      "fidelity = 0.003173828125\n",
      "objective = -7.223876953125\n",
      "fidelity = 0.003662109375\n",
      "objective = -7.520751953125\n",
      "fidelity = 0.0218505859375\n",
      "objective = -7.331787109375\n",
      "fidelity = 0.015380859375\n",
      "objective = -7.292724609375\n",
      "fidelity = 0.0042724609375\n",
      "objective = -6.9443359375\n",
      "fidelity = 0.002685546875\n",
      "objective = -7.634765625\n",
      "fidelity = 0.0123291015625\n",
      "objective = -7.682373046875\n",
      "fidelity = 0.009765625\n",
      "objective = -7.155029296875\n",
      "fidelity = 0.021484375\n",
      "objective = -7.485107421875\n",
      "fidelity = 0.018310546875\n",
      "objective = -6.968994140625\n",
      "fidelity = 0.0335693359375\n",
      "objective = -7.217529296875\n",
      "fidelity = 0.0003662109375\n",
      "objective = -7.644775390625\n",
      "fidelity = 0.003662109375\n",
      "objective = -7.126708984375\n",
      "fidelity = 0.02099609375\n",
      "objective = -7.311767578125\n",
      "fidelity = 0.0084228515625\n",
      "objective = -7.565185546875\n",
      "fidelity = 0.0167236328125\n",
      "objective = -7.45458984375\n",
      "fidelity = 0.004638671875\n",
      "objective = -6.967529296875\n",
      "fidelity = 0.0008544921875\n",
      "objective = -7.395751953125\n",
      "fidelity = 0.008056640625\n",
      "objective = -7.346923828125\n",
      "fidelity = 0.006591796875\n",
      "objective = -7.14892578125\n",
      "fidelity = 0.001953125\n",
      "objective = -7.456298828125\n",
      "fidelity = 0.0089111328125\n",
      "objective = -7.21044921875\n",
      "fidelity = 0.005859375\n",
      "objective = -7.452392578125\n",
      "fidelity = 0.01123046875\n",
      "objective = -7.51513671875\n",
      "fidelity = 0.02197265625\n",
      "objective = -7.521484375\n",
      "fidelity = 0.0185546875\n",
      "objective = -7.442626953125\n",
      "fidelity = 0.00341796875\n",
      "objective = -7.440185546875\n",
      "fidelity = 0.0029296875\n",
      "objective = -7.2041015625\n",
      "fidelity = 0.0074462890625\n",
      "objective = -6.929931640625\n",
      "fidelity = 0.0010986328125\n",
      "objective = -7.6650390625\n",
      "fidelity = 0.005126953125\n",
      "objective = -7.33056640625\n",
      "fidelity = 0.0152587890625\n",
      "objective = -7.430419921875\n",
      "fidelity = 0.0059814453125\n",
      "objective = -7.52392578125\n",
      "fidelity = 0.0224609375\n",
      "objective = -7.4951171875\n",
      "fidelity = 0.003662109375\n",
      "objective = -7.29150390625\n",
      "fidelity = 0.0028076171875\n",
      "objective = -7.500244140625\n",
      "fidelity = 0.00439453125\n",
      "objective = -7.35595703125\n",
      "fidelity = 0.006591796875\n",
      "objective = -7.353515625\n",
      "fidelity = 0.0130615234375\n",
      "objective = -7.55908203125\n",
      "fidelity = 0.003173828125\n",
      "objective = -7.664306640625\n",
      "fidelity = 0.0028076171875\n",
      "objective = -7.684814453125\n",
      "fidelity = 0.0081787109375\n",
      "objective = -6.90869140625\n",
      "fidelity = 0.0172119140625\n",
      "objective = -7.240966796875\n",
      "fidelity = 0.00439453125\n",
      "objective = -7.862060546875\n",
      "fidelity = 0.012451171875\n",
      "objective = -7.400390625\n",
      "fidelity = 0.0137939453125\n",
      "objective = -7.40966796875\n",
      "fidelity = 0.00732421875\n",
      "objective = -7.6640625\n",
      "fidelity = 0.0040283203125\n",
      "objective = -7.533935546875\n",
      "fidelity = 0.0028076171875\n",
      "objective = -7.12451171875\n",
      "fidelity = 0.002685546875\n",
      "objective = -7.76806640625\n",
      "fidelity = 0.0223388671875\n",
      "objective = -7.579345703125\n",
      "fidelity = 0.004150390625\n",
      "objective = -7.442138671875\n",
      "fidelity = 0.03076171875\n",
      "objective = -7.383056640625\n",
      "fidelity = 0.00244140625\n",
      "objective = -7.42333984375\n",
      "fidelity = 0.001220703125\n",
      "objective = -7.43359375\n",
      "fidelity = 0.0069580078125\n",
      "objective = -7.594482421875\n",
      "fidelity = 0.0084228515625\n",
      "objective = -7.41796875\n",
      "fidelity = 0.0037841796875\n",
      "objective = -7.2734375\n",
      "fidelity = 0.0069580078125\n",
      "objective = -7.469970703125\n",
      "fidelity = 0.007080078125\n",
      "objective = -7.79541015625\n",
      "fidelity = 0.009521484375\n",
      "objective = -7.27490234375\n",
      "fidelity = 0.0086669921875\n",
      "objective = -7.802978515625\n",
      "fidelity = 0.005615234375\n",
      "objective = -7.5576171875\n",
      "fidelity = 0.0089111328125\n",
      "objective = -7.8818359375\n",
      "fidelity = 0.0225830078125\n",
      "objective = -7.448486328125\n",
      "fidelity = 0.0023193359375\n",
      "objective = -7.595947265625\n",
      "fidelity = 0.0091552734375\n",
      "objective = -7.5078125\n",
      "fidelity = 0.00146484375\n",
      "objective = -7.135009765625\n",
      "fidelity = 0.0015869140625\n",
      "objective = -7.6611328125\n",
      "fidelity = 0.004638671875\n",
      "objective = -7.628662109375\n",
      "fidelity = 0.0025634765625\n",
      "objective = -7.762939453125\n",
      "fidelity = 0.0062255859375\n",
      "objective = -7.498046875\n",
      "fidelity = 0.00634765625\n",
      "objective = -7.4326171875\n",
      "fidelity = 0.0020751953125\n",
      "objective = -7.760986328125\n",
      "fidelity = 0.008544921875\n",
      "objective = -7.622314453125\n",
      "fidelity = 0.002197265625\n",
      "objective = -7.500244140625\n",
      "fidelity = 0.0030517578125\n",
      "objective = -7.5634765625\n",
      "fidelity = 0.00244140625\n",
      "objective = -7.444091796875\n",
      "fidelity = 0.0015869140625\n",
      "objective = -7.591064453125\n",
      "fidelity = 0.006591796875\n",
      "objective = -7.547119140625\n",
      "fidelity = 0.0003662109375\n",
      "objective = -7.213623046875\n",
      "fidelity = 0.0081787109375\n",
      "objective = -7.5751953125\n",
      "fidelity = 0.009033203125\n",
      "objective = -7.361328125\n",
      "fidelity = 0.000732421875\n",
      "objective = -7.598876953125\n",
      "fidelity = 0.001953125\n",
      "objective = -7.47265625\n",
      "fidelity = 0.01025390625\n",
      "objective = -7.536865234375\n",
      "fidelity = 0.00634765625\n",
      "objective = -7.96923828125\n",
      "fidelity = 0.001220703125\n",
      "{   'fun': -7.938720703125,\n",
      "    'jac': None,\n",
      "    'nfev': 200,\n",
      "    'nit': None,\n",
      "    'njev': None,\n",
      "    'x': array([-2.96776798e-03, -1.42245958e+00,  2.02462553e+00, -7.35517261e-01,\n",
      "        2.28439984e+00, -1.67039207e-01, -1.56613178e+00, -3.55962285e+00,\n",
      "        3.27249578e+00,  1.57657754e+00, -4.60111631e-01, -4.81603863e-01])}\n"
     ]
    }
   ],
   "source": [
    "# run optimization to get first excited state\n",
    "result = optimizer.minimize(vqd_objective, np.random.rand(circuit.num_parameters))\n",
    "print(result)"
   ]
  },
  {
   "cell_type": "code",
   "execution_count": 36,
   "metadata": {
    "slideshow": {
     "slide_type": "slide"
    }
   },
   "outputs": [
    {
     "name": "stdout",
     "output_type": "stream",
     "text": [
      "objective = -8.044921875\n",
      "fidelity = 0.0010986328125\n"
     ]
    }
   ],
   "source": [
    "# determine energy\n",
    "estimator.estimate(result.x)\n",
    "\n",
    "# determine overlap with ground state\n",
    "fidelity.estimate(result.x, ground_state_params);"
   ]
  },
  {
   "cell_type": "markdown",
   "metadata": {
    "slideshow": {
     "slide_type": "slide"
    }
   },
   "source": [
    "### Integrate into Qiskit\n",
    "\n",
    "Implement Qiskit's `Eigensolver` interface to reuse custom algorithm in Qiskit Applications stack."
   ]
  },
  {
   "cell_type": "code",
   "execution_count": 37,
   "metadata": {},
   "outputs": [],
   "source": [
    "from qiskit.algorithms import Eigensolver, EigensolverResult\n",
    "\n",
    "class VQD(Eigensolver):\n",
    "    \n",
    "    def __init__(self, circuit, optimizer):\n",
    "        self._circuit = circuit\n",
    "        self._optimizer = optimizer\n",
    "        \n",
    "    def compute_eigenvalues(self, operator, aux_operators=None):\n",
    "        \n",
    "        # setup estimators\n",
    "        estimator = Estimator(operator, self._circuit)\n",
    "        fidelity = Fidelity(self._circuit, self._circuit)\n",
    "        \n",
    "        # compute groundstate\n",
    "        vqe = CustomVQE(self._circuit, self._optimizer)\n",
    "        vqe_result = vqe.compute_minimum_eigenvalue(operator)\n",
    "        \n",
    "        # compute first excited states\n",
    "        objective = lambda x: vqd_objective(x, estimator.estimate, \n",
    "                                            lambda y: fidelity.estimate(y, vqe_result.optimal_parameters))\n",
    "        \n",
    "        x0 = np.random.rand(self._circuit.num_parameters)\n",
    "        res = self._optimizer.minimize(objective, x0)\n",
    "                \n",
    "        # populate results\n",
    "        result = EigensolverResult()\n",
    "        result.eigenvalues = [vqe_result.eigenvalue, res.fun]        \n",
    "        return result        "
   ]
  },
  {
   "cell_type": "code",
   "execution_count": 38,
   "metadata": {
    "slideshow": {
     "slide_type": "slide"
    }
   },
   "outputs": [
    {
     "name": "stdout",
     "output_type": "stream",
     "text": [
      "{   'aux_operator_eigenvalues': None,\n",
      "    'eigenstates': None,\n",
      "    'eigenvalues': [-8.88525390625, -5.816650390625]}\n"
     ]
    }
   ],
   "source": [
    "vqd = VQD(circuit, optimizer)\n",
    "result = vqd.compute_eigenvalues(H)\n",
    "print(result)"
   ]
  },
  {
   "cell_type": "markdown",
   "metadata": {
    "slideshow": {
     "slide_type": "slide"
    }
   },
   "source": [
    "# 4. Outlook: Quantum Computational Primitives\n",
    "\n",
    "- We will move towards quantum computational primitives, powered by Qiskit Runtime, e.g., for sampling, estimation, etc.\n",
    "- These will encapsulate error mitigation and other features to improve the ease of use.\n",
    "- The complete Qiskit Algorithms & Applications stack will be extended accordingly over 2022."
   ]
  },
  {
   "cell_type": "code",
   "execution_count": null,
   "metadata": {
    "slideshow": {
     "slide_type": "slide"
    }
   },
   "outputs": [],
   "source": []
  }
 ],
 "metadata": {
  "celltoolbar": "Slideshow",
  "kernelspec": {
   "display_name": "qiskit-stable",
   "language": "python",
   "name": "qiskit-stable"
  },
  "language_info": {
   "codemirror_mode": {
    "name": "ipython",
    "version": 3
   },
   "file_extension": ".py",
   "mimetype": "text/x-python",
   "name": "python",
   "nbconvert_exporter": "python",
   "pygments_lexer": "ipython3",
   "version": "3.9.7"
  }
 },
 "nbformat": 4,
 "nbformat_minor": 2
}
